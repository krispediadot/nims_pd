{
 "cells": [
  {
   "cell_type": "code",
   "execution_count": 1,
   "id": "dec76c8b-b9cc-43b6-af1c-cdc4c7f30fee",
   "metadata": {},
   "outputs": [
    {
     "data": {
      "text/plain": [
       "39"
      ]
     },
     "execution_count": 1,
     "metadata": {},
     "output_type": "execute_result"
    }
   ],
   "source": [
    "# 39개 마커\n",
    "MARKERS = ['LFHD', 'RFHD', 'LBHD', 'RBHD', 'C7', 'LSHO', 'RSHO', 'CLAV', 'RBAK',\n",
    "           'LUPA', 'RUPA', 'STRN', 'T10', 'LELB', 'RELB', 'LFRM', 'RFRM',\n",
    "           'LWRA', 'RWRA', 'LWRB', 'RWRB', 'LFIN', 'RFIN', 'LASI', 'RASI',\n",
    "           'LPSI', 'RPSI', 'LTHI', 'RTHI', 'LKNE', 'RKNE', 'LTIB', 'RTIB',\n",
    "           'LANK', 'RANK', 'LTOE', 'RTOE', 'LHEE', 'RHEE']\n",
    "len(MARKERS)"
   ]
  },
  {
   "cell_type": "code",
   "execution_count": 2,
   "id": "543a34f5-aaa8-4e03-a564-fe02c10ec835",
   "metadata": {},
   "outputs": [],
   "source": [
    "import os\n",
    "import glob\n",
    "\n",
    "import pandas as pd\n",
    "import numpy as np\n",
    "from PIL import Image \n",
    "import tensorflow as tf\n",
    "\n",
    "from tensorflow.keras.preprocessing.image import ImageDataGenerator\n",
    "# from ..utils import gradcam"
   ]
  },
  {
   "cell_type": "code",
   "execution_count": 3,
   "id": "8aa36878-561a-4830-9563-f12e50c1c5d9",
   "metadata": {},
   "outputs": [],
   "source": [
    "DATAPATH = \"/Users/sujinlee/Desktop/nims/pd/dataset\"\n",
    "CONTROL = os.path.join(DATAPATH, \"Controls\")\n",
    "PD = os.path.join(DATAPATH, \"PD\")\n",
    "\n",
    "df_patients = pd.read_csv(os.path.join(DATAPATH, \"patients.csv\"))\n",
    "df_null_info = pd.read_csv(os.path.join(DATAPATH, \"NULL_info.csv\"))"
   ]
  },
  {
   "cell_type": "code",
   "execution_count": 4,
   "id": "d22326f6-c0ec-4445-b69c-d766265d06f9",
   "metadata": {},
   "outputs": [
    {
     "name": "stdout",
     "output_type": "stream",
     "text": [
      "Found 461 images belonging to 2 classes.\n",
      "Found 114 images belonging to 2 classes.\n"
     ]
    }
   ],
   "source": [
    "HEIGHT = 200\n",
    "WIDTH = 39\n",
    "BATCH_SIZE = 1\n",
    "\n",
    "TRAIN_DATA_PATH = DATAPATH + \"_img\"\n",
    "\n",
    "train_datagen = ImageDataGenerator(\n",
    "    #Your code here. Should at least have a rescale. Other parameters can help with overfitting.)\n",
    "    rescale=1./255,\n",
    "#     rotation_range=40,\n",
    "#     width_shift_range=0.2,\n",
    "#     height_shift_range=0.2,\n",
    "#     shear_range=0.2,\n",
    "#     zoom_range=0.2,\n",
    "#     horizontal_flip=True,\n",
    "    fill_mode='nearest',\n",
    "    validation_split=0.2)\n",
    "\n",
    "train_generator = train_datagen.flow_from_directory(\n",
    "    TRAIN_DATA_PATH,\n",
    "    target_size=(HEIGHT, WIDTH),\n",
    "    batch_size=BATCH_SIZE,\n",
    "    classes=['Controls', 'PD'],\n",
    "    class_mode='binary',\n",
    "    subset='training') # set as training data\n",
    "\n",
    "validation_generator = train_datagen.flow_from_directory(\n",
    "    TRAIN_DATA_PATH, # same directory as training data\n",
    "    target_size=(HEIGHT, WIDTH),\n",
    "    batch_size=BATCH_SIZE,\n",
    "    classes=['Controls', 'PD'],\n",
    "    class_mode='binary',\n",
    "    subset='validation') # set as validation data"
   ]
  },
  {
   "cell_type": "code",
   "execution_count": 5,
   "id": "12dde895-730a-46da-ac32-12343bb539f5",
   "metadata": {},
   "outputs": [],
   "source": [
    "import tensorflow.keras.layers as tfl\n",
    "from tensorflow.keras.optimizers import Adam"
   ]
  },
  {
   "cell_type": "code",
   "execution_count": 6,
   "id": "cd509637-3eaf-4508-8ee9-f7440d20d716",
   "metadata": {},
   "outputs": [
    {
     "name": "stderr",
     "output_type": "stream",
     "text": [
      "2022-06-10 11:12:01.042695: I tensorflow/core/platform/cpu_feature_guard.cc:142] This TensorFlow binary is optimized with oneAPI Deep Neural Network Library (oneDNN) to use the following CPU instructions in performance-critical operations:  AVX2 FMA\n",
      "To enable them in other operations, rebuild TensorFlow with the appropriate compiler flags.\n"
     ]
    }
   ],
   "source": [
    "# Note the input shape specified on your first layer must be (300,300,3)\n",
    "# You should not change the last layer\n",
    "\n",
    "model = tf.keras.models.Sequential([tfl.Conv2D(16, (7,1), (2,1), activation='relu', input_shape=(200,39,3)),\n",
    "                                    tfl.MaxPooling2D((2,2),(2,1)), \n",
    "                                    tfl.ZeroPadding2D(1),\n",
    "                                    tfl.Conv2D(32, (7,1), (2,2), activation='relu'),\n",
    "                                    tfl.MaxPooling2D((2,2),(2,2)), \n",
    "                                    tfl.Flatten(),\n",
    "                                    tfl.Dense(512, activation='relu'),\n",
    "                                    tfl.Dropout(0.5),\n",
    "                                    tfl.Dense(64, activation='relu'),\n",
    "                                    tfl.Dropout(0.5),\n",
    "                                    tfl.Dense(1, activation='sigmoid')])\n",
    "\n",
    "model.compile(loss='binary_crossentropy', optimizer=Adam(learning_rate=0.0001), metrics=['accuracy'])"
   ]
  },
  {
   "cell_type": "code",
   "execution_count": 7,
   "id": "e5ce3545-c115-4f9b-be39-a3f4071c729d",
   "metadata": {},
   "outputs": [
    {
     "name": "stdout",
     "output_type": "stream",
     "text": [
      "Model: \"sequential\"\n",
      "_________________________________________________________________\n",
      "Layer (type)                 Output Shape              Param #   \n",
      "=================================================================\n",
      "conv2d (Conv2D)              (None, 97, 39, 16)        352       \n",
      "_________________________________________________________________\n",
      "max_pooling2d (MaxPooling2D) (None, 48, 38, 16)        0         \n",
      "_________________________________________________________________\n",
      "zero_padding2d (ZeroPadding2 (None, 50, 40, 16)        0         \n",
      "_________________________________________________________________\n",
      "conv2d_1 (Conv2D)            (None, 22, 20, 32)        3616      \n",
      "_________________________________________________________________\n",
      "max_pooling2d_1 (MaxPooling2 (None, 11, 10, 32)        0         \n",
      "_________________________________________________________________\n",
      "flatten (Flatten)            (None, 3520)              0         \n",
      "_________________________________________________________________\n",
      "dense (Dense)                (None, 512)               1802752   \n",
      "_________________________________________________________________\n",
      "dropout (Dropout)            (None, 512)               0         \n",
      "_________________________________________________________________\n",
      "dense_1 (Dense)              (None, 64)                32832     \n",
      "_________________________________________________________________\n",
      "dropout_1 (Dropout)          (None, 64)                0         \n",
      "_________________________________________________________________\n",
      "dense_2 (Dense)              (None, 1)                 65        \n",
      "=================================================================\n",
      "Total params: 1,839,617\n",
      "Trainable params: 1,839,617\n",
      "Non-trainable params: 0\n",
      "_________________________________________________________________\n"
     ]
    }
   ],
   "source": [
    "model.summary()"
   ]
  },
  {
   "cell_type": "code",
   "execution_count": 8,
   "id": "dc9338cd-6cf4-4bbf-9d4f-29cb54601e9c",
   "metadata": {},
   "outputs": [
    {
     "name": "stderr",
     "output_type": "stream",
     "text": [
      "/Users/sujinlee/.virtualenvs/ml/lib/python3.9/site-packages/sklearn/utils/validation.py:70: FutureWarning: Pass classes=[0 1], y=[0 0 0 0 0 0 0 0 0 0 0 0 0 0 0 0 0 0 0 0 0 0 0 0 0 0 0 0 0 0 0 0 0 0 0 0 0\n",
      " 0 0 0 0 0 0 0 0 0 0 0 0 0 0 0 0 0 0 0 0 0 0 0 0 0 0 0 0 0 0 0 0 0 0 0 0 0\n",
      " 0 0 0 0 0 0 0 0 0 0 0 0 0 0 0 0 0 0 0 0 0 0 1 1 1 1 1 1 1 1 1 1 1 1 1 1 1\n",
      " 1 1 1 1 1 1 1 1 1 1 1 1 1 1 1 1 1 1 1 1 1 1 1 1 1 1 1 1 1 1 1 1 1 1 1 1 1\n",
      " 1 1 1 1 1 1 1 1 1 1 1 1 1 1 1 1 1 1 1 1 1 1 1 1 1 1 1 1 1 1 1 1 1 1 1 1 1\n",
      " 1 1 1 1 1 1 1 1 1 1 1 1 1 1 1 1 1 1 1 1 1 1 1 1 1 1 1 1 1 1 1 1 1 1 1 1 1\n",
      " 1 1 1 1 1 1 1 1 1 1 1 1 1 1 1 1 1 1 1 1 1 1 1 1 1 1 1 1 1 1 1 1 1 1 1 1 1\n",
      " 1 1 1 1 1 1 1 1 1 1 1 1 1 1 1 1 1 1 1 1 1 1 1 1 1 1 1 1 1 1 1 1 1 1 1 1 1\n",
      " 1 1 1 1 1 1 1 1 1 1 1 1 1 1 1 1 1 1 1 1 1 1 1 1 1 1 1 1 1 1 1 1 1 1 1 1 1\n",
      " 1 1 1 1 1 1 1 1 1 1 1 1 1 1 1 1 1 1 1 1 1 1 1 1 1 1 1 1 1 1 1 1 1 1 1 1 1\n",
      " 1 1 1 1 1 1 1 1 1 1 1 1 1 1 1 1 1 1 1 1 1 1 1 1 1 1 1 1 1 1 1 1 1 1 1 1 1\n",
      " 1 1 1 1 1 1 1 1 1 1 1 1 1 1 1 1 1 1 1 1 1 1 1 1 1 1 1 1 1 1 1 1 1 1 1 1 1\n",
      " 1 1 1 1 1 1 1 1 1 1 1 1 1 1 1 1 1] as keyword args. From version 1.0 (renaming of 0.25) passing these as positional arguments will result in an error\n",
      "  warnings.warn(f\"Pass {args_msg} as keyword args. From version \"\n"
     ]
    }
   ],
   "source": [
    "from sklearn.utils import class_weight \n",
    "import numpy as np\n",
    "\n",
    "class_weights = class_weight.compute_class_weight(\n",
    "           'balanced',\n",
    "            np.unique(train_generator.classes), \n",
    "            train_generator.classes)"
   ]
  },
  {
   "cell_type": "code",
   "execution_count": 9,
   "id": "07f98133-7cab-4961-ac37-109da18e72a6",
   "metadata": {},
   "outputs": [],
   "source": [
    "train_class_weights = dict(enumerate(class_weights))"
   ]
  },
  {
   "cell_type": "code",
   "execution_count": 14,
   "id": "c976ff92-7a1e-4871-a4c9-a4d25cbe470c",
   "metadata": {},
   "outputs": [
    {
     "data": {
      "text/plain": [
       "{0: 2.4010416666666665, 1: 0.6315068493150685}"
      ]
     },
     "execution_count": 14,
     "metadata": {},
     "output_type": "execute_result"
    }
   ],
   "source": [
    "train_class_weights"
   ]
  },
  {
   "cell_type": "code",
   "execution_count": 10,
   "id": "c0a7324d-be75-4a18-bf37-f172f516ac9e",
   "metadata": {},
   "outputs": [],
   "source": [
    "from tensorflow.keras.callbacks import EarlyStopping\n",
    "\n",
    "callback = EarlyStopping(monitor='loss', patience=5)"
   ]
  },
  {
   "cell_type": "code",
   "execution_count": 11,
   "id": "d2161e11-5bd4-47f5-aff3-4f56f9bf74f9",
   "metadata": {},
   "outputs": [
    {
     "name": "stderr",
     "output_type": "stream",
     "text": [
      "/Users/sujinlee/.virtualenvs/ml/lib/python3.9/site-packages/keras/engine/training.py:1972: UserWarning: `Model.fit_generator` is deprecated and will be removed in a future version. Please use `Model.fit`, which supports generators.\n",
      "  warnings.warn('`Model.fit_generator` is deprecated and '\n",
      "2022-06-10 11:12:12.566558: I tensorflow/compiler/mlir/mlir_graph_optimization_pass.cc:185] None of the MLIR Optimization Passes are enabled (registered 2)\n"
     ]
    },
    {
     "name": "stdout",
     "output_type": "stream",
     "text": [
      "Epoch 1/100\n",
      "461/461 [==============================] - 4s 6ms/step - loss: 0.7595 - accuracy: 0.5054 - val_loss: 0.6598 - val_accuracy: 0.7982\n",
      "Epoch 2/100\n",
      "461/461 [==============================] - 3s 6ms/step - loss: 0.7067 - accuracy: 0.6030 - val_loss: 0.6686 - val_accuracy: 0.7982\n",
      "Epoch 3/100\n",
      "461/461 [==============================] - 3s 6ms/step - loss: 0.6960 - accuracy: 0.6204 - val_loss: 0.6418 - val_accuracy: 0.7982\n",
      "Epoch 4/100\n",
      "461/461 [==============================] - 3s 6ms/step - loss: 0.6869 - accuracy: 0.7093 - val_loss: 0.6537 - val_accuracy: 0.7807\n",
      "Epoch 5/100\n",
      "461/461 [==============================] - 3s 6ms/step - loss: 0.6689 - accuracy: 0.6898 - val_loss: 0.6406 - val_accuracy: 0.6579\n",
      "Epoch 6/100\n",
      "461/461 [==============================] - 3s 6ms/step - loss: 0.6319 - accuracy: 0.7289 - val_loss: 0.7436 - val_accuracy: 0.4386\n",
      "Epoch 7/100\n",
      "461/461 [==============================] - 3s 6ms/step - loss: 0.5597 - accuracy: 0.7223 - val_loss: 0.6870 - val_accuracy: 0.5175\n",
      "Epoch 8/100\n",
      "461/461 [==============================] - 3s 6ms/step - loss: 0.5027 - accuracy: 0.7874 - val_loss: 0.6253 - val_accuracy: 0.5965\n",
      "Epoch 9/100\n",
      "461/461 [==============================] - 3s 6ms/step - loss: 0.4400 - accuracy: 0.8547 - val_loss: 0.6014 - val_accuracy: 0.6842\n",
      "Epoch 10/100\n",
      "461/461 [==============================] - 3s 6ms/step - loss: 0.3819 - accuracy: 0.8525 - val_loss: 0.5852 - val_accuracy: 0.6930\n",
      "Epoch 11/100\n",
      "461/461 [==============================] - 3s 6ms/step - loss: 0.2921 - accuracy: 0.9089 - val_loss: 0.6339 - val_accuracy: 0.6842\n",
      "Epoch 12/100\n",
      "461/461 [==============================] - 3s 6ms/step - loss: 0.2185 - accuracy: 0.9284 - val_loss: 0.6075 - val_accuracy: 0.7105\n",
      "Epoch 13/100\n",
      "461/461 [==============================] - 3s 6ms/step - loss: 0.1953 - accuracy: 0.9371 - val_loss: 1.0044 - val_accuracy: 0.5877\n",
      "Epoch 14/100\n",
      "461/461 [==============================] - 3s 6ms/step - loss: 0.1463 - accuracy: 0.9566 - val_loss: 0.7666 - val_accuracy: 0.6579\n",
      "Epoch 15/100\n",
      "461/461 [==============================] - 3s 6ms/step - loss: 0.1250 - accuracy: 0.9631 - val_loss: 0.6939 - val_accuracy: 0.6842\n",
      "Epoch 16/100\n",
      "461/461 [==============================] - 3s 6ms/step - loss: 0.0694 - accuracy: 0.9870 - val_loss: 0.8331 - val_accuracy: 0.7281\n",
      "Epoch 17/100\n",
      "461/461 [==============================] - 3s 6ms/step - loss: 0.0557 - accuracy: 0.9826 - val_loss: 0.6828 - val_accuracy: 0.7281\n",
      "Epoch 18/100\n",
      "461/461 [==============================] - 3s 7ms/step - loss: 0.0310 - accuracy: 0.9978 - val_loss: 0.8024 - val_accuracy: 0.7807\n",
      "Epoch 19/100\n",
      "461/461 [==============================] - 3s 6ms/step - loss: 0.0304 - accuracy: 0.9957 - val_loss: 0.9382 - val_accuracy: 0.7281\n",
      "Epoch 20/100\n",
      "461/461 [==============================] - 3s 6ms/step - loss: 0.0254 - accuracy: 0.9978 - val_loss: 0.9066 - val_accuracy: 0.7544\n",
      "Epoch 21/100\n",
      "461/461 [==============================] - 3s 6ms/step - loss: 0.0281 - accuracy: 0.9957 - val_loss: 0.9570 - val_accuracy: 0.7719\n",
      "Epoch 22/100\n",
      "461/461 [==============================] - 3s 7ms/step - loss: 0.0139 - accuracy: 1.0000 - val_loss: 1.0559 - val_accuracy: 0.7456\n",
      "Epoch 23/100\n",
      "461/461 [==============================] - 3s 7ms/step - loss: 0.0091 - accuracy: 1.0000 - val_loss: 1.1448 - val_accuracy: 0.7807\n",
      "Epoch 24/100\n",
      "461/461 [==============================] - 3s 7ms/step - loss: 0.0170 - accuracy: 0.9957 - val_loss: 1.0468 - val_accuracy: 0.7018\n",
      "Epoch 25/100\n",
      "461/461 [==============================] - 4s 8ms/step - loss: 0.0061 - accuracy: 1.0000 - val_loss: 1.2441 - val_accuracy: 0.7368\n",
      "Epoch 26/100\n",
      "461/461 [==============================] - 3s 7ms/step - loss: 0.0076 - accuracy: 1.0000 - val_loss: 1.1915 - val_accuracy: 0.7105\n",
      "Epoch 27/100\n",
      "461/461 [==============================] - 3s 7ms/step - loss: 0.0055 - accuracy: 1.0000 - val_loss: 1.3018 - val_accuracy: 0.7368\n",
      "Epoch 28/100\n",
      "461/461 [==============================] - 3s 7ms/step - loss: 0.0149 - accuracy: 0.9978 - val_loss: 1.3721 - val_accuracy: 0.6667\n",
      "Epoch 29/100\n",
      "461/461 [==============================] - 3s 6ms/step - loss: 0.0139 - accuracy: 0.9978 - val_loss: 1.2890 - val_accuracy: 0.7632\n",
      "Epoch 30/100\n",
      "461/461 [==============================] - 3s 7ms/step - loss: 0.0071 - accuracy: 1.0000 - val_loss: 1.2792 - val_accuracy: 0.7368\n",
      "Epoch 31/100\n",
      "461/461 [==============================] - 3s 6ms/step - loss: 0.0035 - accuracy: 1.0000 - val_loss: 1.3713 - val_accuracy: 0.7368\n",
      "Epoch 32/100\n",
      "461/461 [==============================] - 3s 6ms/step - loss: 0.0020 - accuracy: 1.0000 - val_loss: 1.4440 - val_accuracy: 0.7368\n",
      "Epoch 33/100\n",
      "461/461 [==============================] - 3s 7ms/step - loss: 0.0074 - accuracy: 0.9957 - val_loss: 1.3623 - val_accuracy: 0.7368\n",
      "Epoch 34/100\n",
      "461/461 [==============================] - 3s 6ms/step - loss: 0.0016 - accuracy: 1.0000 - val_loss: 1.5099 - val_accuracy: 0.7456\n",
      "Epoch 35/100\n",
      "461/461 [==============================] - 3s 7ms/step - loss: 0.0058 - accuracy: 0.9978 - val_loss: 1.2324 - val_accuracy: 0.7632\n",
      "Epoch 36/100\n",
      "461/461 [==============================] - 3s 7ms/step - loss: 0.0030 - accuracy: 1.0000 - val_loss: 1.6335 - val_accuracy: 0.7632\n",
      "Epoch 37/100\n",
      "461/461 [==============================] - 3s 6ms/step - loss: 0.0013 - accuracy: 1.0000 - val_loss: 1.7160 - val_accuracy: 0.7105\n",
      "Epoch 38/100\n",
      "461/461 [==============================] - 3s 6ms/step - loss: 0.0013 - accuracy: 1.0000 - val_loss: 1.8377 - val_accuracy: 0.7368\n",
      "Epoch 39/100\n",
      "461/461 [==============================] - 3s 6ms/step - loss: 3.9422e-04 - accuracy: 1.0000 - val_loss: 1.8989 - val_accuracy: 0.7368\n",
      "Epoch 40/100\n",
      "461/461 [==============================] - 4s 8ms/step - loss: 2.4643e-04 - accuracy: 1.0000 - val_loss: 2.0799 - val_accuracy: 0.7719\n",
      "Epoch 41/100\n",
      "461/461 [==============================] - 3s 7ms/step - loss: 4.2483e-04 - accuracy: 1.0000 - val_loss: 2.0106 - val_accuracy: 0.7456\n",
      "Epoch 42/100\n",
      "461/461 [==============================] - 4s 8ms/step - loss: 0.0013 - accuracy: 1.0000 - val_loss: 1.8177 - val_accuracy: 0.7456\n",
      "Epoch 43/100\n",
      "461/461 [==============================] - 3s 7ms/step - loss: 0.0189 - accuracy: 0.9935 - val_loss: 1.3262 - val_accuracy: 0.7368\n",
      "Epoch 44/100\n",
      "461/461 [==============================] - 3s 7ms/step - loss: 0.0046 - accuracy: 1.0000 - val_loss: 1.4085 - val_accuracy: 0.7193\n",
      "Epoch 45/100\n",
      "461/461 [==============================] - 3s 7ms/step - loss: 6.9248e-04 - accuracy: 1.0000 - val_loss: 1.5425 - val_accuracy: 0.7281\n"
     ]
    }
   ],
   "source": [
    "history = model.fit_generator(\n",
    "                train_generator,\n",
    "                steps_per_epoch = train_generator.samples // BATCH_SIZE,\n",
    "                validation_data = validation_generator, \n",
    "                validation_steps = validation_generator.samples // BATCH_SIZE,\n",
    "                class_weight = train_class_weights,\n",
    "                epochs = 100,\n",
    "                callbacks = [callback])"
   ]
  },
  {
   "cell_type": "code",
   "execution_count": 12,
   "id": "8ef7ae8f-ff23-48c4-bc72-c798e37c4e79",
   "metadata": {},
   "outputs": [
    {
     "data": {
      "image/png": "[encoded data removed]",
      "text/plain": [
       "<Figure size 432x288 with 1 Axes>"
      ]
     },
     "metadata": {
      "needs_background": "light"
     },
     "output_type": "display_data"
    }
   ],
   "source": [
    "import matplotlib.pyplot as plt\n",
    "\n",
    "plt.plot(history.history[\"loss\"], label='train_loss')\n",
    "plt.plot(history.history[\"val_loss\"], label='val_loss')\n",
    "plt.legend()\n",
    "plt.title(\"Loss\")\n",
    "plt.show()"
   ]
  },
  {
   "cell_type": "code",
   "execution_count": 13,
   "id": "84b63cd7-8c1c-46f4-88de-4fe9df899951",
   "metadata": {},
   "outputs": [
    {
     "data": {
      "image/png": "[encoded data removed]",
      "text/plain": [
       "<Figure size 432x288 with 1 Axes>"
      ]
     },
     "metadata": {
      "needs_background": "light"
     },
     "output_type": "display_data"
    }
   ],
   "source": [
    "plt.plot(history.history[\"accuracy\"], label='train')\n",
    "plt.plot(history.history[\"val_accuracy\"], label='val')\n",
    "plt.legend()\n",
    "plt.title(\"Accuracy\")\n",
    "plt.show()"
   ]
  }
 ],
 "metadata": {
  "kernelspec": {
   "display_name": "ml",
   "language": "python",
   "name": "ml"
  },
  "language_info": {
   "codemirror_mode": {
    "name": "ipython",
    "version": 3
   },
   "file_extension": ".py",
   "mimetype": "text/x-python",
   "name": "python",
   "nbconvert_exporter": "python",
   "pygments_lexer": "ipython3",
   "version": "3.9.10"
  }
 },
 "nbformat": 4,
 "nbformat_minor": 5
}
