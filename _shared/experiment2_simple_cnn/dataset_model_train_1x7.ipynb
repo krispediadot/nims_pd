{
 "cells": [
  {
   "cell_type": "code",
   "execution_count": 1,
   "id": "dec76c8b-b9cc-43b6-af1c-cdc4c7f30fee",
   "metadata": {},
   "outputs": [
    {
     "data": {
      "text/plain": [
       "39"
      ]
     },
     "execution_count": 1,
     "metadata": {},
     "output_type": "execute_result"
    }
   ],
   "source": [
    "# 39개 마커\n",
    "MARKERS = ['LFHD', 'RFHD', 'LBHD', 'RBHD', 'C7', 'LSHO', 'RSHO', 'CLAV', 'RBAK',\n",
    "           'LUPA', 'RUPA', 'STRN', 'T10', 'LELB', 'RELB', 'LFRM', 'RFRM',\n",
    "           'LWRA', 'RWRA', 'LWRB', 'RWRB', 'LFIN', 'RFIN', 'LASI', 'RASI',\n",
    "           'LPSI', 'RPSI', 'LTHI', 'RTHI', 'LKNE', 'RKNE', 'LTIB', 'RTIB',\n",
    "           'LANK', 'RANK', 'LTOE', 'RTOE', 'LHEE', 'RHEE']\n",
    "len(MARKERS)"
   ]
  },
  {
   "cell_type": "code",
   "execution_count": 4,
   "id": "543a34f5-aaa8-4e03-a564-fe02c10ec835",
   "metadata": {},
   "outputs": [],
   "source": [
    "import os\n",
    "import glob\n",
    "\n",
    "import pandas as pd\n",
    "import numpy as np\n",
    "from PIL import Image \n",
    "import tensorflow as tf\n",
    "\n",
    "from tensorflow.keras.preprocessing.image import ImageDataGenerator\n",
    "# from ..utils import gradcam"
   ]
  },
  {
   "cell_type": "code",
   "execution_count": 5,
   "id": "8aa36878-561a-4830-9563-f12e50c1c5d9",
   "metadata": {},
   "outputs": [],
   "source": [
    "DATAPATH = \"/Users/sujinlee/Desktop/nims/pd/dataset\"\n",
    "CONTROL = os.path.join(DATAPATH, \"Controls\")\n",
    "PD = os.path.join(DATAPATH, \"PD\")\n",
    "\n",
    "df_patients = pd.read_csv(os.path.join(DATAPATH, \"patients.csv\"))\n",
    "df_null_info = pd.read_csv(os.path.join(DATAPATH, \"NULL_info.csv\"))"
   ]
  },
  {
   "cell_type": "code",
   "execution_count": 6,
   "id": "d22326f6-c0ec-4445-b69c-d766265d06f9",
   "metadata": {},
   "outputs": [
    {
     "name": "stdout",
     "output_type": "stream",
     "text": [
      "Found 461 images belonging to 2 classes.\n",
      "Found 114 images belonging to 2 classes.\n"
     ]
    }
   ],
   "source": [
    "HEIGHT = 200\n",
    "WIDTH = 39\n",
    "BATCH_SIZE = 1\n",
    "\n",
    "TRAIN_DATA_PATH = DATAPATH + \"_img\"\n",
    "\n",
    "train_datagen = ImageDataGenerator(\n",
    "    #Your code here. Should at least have a rescale. Other parameters can help with overfitting.)\n",
    "    rescale=1./255,\n",
    "#     rotation_range=40,\n",
    "#     width_shift_range=0.2,\n",
    "#     height_shift_range=0.2,\n",
    "#     shear_range=0.2,\n",
    "#     zoom_range=0.2,\n",
    "#     horizontal_flip=True,\n",
    "    fill_mode='nearest',\n",
    "    validation_split=0.2)\n",
    "\n",
    "train_generator = train_datagen.flow_from_directory(\n",
    "    TRAIN_DATA_PATH,\n",
    "    target_size=(HEIGHT, WIDTH),\n",
    "    batch_size=BATCH_SIZE,\n",
    "    classes=['Controls', 'PD'],\n",
    "    class_mode='binary',\n",
    "    subset='training') # set as training data\n",
    "\n",
    "validation_generator = train_datagen.flow_from_directory(\n",
    "    TRAIN_DATA_PATH, # same directory as training data\n",
    "    target_size=(HEIGHT, WIDTH),\n",
    "    batch_size=BATCH_SIZE,\n",
    "    classes=['Controls', 'PD'],\n",
    "    class_mode='binary',\n",
    "    subset='validation') # set as validation data"
   ]
  },
  {
   "cell_type": "code",
   "execution_count": 7,
   "id": "12dde895-730a-46da-ac32-12343bb539f5",
   "metadata": {},
   "outputs": [],
   "source": [
    "import tensorflow.keras.layers as tfl\n",
    "from tensorflow.keras.optimizers import Adam"
   ]
  },
  {
   "cell_type": "code",
   "execution_count": 8,
   "id": "cd509637-3eaf-4508-8ee9-f7440d20d716",
   "metadata": {},
   "outputs": [
    {
     "name": "stderr",
     "output_type": "stream",
     "text": [
      "2022-06-10 07:42:24.573355: I tensorflow/core/platform/cpu_feature_guard.cc:142] This TensorFlow binary is optimized with oneAPI Deep Neural Network Library (oneDNN) to use the following CPU instructions in performance-critical operations:  AVX2 FMA\n",
      "To enable them in other operations, rebuild TensorFlow with the appropriate compiler flags.\n"
     ]
    }
   ],
   "source": [
    "# Note the input shape specified on your first layer must be (300,300,3)\n",
    "# You should not change the last layer\n",
    "\n",
    "model = tf.keras.models.Sequential([tfl.Conv2D(16, (1,7), (2,1), activation='relu', input_shape=(200,39,3)),\n",
    "                                    tfl.MaxPooling2D((2,2),(2,1)), \n",
    "                                    tfl.ZeroPadding2D(1),\n",
    "                                    tfl.Conv2D(32, (1,7), (2,2), activation='relu'),\n",
    "                                    tfl.MaxPooling2D((2,2),(2,2)), \n",
    "                                    tfl.Flatten(),\n",
    "                                    tfl.Dense(512, activation='relu'),\n",
    "                                    tfl.Dropout(0.5),\n",
    "                                    tfl.Dense(64, activation='relu'),\n",
    "                                    tfl.Dropout(0.5),\n",
    "                                    tfl.Dense(1, activation='sigmoid')])\n",
    "\n",
    "model.compile(loss='binary_crossentropy', optimizer=Adam(learning_rate=0.0001), metrics=['accuracy'])"
   ]
  },
  {
   "cell_type": "code",
   "execution_count": 9,
   "id": "e5ce3545-c115-4f9b-be39-a3f4071c729d",
   "metadata": {},
   "outputs": [
    {
     "name": "stdout",
     "output_type": "stream",
     "text": [
      "Model: \"sequential\"\n",
      "_________________________________________________________________\n",
      "Layer (type)                 Output Shape              Param #   \n",
      "=================================================================\n",
      "conv2d (Conv2D)              (None, 100, 33, 16)       352       \n",
      "_________________________________________________________________\n",
      "max_pooling2d (MaxPooling2D) (None, 50, 32, 16)        0         \n",
      "_________________________________________________________________\n",
      "zero_padding2d (ZeroPadding2 (None, 52, 34, 16)        0         \n",
      "_________________________________________________________________\n",
      "conv2d_1 (Conv2D)            (None, 26, 14, 32)        3616      \n",
      "_________________________________________________________________\n",
      "max_pooling2d_1 (MaxPooling2 (None, 13, 7, 32)         0         \n",
      "_________________________________________________________________\n",
      "flatten (Flatten)            (None, 2912)              0         \n",
      "_________________________________________________________________\n",
      "dense (Dense)                (None, 512)               1491456   \n",
      "_________________________________________________________________\n",
      "dropout (Dropout)            (None, 512)               0         \n",
      "_________________________________________________________________\n",
      "dense_1 (Dense)              (None, 64)                32832     \n",
      "_________________________________________________________________\n",
      "dropout_1 (Dropout)          (None, 64)                0         \n",
      "_________________________________________________________________\n",
      "dense_2 (Dense)              (None, 1)                 65        \n",
      "=================================================================\n",
      "Total params: 1,528,321\n",
      "Trainable params: 1,528,321\n",
      "Non-trainable params: 0\n",
      "_________________________________________________________________\n"
     ]
    }
   ],
   "source": [
    "model.summary()"
   ]
  },
  {
   "cell_type": "code",
   "execution_count": 10,
   "id": "dc9338cd-6cf4-4bbf-9d4f-29cb54601e9c",
   "metadata": {},
   "outputs": [
    {
     "name": "stderr",
     "output_type": "stream",
     "text": [
      "/Users/sujinlee/.virtualenvs/ml/lib/python3.9/site-packages/sklearn/utils/validation.py:70: FutureWarning: Pass classes=[0 1], y=[0 0 0 0 0 0 0 0 0 0 0 0 0 0 0 0 0 0 0 0 0 0 0 0 0 0 0 0 0 0 0 0 0 0 0 0 0\n",
      " 0 0 0 0 0 0 0 0 0 0 0 0 0 0 0 0 0 0 0 0 0 0 0 0 0 0 0 0 0 0 0 0 0 0 0 0 0\n",
      " 0 0 0 0 0 0 0 0 0 0 0 0 0 0 0 0 0 0 0 0 0 0 1 1 1 1 1 1 1 1 1 1 1 1 1 1 1\n",
      " 1 1 1 1 1 1 1 1 1 1 1 1 1 1 1 1 1 1 1 1 1 1 1 1 1 1 1 1 1 1 1 1 1 1 1 1 1\n",
      " 1 1 1 1 1 1 1 1 1 1 1 1 1 1 1 1 1 1 1 1 1 1 1 1 1 1 1 1 1 1 1 1 1 1 1 1 1\n",
      " 1 1 1 1 1 1 1 1 1 1 1 1 1 1 1 1 1 1 1 1 1 1 1 1 1 1 1 1 1 1 1 1 1 1 1 1 1\n",
      " 1 1 1 1 1 1 1 1 1 1 1 1 1 1 1 1 1 1 1 1 1 1 1 1 1 1 1 1 1 1 1 1 1 1 1 1 1\n",
      " 1 1 1 1 1 1 1 1 1 1 1 1 1 1 1 1 1 1 1 1 1 1 1 1 1 1 1 1 1 1 1 1 1 1 1 1 1\n",
      " 1 1 1 1 1 1 1 1 1 1 1 1 1 1 1 1 1 1 1 1 1 1 1 1 1 1 1 1 1 1 1 1 1 1 1 1 1\n",
      " 1 1 1 1 1 1 1 1 1 1 1 1 1 1 1 1 1 1 1 1 1 1 1 1 1 1 1 1 1 1 1 1 1 1 1 1 1\n",
      " 1 1 1 1 1 1 1 1 1 1 1 1 1 1 1 1 1 1 1 1 1 1 1 1 1 1 1 1 1 1 1 1 1 1 1 1 1\n",
      " 1 1 1 1 1 1 1 1 1 1 1 1 1 1 1 1 1 1 1 1 1 1 1 1 1 1 1 1 1 1 1 1 1 1 1 1 1\n",
      " 1 1 1 1 1 1 1 1 1 1 1 1 1 1 1 1 1] as keyword args. From version 1.0 (renaming of 0.25) passing these as positional arguments will result in an error\n",
      "  warnings.warn(f\"Pass {args_msg} as keyword args. From version \"\n"
     ]
    }
   ],
   "source": [
    "from sklearn.utils import class_weight \n",
    "import numpy as np\n",
    "\n",
    "class_weights = class_weight.compute_class_weight(\n",
    "           'balanced',\n",
    "            np.unique(train_generator.classes), \n",
    "            train_generator.classes)"
   ]
  },
  {
   "cell_type": "code",
   "execution_count": 11,
   "id": "07f98133-7cab-4961-ac37-109da18e72a6",
   "metadata": {},
   "outputs": [],
   "source": [
    "train_class_weights = dict(enumerate(class_weights))"
   ]
  },
  {
   "cell_type": "code",
   "execution_count": 12,
   "id": "c0a7324d-be75-4a18-bf37-f172f516ac9e",
   "metadata": {},
   "outputs": [],
   "source": [
    "from tensorflow.keras.callbacks import EarlyStopping\n",
    "\n",
    "callback = EarlyStopping(monitor='loss', patience=5)"
   ]
  },
  {
   "cell_type": "code",
   "execution_count": 13,
   "id": "d2161e11-5bd4-47f5-aff3-4f56f9bf74f9",
   "metadata": {},
   "outputs": [
    {
     "name": "stderr",
     "output_type": "stream",
     "text": [
      "/Users/sujinlee/.virtualenvs/ml/lib/python3.9/site-packages/keras/engine/training.py:1972: UserWarning: `Model.fit_generator` is deprecated and will be removed in a future version. Please use `Model.fit`, which supports generators.\n",
      "  warnings.warn('`Model.fit_generator` is deprecated and '\n",
      "2022-06-10 07:42:37.414641: I tensorflow/compiler/mlir/mlir_graph_optimization_pass.cc:185] None of the MLIR Optimization Passes are enabled (registered 2)\n"
     ]
    },
    {
     "name": "stdout",
     "output_type": "stream",
     "text": [
      "Epoch 1/100\n",
      "461/461 [==============================] - 3s 6ms/step - loss: 0.7079 - accuracy: 0.6074 - val_loss: 0.6559 - val_accuracy: 0.7807\n",
      "Epoch 2/100\n",
      "461/461 [==============================] - 3s 6ms/step - loss: 0.6892 - accuracy: 0.5900 - val_loss: 0.5517 - val_accuracy: 0.7982\n",
      "Epoch 3/100\n",
      "461/461 [==============================] - 3s 6ms/step - loss: 0.6841 - accuracy: 0.6464 - val_loss: 0.6909 - val_accuracy: 0.5000\n",
      "Epoch 4/100\n",
      "461/461 [==============================] - 3s 6ms/step - loss: 0.6540 - accuracy: 0.6312 - val_loss: 0.6263 - val_accuracy: 0.7368\n",
      "Epoch 5/100\n",
      "461/461 [==============================] - 2s 5ms/step - loss: 0.6439 - accuracy: 0.6573 - val_loss: 0.7807 - val_accuracy: 0.3772\n",
      "Epoch 6/100\n",
      "461/461 [==============================] - 2s 5ms/step - loss: 0.6203 - accuracy: 0.6681 - val_loss: 0.6672 - val_accuracy: 0.5439\n",
      "Epoch 7/100\n",
      "461/461 [==============================] - 2s 5ms/step - loss: 0.5978 - accuracy: 0.6573 - val_loss: 0.6638 - val_accuracy: 0.6053\n",
      "Epoch 8/100\n",
      "461/461 [==============================] - 2s 5ms/step - loss: 0.5557 - accuracy: 0.7549 - val_loss: 0.7335 - val_accuracy: 0.4912\n",
      "Epoch 9/100\n",
      "461/461 [==============================] - 2s 5ms/step - loss: 0.5359 - accuracy: 0.7332 - val_loss: 0.7351 - val_accuracy: 0.4825\n",
      "Epoch 10/100\n",
      "461/461 [==============================] - 2s 5ms/step - loss: 0.5037 - accuracy: 0.7657 - val_loss: 0.6883 - val_accuracy: 0.6316\n",
      "Epoch 11/100\n",
      "461/461 [==============================] - 2s 5ms/step - loss: 0.4344 - accuracy: 0.8330 - val_loss: 0.7350 - val_accuracy: 0.6579\n",
      "Epoch 12/100\n",
      "461/461 [==============================] - 2s 5ms/step - loss: 0.3827 - accuracy: 0.8308 - val_loss: 0.6879 - val_accuracy: 0.7281\n",
      "Epoch 13/100\n",
      "461/461 [==============================] - 2s 5ms/step - loss: 0.3218 - accuracy: 0.8764 - val_loss: 0.7665 - val_accuracy: 0.5789\n",
      "Epoch 14/100\n",
      "461/461 [==============================] - 2s 5ms/step - loss: 0.2713 - accuracy: 0.9111 - val_loss: 0.8414 - val_accuracy: 0.5789\n",
      "Epoch 15/100\n",
      "461/461 [==============================] - 2s 5ms/step - loss: 0.2051 - accuracy: 0.9436 - val_loss: 0.8798 - val_accuracy: 0.6491\n",
      "Epoch 16/100\n",
      "461/461 [==============================] - 2s 5ms/step - loss: 0.1551 - accuracy: 0.9501 - val_loss: 0.8959 - val_accuracy: 0.7544\n",
      "Epoch 17/100\n",
      "461/461 [==============================] - 3s 6ms/step - loss: 0.1347 - accuracy: 0.9566 - val_loss: 0.9368 - val_accuracy: 0.7018\n",
      "Epoch 18/100\n",
      "461/461 [==============================] - 2s 5ms/step - loss: 0.1039 - accuracy: 0.9675 - val_loss: 1.2697 - val_accuracy: 0.7982\n",
      "Epoch 19/100\n",
      "461/461 [==============================] - 3s 5ms/step - loss: 0.0787 - accuracy: 0.9805 - val_loss: 1.0623 - val_accuracy: 0.7281\n",
      "Epoch 20/100\n",
      "461/461 [==============================] - 3s 5ms/step - loss: 0.0380 - accuracy: 0.9957 - val_loss: 1.4193 - val_accuracy: 0.7982\n",
      "Epoch 21/100\n",
      "461/461 [==============================] - 3s 6ms/step - loss: 0.0498 - accuracy: 0.9892 - val_loss: 1.2137 - val_accuracy: 0.7544\n",
      "Epoch 22/100\n",
      "461/461 [==============================] - 3s 6ms/step - loss: 0.0401 - accuracy: 0.9957 - val_loss: 1.3747 - val_accuracy: 0.7895\n",
      "Epoch 23/100\n",
      "461/461 [==============================] - 3s 6ms/step - loss: 0.0390 - accuracy: 0.9848 - val_loss: 1.4254 - val_accuracy: 0.7193\n",
      "Epoch 24/100\n",
      "461/461 [==============================] - 3s 6ms/step - loss: 0.0279 - accuracy: 0.9957 - val_loss: 1.3592 - val_accuracy: 0.7105\n",
      "Epoch 25/100\n",
      "461/461 [==============================] - 3s 6ms/step - loss: 0.0329 - accuracy: 0.9935 - val_loss: 1.1781 - val_accuracy: 0.7456\n",
      "Epoch 26/100\n",
      "461/461 [==============================] - 3s 5ms/step - loss: 0.0206 - accuracy: 0.9978 - val_loss: 1.4388 - val_accuracy: 0.7193\n",
      "Epoch 27/100\n",
      "461/461 [==============================] - 2s 5ms/step - loss: 0.0113 - accuracy: 0.9978 - val_loss: 1.5291 - val_accuracy: 0.6579\n",
      "Epoch 28/100\n",
      "461/461 [==============================] - 2s 5ms/step - loss: 0.0138 - accuracy: 0.9978 - val_loss: 1.5358 - val_accuracy: 0.7281\n",
      "Epoch 29/100\n",
      "461/461 [==============================] - 3s 6ms/step - loss: 0.0086 - accuracy: 0.9978 - val_loss: 1.7732 - val_accuracy: 0.7895\n",
      "Epoch 30/100\n",
      "461/461 [==============================] - 3s 6ms/step - loss: 0.0081 - accuracy: 1.0000 - val_loss: 1.7538 - val_accuracy: 0.7456\n",
      "Epoch 31/100\n",
      "461/461 [==============================] - 3s 6ms/step - loss: 0.0027 - accuracy: 1.0000 - val_loss: 1.8888 - val_accuracy: 0.7368\n",
      "Epoch 32/100\n",
      "461/461 [==============================] - 3s 6ms/step - loss: 0.0034 - accuracy: 1.0000 - val_loss: 1.8678 - val_accuracy: 0.7368\n",
      "Epoch 33/100\n",
      "461/461 [==============================] - 3s 5ms/step - loss: 0.0223 - accuracy: 0.9892 - val_loss: 1.4157 - val_accuracy: 0.6930\n",
      "Epoch 34/100\n",
      "461/461 [==============================] - 3s 5ms/step - loss: 0.0077 - accuracy: 1.0000 - val_loss: 1.7631 - val_accuracy: 0.7632\n",
      "Epoch 35/100\n",
      "461/461 [==============================] - 3s 6ms/step - loss: 0.0036 - accuracy: 1.0000 - val_loss: 1.7918 - val_accuracy: 0.7193\n",
      "Epoch 36/100\n",
      "461/461 [==============================] - 3s 6ms/step - loss: 0.0029 - accuracy: 1.0000 - val_loss: 2.2228 - val_accuracy: 0.7807\n"
     ]
    }
   ],
   "source": [
    "history = model.fit_generator(\n",
    "                train_generator,\n",
    "                steps_per_epoch = train_generator.samples // BATCH_SIZE,\n",
    "                validation_data = validation_generator, \n",
    "                validation_steps = validation_generator.samples // BATCH_SIZE,\n",
    "                class_weight = train_class_weights,\n",
    "                epochs = 100,\n",
    "                callbacks = [callback])"
   ]
  },
  {
   "cell_type": "code",
   "execution_count": 14,
   "id": "8ef7ae8f-ff23-48c4-bc72-c798e37c4e79",
   "metadata": {},
   "outputs": [
    {
     "data": {
      "image/png": "[encoded data removed]",
      "text/plain": [
       "<Figure size 432x288 with 1 Axes>"
      ]
     },
     "metadata": {
      "needs_background": "light"
     },
     "output_type": "display_data"
    }
   ],
   "source": [
    "import matplotlib.pyplot as plt\n",
    "\n",
    "plt.plot(history.history[\"loss\"], label='train_loss')\n",
    "plt.plot(history.history[\"val_loss\"], label='val_loss')\n",
    "plt.legend()\n",
    "plt.title(\"Loss\")\n",
    "plt.show()"
   ]
  },
  {
   "cell_type": "code",
   "execution_count": 15,
   "id": "84b63cd7-8c1c-46f4-88de-4fe9df899951",
   "metadata": {},
   "outputs": [
    {
     "data": {
      "image/png": "[encoded data removed]",
      "text/plain": [
       "<Figure size 432x288 with 1 Axes>"
      ]
     },
     "metadata": {
      "needs_background": "light"
     },
     "output_type": "display_data"
    }
   ],
   "source": [
    "plt.plot(history.history[\"accuracy\"], label='train')\n",
    "plt.plot(history.history[\"val_accuracy\"], label='val')\n",
    "plt.legend()\n",
    "plt.title(\"Accuracy\")\n",
    "plt.show()"
   ]
  }
 ],
 "metadata": {
  "kernelspec": {
   "display_name": "ml",
   "language": "python",
   "name": "ml"
  },
  "language_info": {
   "codemirror_mode": {
    "name": "ipython",
    "version": 3
   },
   "file_extension": ".py",
   "mimetype": "text/x-python",
   "name": "python",
   "nbconvert_exporter": "python",
   "pygments_lexer": "ipython3",
   "version": "3.9.10"
  }
 },
 "nbformat": 4,
 "nbformat_minor": 5
}
