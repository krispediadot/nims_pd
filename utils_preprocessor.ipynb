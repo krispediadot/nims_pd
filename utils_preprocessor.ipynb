{
 "cells": [
  {
   "cell_type": "markdown",
   "id": "6a2ca2fc-f1c9-4b29-a487-3609ec5390f5",
   "metadata": {},
   "source": [
    "#### code: utils/preprocessor.py "
   ]
  },
  {
   "cell_type": "markdown",
   "id": "ffc79b61-fd27-48d2-b07e-8ca990ca4d0c",
   "metadata": {},
   "source": [
    "## 1. Raw data Info"
   ]
  },
  {
   "cell_type": "code",
   "execution_count": 1,
   "id": "b6f9d8b8-9de7-48b8-a64c-4649f7d15526",
   "metadata": {},
   "outputs": [],
   "source": [
    "import os\n",
    "import glob\n",
    "\n",
    "RAWDATAPATH = \"./FW&BW_Rawdata/\"\n",
    "RAW_CONTROL = os.path.join(RAWDATAPATH, \"Controls\")\n",
    "RAW_PD = os.path.join(RAWDATAPATH, \"PD\")"
   ]
  },
  {
   "cell_type": "code",
   "execution_count": 2,
   "id": "6795e585-64e1-4704-b5d1-726f584e4adb",
   "metadata": {},
   "outputs": [
    {
     "name": "stdout",
     "output_type": "stream",
     "text": [
      "Controls: 22\n",
      "      PD: 83\n"
     ]
    }
   ],
   "source": [
    "# RAW data check\n",
    "\n",
    "files = glob.glob(os.path.join(RAW_CONTROL, \"*.csv\"))\n",
    "fnames = set([ f.split('_')[1] for f in files ])\n",
    "print(\"Controls:\", len(fnames))\n",
    "\n",
    "files = glob.glob(os.path.join(RAW_PD, \"*.csv\"))\n",
    "fnames = set([ f.split('_')[1] for f in files ])\n",
    "print(\"      PD:\", len(fnames))"
   ]
  },
  {
   "cell_type": "markdown",
   "id": "17d2e0d4-6e57-4756-8cf2-de8a8b331e9d",
   "metadata": {},
   "source": [
    "## 2. Prep"
   ]
  },
  {
   "cell_type": "code",
   "execution_count": 3,
   "id": "1d650765-1015-4193-b899-352427d78ed6",
   "metadata": {},
   "outputs": [],
   "source": [
    "import os\n",
    "import glob\n",
    "import pandas as pd\n",
    "\n",
    "from utils.preprocessor import Preprocessor"
   ]
  },
  {
   "cell_type": "code",
   "execution_count": 4,
   "id": "42d7e337-d08c-43ad-93c0-34af950538e0",
   "metadata": {},
   "outputs": [],
   "source": [
    "p = Preprocessor()\n",
    "p.set_datasetpath(\"./dataset_/\")"
   ]
  },
  {
   "cell_type": "code",
   "execution_count": 5,
   "id": "65ba478a-0943-4cbb-889d-2b3c8e5819cf",
   "metadata": {},
   "outputs": [
    {
     "name": "stdout",
     "output_type": "stream",
     "text": [
      "RAW data path: ./FW&BW_Rawdata/\n",
      "DATASET path: ./dataset_/\n"
     ]
    }
   ],
   "source": [
    "RAWDATAPATH = p.get_rawdatapath()\n",
    "RAW_CONTROL = os.path.join(RAWDATAPATH, \"Controls\")\n",
    "RAW_PD = os.path.join(RAWDATAPATH, \"PD\")\n",
    "\n",
    "DATASETPATH = p.get_datasetpath()\n",
    "DATA_CONTROL = os.path.join(DATASETPATH, \"Controls\")\n",
    "DATA_PD = os.path.join(DATASETPATH, \"PD\")\n",
    "\n",
    "print(\"RAW data path:\", RAWDATAPATH)\n",
    "print(\"DATASET path:\", DATASETPATH)"
   ]
  },
  {
   "cell_type": "code",
   "execution_count": 6,
   "id": "9913f3f5-fa83-4258-b997-160b71c81788",
   "metadata": {},
   "outputs": [],
   "source": [
    "p.generate_prep_data(p.RAW_CONTROL)\n",
    "p.generate_prep_data(p.RAW_PD)"
   ]
  },
  {
   "cell_type": "code",
   "execution_count": 7,
   "id": "a484c12d-701e-4920-9801-f5b280ddbb00",
   "metadata": {},
   "outputs": [
    {
     "name": "stdout",
     "output_type": "stream",
     "text": [
      "Controls: 22\n",
      "      PD: 83\n"
     ]
    }
   ],
   "source": [
    "# DATASET check\n",
    "files = glob.glob(os.path.join(DATA_CONTROL, \"*.csv\"))\n",
    "fnames = set([ f.split('/')[-1].split('_')[1] for f in files ])\n",
    "print(\"Controls:\", len(fnames))\n",
    "\n",
    "files = glob.glob(os.path.join(DATA_PD, \"*.csv\"))\n",
    "fnames = set([ f.split('/')[-1].split('_')[1] for f in files ])\n",
    "print(\"      PD:\", len(fnames))"
   ]
  },
  {
   "cell_type": "code",
   "execution_count": 8,
   "id": "fd0f24e1-b6f9-4fc9-88f6-fa72fa17398d",
   "metadata": {},
   "outputs": [
    {
     "data": {
      "text/html": [
       "<div>\n",
       "<style scoped>\n",
       "    .dataframe tbody tr th:only-of-type {\n",
       "        vertical-align: middle;\n",
       "    }\n",
       "\n",
       "    .dataframe tbody tr th {\n",
       "        vertical-align: top;\n",
       "    }\n",
       "\n",
       "    .dataframe thead th {\n",
       "        text-align: right;\n",
       "    }\n",
       "</style>\n",
       "<table border=\"1\" class=\"dataframe\">\n",
       "  <thead>\n",
       "    <tr style=\"text-align: right;\">\n",
       "      <th></th>\n",
       "      <th>Frame</th>\n",
       "      <th>Sub Frame</th>\n",
       "      <th>LFHD_X</th>\n",
       "      <th>LFHD_Y</th>\n",
       "      <th>LFHD_Z</th>\n",
       "      <th>RFHD_X</th>\n",
       "      <th>RFHD_Y</th>\n",
       "      <th>RFHD_Z</th>\n",
       "      <th>LBHD_X</th>\n",
       "      <th>LBHD_Y</th>\n",
       "      <th>...</th>\n",
       "      <th>RHEE_Z</th>\n",
       "      <th>RTOE_X</th>\n",
       "      <th>RTOE_Y</th>\n",
       "      <th>RTOE_Z</th>\n",
       "      <th>CentreOfMass_X</th>\n",
       "      <th>CentreOfMass_Y</th>\n",
       "      <th>CentreOfMass_Z</th>\n",
       "      <th>CentreOfMassFloor_X</th>\n",
       "      <th>CentreOfMassFloor_Y</th>\n",
       "      <th>CentreOfMassFloor_Z</th>\n",
       "    </tr>\n",
       "  </thead>\n",
       "  <tbody>\n",
       "    <tr>\n",
       "      <th>0</th>\n",
       "      <td>268</td>\n",
       "      <td>0</td>\n",
       "      <td>29.265129</td>\n",
       "      <td>-1798.913330</td>\n",
       "      <td>1544.079468</td>\n",
       "      <td>154.573624</td>\n",
       "      <td>-1816.260010</td>\n",
       "      <td>1540.643677</td>\n",
       "      <td>3.690291</td>\n",
       "      <td>-1956.970581</td>\n",
       "      <td>...</td>\n",
       "      <td>42.554436</td>\n",
       "      <td>175.393265</td>\n",
       "      <td>-1647.394531</td>\n",
       "      <td>36.231594</td>\n",
       "      <td>57.355850</td>\n",
       "      <td>-1894.350098</td>\n",
       "      <td>895.836060</td>\n",
       "      <td>57.355850</td>\n",
       "      <td>-1894.350098</td>\n",
       "      <td>0.0</td>\n",
       "    </tr>\n",
       "    <tr>\n",
       "      <th>1</th>\n",
       "      <td>269</td>\n",
       "      <td>0</td>\n",
       "      <td>29.352283</td>\n",
       "      <td>-1798.661255</td>\n",
       "      <td>1544.129395</td>\n",
       "      <td>154.664612</td>\n",
       "      <td>-1815.953369</td>\n",
       "      <td>1540.686768</td>\n",
       "      <td>3.790516</td>\n",
       "      <td>-1956.681763</td>\n",
       "      <td>...</td>\n",
       "      <td>42.554855</td>\n",
       "      <td>175.376556</td>\n",
       "      <td>-1647.390991</td>\n",
       "      <td>36.228561</td>\n",
       "      <td>57.396896</td>\n",
       "      <td>-1894.069824</td>\n",
       "      <td>895.889099</td>\n",
       "      <td>57.396896</td>\n",
       "      <td>-1894.069824</td>\n",
       "      <td>0.0</td>\n",
       "    </tr>\n",
       "    <tr>\n",
       "      <th>2</th>\n",
       "      <td>270</td>\n",
       "      <td>0</td>\n",
       "      <td>29.750246</td>\n",
       "      <td>-1797.463257</td>\n",
       "      <td>1544.362427</td>\n",
       "      <td>155.074432</td>\n",
       "      <td>-1814.608032</td>\n",
       "      <td>1540.865479</td>\n",
       "      <td>4.229190</td>\n",
       "      <td>-1955.381592</td>\n",
       "      <td>...</td>\n",
       "      <td>42.556519</td>\n",
       "      <td>175.305527</td>\n",
       "      <td>-1647.374878</td>\n",
       "      <td>36.215965</td>\n",
       "      <td>57.574863</td>\n",
       "      <td>-1892.818726</td>\n",
       "      <td>896.114502</td>\n",
       "      <td>57.574863</td>\n",
       "      <td>-1892.818726</td>\n",
       "      <td>0.0</td>\n",
       "    </tr>\n",
       "    <tr>\n",
       "      <th>3</th>\n",
       "      <td>271</td>\n",
       "      <td>0</td>\n",
       "      <td>30.678474</td>\n",
       "      <td>-1794.646606</td>\n",
       "      <td>1544.890381</td>\n",
       "      <td>156.004288</td>\n",
       "      <td>-1811.641968</td>\n",
       "      <td>1541.246338</td>\n",
       "      <td>5.198111</td>\n",
       "      <td>-1952.459229</td>\n",
       "      <td>...</td>\n",
       "      <td>42.559532</td>\n",
       "      <td>175.158356</td>\n",
       "      <td>-1647.339233</td>\n",
       "      <td>36.189949</td>\n",
       "      <td>57.970444</td>\n",
       "      <td>-1890.030029</td>\n",
       "      <td>896.604065</td>\n",
       "      <td>57.970444</td>\n",
       "      <td>-1890.030029</td>\n",
       "      <td>0.0</td>\n",
       "    </tr>\n",
       "    <tr>\n",
       "      <th>4</th>\n",
       "      <td>272</td>\n",
       "      <td>0</td>\n",
       "      <td>32.203342</td>\n",
       "      <td>-1789.978149</td>\n",
       "      <td>1545.755371</td>\n",
       "      <td>157.507278</td>\n",
       "      <td>-1806.884277</td>\n",
       "      <td>1541.856567</td>\n",
       "      <td>6.739291</td>\n",
       "      <td>-1947.737183</td>\n",
       "      <td>...</td>\n",
       "      <td>42.560993</td>\n",
       "      <td>174.946518</td>\n",
       "      <td>-1647.286743</td>\n",
       "      <td>36.152313</td>\n",
       "      <td>58.622211</td>\n",
       "      <td>-1885.537109</td>\n",
       "      <td>897.389099</td>\n",
       "      <td>58.622211</td>\n",
       "      <td>-1885.537109</td>\n",
       "      <td>0.0</td>\n",
       "    </tr>\n",
       "  </tbody>\n",
       "</table>\n",
       "<p>5 rows × 125 columns</p>\n",
       "</div>"
      ],
      "text/plain": [
       "   Frame  Sub Frame     LFHD_X       LFHD_Y       LFHD_Z      RFHD_X  \\\n",
       "0    268          0  29.265129 -1798.913330  1544.079468  154.573624   \n",
       "1    269          0  29.352283 -1798.661255  1544.129395  154.664612   \n",
       "2    270          0  29.750246 -1797.463257  1544.362427  155.074432   \n",
       "3    271          0  30.678474 -1794.646606  1544.890381  156.004288   \n",
       "4    272          0  32.203342 -1789.978149  1545.755371  157.507278   \n",
       "\n",
       "        RFHD_Y       RFHD_Z    LBHD_X       LBHD_Y  ...     RHEE_Z  \\\n",
       "0 -1816.260010  1540.643677  3.690291 -1956.970581  ...  42.554436   \n",
       "1 -1815.953369  1540.686768  3.790516 -1956.681763  ...  42.554855   \n",
       "2 -1814.608032  1540.865479  4.229190 -1955.381592  ...  42.556519   \n",
       "3 -1811.641968  1541.246338  5.198111 -1952.459229  ...  42.559532   \n",
       "4 -1806.884277  1541.856567  6.739291 -1947.737183  ...  42.560993   \n",
       "\n",
       "       RTOE_X       RTOE_Y     RTOE_Z  CentreOfMass_X  CentreOfMass_Y  \\\n",
       "0  175.393265 -1647.394531  36.231594       57.355850    -1894.350098   \n",
       "1  175.376556 -1647.390991  36.228561       57.396896    -1894.069824   \n",
       "2  175.305527 -1647.374878  36.215965       57.574863    -1892.818726   \n",
       "3  175.158356 -1647.339233  36.189949       57.970444    -1890.030029   \n",
       "4  174.946518 -1647.286743  36.152313       58.622211    -1885.537109   \n",
       "\n",
       "   CentreOfMass_Z  CentreOfMassFloor_X  CentreOfMassFloor_Y  \\\n",
       "0      895.836060            57.355850         -1894.350098   \n",
       "1      895.889099            57.396896         -1894.069824   \n",
       "2      896.114502            57.574863         -1892.818726   \n",
       "3      896.604065            57.970444         -1890.030029   \n",
       "4      897.389099            58.622211         -1885.537109   \n",
       "\n",
       "   CentreOfMassFloor_Z  \n",
       "0                  0.0  \n",
       "1                  0.0  \n",
       "2                  0.0  \n",
       "3                  0.0  \n",
       "4                  0.0  \n",
       "\n",
       "[5 rows x 125 columns]"
      ]
     },
     "execution_count": 8,
     "metadata": {},
     "output_type": "execute_result"
    }
   ],
   "source": [
    "# DATASET file format\n",
    "df_prep = pd.read_csv(files[0])\n",
    "df_prep.head()"
   ]
  },
  {
   "cell_type": "markdown",
   "id": "65f95e64-a81b-47a7-bc4b-352c4f5a54eb",
   "metadata": {},
   "source": [
    "## 3. Patients fw & bw data counts"
   ]
  },
  {
   "cell_type": "code",
   "execution_count": 9,
   "id": "782038b5-b113-4754-ac69-fac2dcea907a",
   "metadata": {},
   "outputs": [],
   "source": [
    "p.generate_patients_fwbw_info_table()"
   ]
  },
  {
   "cell_type": "code",
   "execution_count": 10,
   "id": "3e63ccd2-74b3-4eff-8175-ef88a5f9a7e7",
   "metadata": {},
   "outputs": [
    {
     "data": {
      "text/html": [
       "<div>\n",
       "<style scoped>\n",
       "    .dataframe tbody tr th:only-of-type {\n",
       "        vertical-align: middle;\n",
       "    }\n",
       "\n",
       "    .dataframe tbody tr th {\n",
       "        vertical-align: top;\n",
       "    }\n",
       "\n",
       "    .dataframe thead th {\n",
       "        text-align: right;\n",
       "    }\n",
       "</style>\n",
       "<table border=\"1\" class=\"dataframe\">\n",
       "  <thead>\n",
       "    <tr style=\"text-align: right;\">\n",
       "      <th></th>\n",
       "      <th>Patient</th>\n",
       "      <th>Category</th>\n",
       "      <th>cntFW</th>\n",
       "      <th>cntBW</th>\n",
       "    </tr>\n",
       "  </thead>\n",
       "  <tbody>\n",
       "    <tr>\n",
       "      <th>0</th>\n",
       "      <td>BHY</td>\n",
       "      <td>Controls</td>\n",
       "      <td>3</td>\n",
       "      <td>3</td>\n",
       "    </tr>\n",
       "    <tr>\n",
       "      <th>1</th>\n",
       "      <td>CHH</td>\n",
       "      <td>Controls</td>\n",
       "      <td>3</td>\n",
       "      <td>3</td>\n",
       "    </tr>\n",
       "    <tr>\n",
       "      <th>2</th>\n",
       "      <td>HSH</td>\n",
       "      <td>Controls</td>\n",
       "      <td>3</td>\n",
       "      <td>3</td>\n",
       "    </tr>\n",
       "    <tr>\n",
       "      <th>3</th>\n",
       "      <td>JHY</td>\n",
       "      <td>Controls</td>\n",
       "      <td>3</td>\n",
       "      <td>3</td>\n",
       "    </tr>\n",
       "    <tr>\n",
       "      <th>4</th>\n",
       "      <td>JJG</td>\n",
       "      <td>Controls</td>\n",
       "      <td>3</td>\n",
       "      <td>3</td>\n",
       "    </tr>\n",
       "  </tbody>\n",
       "</table>\n",
       "</div>"
      ],
      "text/plain": [
       "  Patient  Category  cntFW  cntBW\n",
       "0     BHY  Controls      3      3\n",
       "1     CHH  Controls      3      3\n",
       "2     HSH  Controls      3      3\n",
       "3     JHY  Controls      3      3\n",
       "4     JJG  Controls      3      3"
      ]
     },
     "execution_count": 10,
     "metadata": {},
     "output_type": "execute_result"
    }
   ],
   "source": [
    "# patients.csv format\n",
    "patients = pd.read_csv(os.path.join(DATASETPATH, \"patients.csv\"))\n",
    "patients.head(5)"
   ]
  }
 ],
 "metadata": {
  "kernelspec": {
   "display_name": "ml",
   "language": "python",
   "name": "ml"
  },
  "language_info": {
   "codemirror_mode": {
    "name": "ipython",
    "version": 3
   },
   "file_extension": ".py",
   "mimetype": "text/x-python",
   "name": "python",
   "nbconvert_exporter": "python",
   "pygments_lexer": "ipython3",
   "version": "3.9.10"
  }
 },
 "nbformat": 4,
 "nbformat_minor": 5
}
