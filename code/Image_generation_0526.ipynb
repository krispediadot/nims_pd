{
  "nbformat": 4,
  "nbformat_minor": 0,
  "metadata": {
    "colab": {
      "name": "Image_generation_0526.ipynb",
      "provenance": [],
      "toc_visible": true,
      "collapsed_sections": []
    },
    "kernelspec": {
      "name": "python3",
      "display_name": "Python 3"
    },
    "language_info": {
      "name": "python"
    }
  },
  "cells": [
    {
      "cell_type": "code",
      "source": [
        "from google.colab import drive\n",
        "drive.mount('/content/drive')"
      ],
      "metadata": {
        "colab": {
          "base_uri": "https://localhost:8080/"
        },
        "id": "0nF7hxoncKov",
        "outputId": "37ea2efd-d9e6-4e1f-b5a1-3179e88e2005"
      },
      "execution_count": 2,
      "outputs": [
        {
          "output_type": "stream",
          "name": "stdout",
          "text": [
            "Mounted at /content/drive\n"
          ]
        }
      ]
    },
    {
      "cell_type": "markdown",
      "source": [
        "## Settings"
      ],
      "metadata": {
        "id": "ftZr0d8ncdvs"
      }
    },
    {
      "cell_type": "code",
      "source": [
        "%cd /content/drive/MyDrive/Parkinson"
      ],
      "metadata": {
        "colab": {
          "base_uri": "https://localhost:8080/"
        },
        "id": "ZNnP3ytocXQj",
        "outputId": "174428c7-8cce-4e04-e1f2-61a6fe453ea7"
      },
      "execution_count": 3,
      "outputs": [
        {
          "output_type": "stream",
          "name": "stdout",
          "text": [
            "/content/drive/MyDrive/Parkinson\n"
          ]
        }
      ]
    },
    {
      "cell_type": "code",
      "source": [
        "import os\n",
        "import glob\n",
        "\n",
        "import pandas as pd\n",
        "import numpy as np\n",
        "from PIL import Image\n",
        "\n",
        "from collections import defaultdict\n",
        "import matplotlib.pyplot as plt\n",
        "import seaborn as sns"
      ],
      "metadata": {
        "id": "d_Oo89APcfJD"
      },
      "execution_count": 41,
      "outputs": []
    },
    {
      "cell_type": "code",
      "execution_count": 5,
      "metadata": {
        "colab": {
          "base_uri": "https://localhost:8080/"
        },
        "id": "w9AR-o_2cF6v",
        "outputId": "beab8656-0ffc-4d35-e8c0-0aee04a74dd8"
      },
      "outputs": [
        {
          "output_type": "execute_result",
          "data": {
            "text/plain": [
              "39"
            ]
          },
          "metadata": {},
          "execution_count": 5
        }
      ],
      "source": [
        "# 39개 마커\n",
        "MARKERS = ['LFHD', 'RFHD', 'LBHD', 'RBHD', 'C7', 'LSHO', 'RSHO', 'CLAV', 'RBAK',\n",
        "           'LUPA', 'RUPA', 'STRN', 'T10', 'LELB', 'RELB', 'LFRM', 'RFRM',\n",
        "           'LWRA', 'RWRA', 'LWRB', 'RWRB', 'LFIN', 'RFIN', 'LASI', 'RASI',\n",
        "           'LPSI', 'RPSI', 'LTHI', 'RTHI', 'LKNE', 'RKNE', 'LTIB', 'RTIB',\n",
        "           'LANK', 'RANK', 'LTOE', 'RTOE', 'LHEE', 'RHEE']"
      ]
    },
    {
      "cell_type": "code",
      "source": [
        "DATAPATH = \"./dataset\"\n",
        "CONTROL = os.path.join(DATAPATH, \"Controls\")\n",
        "PD = os.path.join(DATAPATH, \"PD\")"
      ],
      "metadata": {
        "id": "R0TTAYdecmUC"
      },
      "execution_count": 6,
      "outputs": []
    },
    {
      "cell_type": "code",
      "source": [
        "# Save as Image\n",
        "IMGPATH = DATAPATH + \"_img\"\n",
        "IMG_CONTROL = os.path.join(IMGPATH, 'Controls')\n",
        "IMG_PD = os.path.join(IMGPATH, 'PD')\n",
        "\n",
        "if not os.path.exists(IMGPATH):\n",
        "    os.mkdir(IMGPATH)\n",
        "if not os.path.exists(IMG_CONTROL):\n",
        "    os.mkdir(IMG_CONTROL)\n",
        "if not os.path.exists(IMG_PD):\n",
        "    os.mkdir(IMG_PD)\n",
        "\n",
        "# Save as Numpy array\n",
        "NPPATH = DATAPATH + \"_np\"\n",
        "NP_CONTROL = os.path.join(NPPATH, 'Controls')\n",
        "NP_PD = os.path.join(NPPATH, 'PD')\n",
        "\n",
        "if not os.path.exists(NPPATH):\n",
        "    os.mkdir(NPPATH)\n",
        "if not os.path.exists(NP_CONTROL):\n",
        "    os.mkdir(NP_CONTROL)\n",
        "if not os.path.exists(NP_PD):\n",
        "    os.mkdir(NP_PD)"
      ],
      "metadata": {
        "id": "VCe-N4rzdnvA"
      },
      "execution_count": 34,
      "outputs": []
    },
    {
      "cell_type": "markdown",
      "source": [
        "## Data Loading"
      ],
      "metadata": {
        "id": "kd2ssEj3dagc"
      }
    },
    {
      "cell_type": "code",
      "source": [
        "df_csv = pd.read_csv(\"csvinfo.csv\")\n",
        "df_csv"
      ],
      "metadata": {
        "colab": {
          "base_uri": "https://localhost:8080/",
          "height": 424
        },
        "id": "R3ChUIGMt5Cf",
        "outputId": "219b52e5-a668-4613-fe8d-ebef843039b1"
      },
      "execution_count": 22,
      "outputs": [
        {
          "output_type": "execute_result",
          "data": {
            "text/plain": [
              "                                    path  category name trial  frame length  \\\n",
              "0    ./dataset/Controls/PREP_BHY_BW1.csv  Controls  BHY   BW1           565   \n",
              "1    ./dataset/Controls/PREP_BHY_BW2.csv  Controls  BHY   BW2           472   \n",
              "2    ./dataset/Controls/PREP_BHY_BW3.csv  Controls  BHY   BW3           486   \n",
              "3    ./dataset/Controls/PREP_CHH_BW1.csv  Controls  CHH   BW1           808   \n",
              "4    ./dataset/Controls/PREP_CHH_BW2.csv  Controls  CHH   BW2           801   \n",
              "..                                   ...       ...  ...   ...           ...   \n",
              "603        ./dataset/PD/PREP_YSC_FW2.csv        PD  YSC   FW2           228   \n",
              "604        ./dataset/PD/PREP_YSC_FW3.csv        PD  YSC   FW3           237   \n",
              "605        ./dataset/PD/PREP_YYS_FW1.csv        PD  YYS   FW1           279   \n",
              "606        ./dataset/PD/PREP_YYS_FW2.csv        PD  YYS   FW2           258   \n",
              "607        ./dataset/PD/PREP_YYS_FW3.csv        PD  YYS   FW3           254   \n",
              "\n",
              "     remove LFHD RFHD LBHD RBHD  ... LKNE RKNE LTIB RTIB LANK RANK LTOE RTOE  \\\n",
              "0     False  NaN  NaN  NaN  NaN  ...  NaN  NaN  NaN  NaN  NaN  NaN  NaN  NaN   \n",
              "1     False  NaN  NaN  NaN  NaN  ...  NaN  NaN  NaN  NaN  NaN  NaN  NaN  NaN   \n",
              "2     False  NaN  NaN  NaN  NaN  ...  NaN  NaN  NaN  NaN  NaN  NaN  NaN  NaN   \n",
              "3     False  NaN  NaN  NaN  NaN  ...  NaN  NaN  NaN  NaN  NaN  NaN  NaN  NaN   \n",
              "4     False  NaN  NaN  NaN  NaN  ...  NaN  NaN  NaN  NaN  NaN  NaN  NaN  NaN   \n",
              "..      ...  ...  ...  ...  ...  ...  ...  ...  ...  ...  ...  ...  ...  ...   \n",
              "603   False  NaN  NaN  NaN  NaN  ...  NaN  NaN  NaN  NaN  NaN  NaN  NaN  NaN   \n",
              "604   False  NaN  NaN  NaN  NaN  ...  NaN  NaN  NaN  NaN  NaN  NaN  NaN  NaN   \n",
              "605   False  NaN  NaN  NaN  NaN  ...  NaN  NaN  NaN  NaN  NaN  NaN  NaN  NaN   \n",
              "606   False  NaN  NaN  NaN  NaN  ...  NaN  NaN  NaN  NaN  NaN  NaN  NaN  NaN   \n",
              "607   False  NaN  NaN  NaN  NaN  ...  NaN  NaN  NaN  NaN  NaN  NaN  NaN  NaN   \n",
              "\n",
              "    LHEE     RHEE  \n",
              "0    NaN      NaN  \n",
              "1    NaN      NaN  \n",
              "2    NaN      NaN  \n",
              "3    NaN      NaN  \n",
              "4    NaN      NaN  \n",
              "..   ...      ...  \n",
              "603  NaN      NaN  \n",
              "604  NaN  354:356  \n",
              "605  NaN      NaN  \n",
              "606  NaN      NaN  \n",
              "607  NaN      NaN  \n",
              "\n",
              "[608 rows x 45 columns]"
            ],
            "text/html": [
              "\n",
              "  <div id=\"df-980ad61c-46e5-43ec-bdd9-71676adcfa12\">\n",
              "    <div class=\"colab-df-container\">\n",
              "      <div>\n",
              "<style scoped>\n",
              "    .dataframe tbody tr th:only-of-type {\n",
              "        vertical-align: middle;\n",
              "    }\n",
              "\n",
              "    .dataframe tbody tr th {\n",
              "        vertical-align: top;\n",
              "    }\n",
              "\n",
              "    .dataframe thead th {\n",
              "        text-align: right;\n",
              "    }\n",
              "</style>\n",
              "<table border=\"1\" class=\"dataframe\">\n",
              "  <thead>\n",
              "    <tr style=\"text-align: right;\">\n",
              "      <th></th>\n",
              "      <th>path</th>\n",
              "      <th>category</th>\n",
              "      <th>name</th>\n",
              "      <th>trial</th>\n",
              "      <th>frame length</th>\n",
              "      <th>remove</th>\n",
              "      <th>LFHD</th>\n",
              "      <th>RFHD</th>\n",
              "      <th>LBHD</th>\n",
              "      <th>RBHD</th>\n",
              "      <th>...</th>\n",
              "      <th>LKNE</th>\n",
              "      <th>RKNE</th>\n",
              "      <th>LTIB</th>\n",
              "      <th>RTIB</th>\n",
              "      <th>LANK</th>\n",
              "      <th>RANK</th>\n",
              "      <th>LTOE</th>\n",
              "      <th>RTOE</th>\n",
              "      <th>LHEE</th>\n",
              "      <th>RHEE</th>\n",
              "    </tr>\n",
              "  </thead>\n",
              "  <tbody>\n",
              "    <tr>\n",
              "      <th>0</th>\n",
              "      <td>./dataset/Controls/PREP_BHY_BW1.csv</td>\n",
              "      <td>Controls</td>\n",
              "      <td>BHY</td>\n",
              "      <td>BW1</td>\n",
              "      <td>565</td>\n",
              "      <td>False</td>\n",
              "      <td>NaN</td>\n",
              "      <td>NaN</td>\n",
              "      <td>NaN</td>\n",
              "      <td>NaN</td>\n",
              "      <td>...</td>\n",
              "      <td>NaN</td>\n",
              "      <td>NaN</td>\n",
              "      <td>NaN</td>\n",
              "      <td>NaN</td>\n",
              "      <td>NaN</td>\n",
              "      <td>NaN</td>\n",
              "      <td>NaN</td>\n",
              "      <td>NaN</td>\n",
              "      <td>NaN</td>\n",
              "      <td>NaN</td>\n",
              "    </tr>\n",
              "    <tr>\n",
              "      <th>1</th>\n",
              "      <td>./dataset/Controls/PREP_BHY_BW2.csv</td>\n",
              "      <td>Controls</td>\n",
              "      <td>BHY</td>\n",
              "      <td>BW2</td>\n",
              "      <td>472</td>\n",
              "      <td>False</td>\n",
              "      <td>NaN</td>\n",
              "      <td>NaN</td>\n",
              "      <td>NaN</td>\n",
              "      <td>NaN</td>\n",
              "      <td>...</td>\n",
              "      <td>NaN</td>\n",
              "      <td>NaN</td>\n",
              "      <td>NaN</td>\n",
              "      <td>NaN</td>\n",
              "      <td>NaN</td>\n",
              "      <td>NaN</td>\n",
              "      <td>NaN</td>\n",
              "      <td>NaN</td>\n",
              "      <td>NaN</td>\n",
              "      <td>NaN</td>\n",
              "    </tr>\n",
              "    <tr>\n",
              "      <th>2</th>\n",
              "      <td>./dataset/Controls/PREP_BHY_BW3.csv</td>\n",
              "      <td>Controls</td>\n",
              "      <td>BHY</td>\n",
              "      <td>BW3</td>\n",
              "      <td>486</td>\n",
              "      <td>False</td>\n",
              "      <td>NaN</td>\n",
              "      <td>NaN</td>\n",
              "      <td>NaN</td>\n",
              "      <td>NaN</td>\n",
              "      <td>...</td>\n",
              "      <td>NaN</td>\n",
              "      <td>NaN</td>\n",
              "      <td>NaN</td>\n",
              "      <td>NaN</td>\n",
              "      <td>NaN</td>\n",
              "      <td>NaN</td>\n",
              "      <td>NaN</td>\n",
              "      <td>NaN</td>\n",
              "      <td>NaN</td>\n",
              "      <td>NaN</td>\n",
              "    </tr>\n",
              "    <tr>\n",
              "      <th>3</th>\n",
              "      <td>./dataset/Controls/PREP_CHH_BW1.csv</td>\n",
              "      <td>Controls</td>\n",
              "      <td>CHH</td>\n",
              "      <td>BW1</td>\n",
              "      <td>808</td>\n",
              "      <td>False</td>\n",
              "      <td>NaN</td>\n",
              "      <td>NaN</td>\n",
              "      <td>NaN</td>\n",
              "      <td>NaN</td>\n",
              "      <td>...</td>\n",
              "      <td>NaN</td>\n",
              "      <td>NaN</td>\n",
              "      <td>NaN</td>\n",
              "      <td>NaN</td>\n",
              "      <td>NaN</td>\n",
              "      <td>NaN</td>\n",
              "      <td>NaN</td>\n",
              "      <td>NaN</td>\n",
              "      <td>NaN</td>\n",
              "      <td>NaN</td>\n",
              "    </tr>\n",
              "    <tr>\n",
              "      <th>4</th>\n",
              "      <td>./dataset/Controls/PREP_CHH_BW2.csv</td>\n",
              "      <td>Controls</td>\n",
              "      <td>CHH</td>\n",
              "      <td>BW2</td>\n",
              "      <td>801</td>\n",
              "      <td>False</td>\n",
              "      <td>NaN</td>\n",
              "      <td>NaN</td>\n",
              "      <td>NaN</td>\n",
              "      <td>NaN</td>\n",
              "      <td>...</td>\n",
              "      <td>NaN</td>\n",
              "      <td>NaN</td>\n",
              "      <td>NaN</td>\n",
              "      <td>NaN</td>\n",
              "      <td>NaN</td>\n",
              "      <td>NaN</td>\n",
              "      <td>NaN</td>\n",
              "      <td>NaN</td>\n",
              "      <td>NaN</td>\n",
              "      <td>NaN</td>\n",
              "    </tr>\n",
              "    <tr>\n",
              "      <th>...</th>\n",
              "      <td>...</td>\n",
              "      <td>...</td>\n",
              "      <td>...</td>\n",
              "      <td>...</td>\n",
              "      <td>...</td>\n",
              "      <td>...</td>\n",
              "      <td>...</td>\n",
              "      <td>...</td>\n",
              "      <td>...</td>\n",
              "      <td>...</td>\n",
              "      <td>...</td>\n",
              "      <td>...</td>\n",
              "      <td>...</td>\n",
              "      <td>...</td>\n",
              "      <td>...</td>\n",
              "      <td>...</td>\n",
              "      <td>...</td>\n",
              "      <td>...</td>\n",
              "      <td>...</td>\n",
              "      <td>...</td>\n",
              "      <td>...</td>\n",
              "    </tr>\n",
              "    <tr>\n",
              "      <th>603</th>\n",
              "      <td>./dataset/PD/PREP_YSC_FW2.csv</td>\n",
              "      <td>PD</td>\n",
              "      <td>YSC</td>\n",
              "      <td>FW2</td>\n",
              "      <td>228</td>\n",
              "      <td>False</td>\n",
              "      <td>NaN</td>\n",
              "      <td>NaN</td>\n",
              "      <td>NaN</td>\n",
              "      <td>NaN</td>\n",
              "      <td>...</td>\n",
              "      <td>NaN</td>\n",
              "      <td>NaN</td>\n",
              "      <td>NaN</td>\n",
              "      <td>NaN</td>\n",
              "      <td>NaN</td>\n",
              "      <td>NaN</td>\n",
              "      <td>NaN</td>\n",
              "      <td>NaN</td>\n",
              "      <td>NaN</td>\n",
              "      <td>NaN</td>\n",
              "    </tr>\n",
              "    <tr>\n",
              "      <th>604</th>\n",
              "      <td>./dataset/PD/PREP_YSC_FW3.csv</td>\n",
              "      <td>PD</td>\n",
              "      <td>YSC</td>\n",
              "      <td>FW3</td>\n",
              "      <td>237</td>\n",
              "      <td>False</td>\n",
              "      <td>NaN</td>\n",
              "      <td>NaN</td>\n",
              "      <td>NaN</td>\n",
              "      <td>NaN</td>\n",
              "      <td>...</td>\n",
              "      <td>NaN</td>\n",
              "      <td>NaN</td>\n",
              "      <td>NaN</td>\n",
              "      <td>NaN</td>\n",
              "      <td>NaN</td>\n",
              "      <td>NaN</td>\n",
              "      <td>NaN</td>\n",
              "      <td>NaN</td>\n",
              "      <td>NaN</td>\n",
              "      <td>354:356</td>\n",
              "    </tr>\n",
              "    <tr>\n",
              "      <th>605</th>\n",
              "      <td>./dataset/PD/PREP_YYS_FW1.csv</td>\n",
              "      <td>PD</td>\n",
              "      <td>YYS</td>\n",
              "      <td>FW1</td>\n",
              "      <td>279</td>\n",
              "      <td>False</td>\n",
              "      <td>NaN</td>\n",
              "      <td>NaN</td>\n",
              "      <td>NaN</td>\n",
              "      <td>NaN</td>\n",
              "      <td>...</td>\n",
              "      <td>NaN</td>\n",
              "      <td>NaN</td>\n",
              "      <td>NaN</td>\n",
              "      <td>NaN</td>\n",
              "      <td>NaN</td>\n",
              "      <td>NaN</td>\n",
              "      <td>NaN</td>\n",
              "      <td>NaN</td>\n",
              "      <td>NaN</td>\n",
              "      <td>NaN</td>\n",
              "    </tr>\n",
              "    <tr>\n",
              "      <th>606</th>\n",
              "      <td>./dataset/PD/PREP_YYS_FW2.csv</td>\n",
              "      <td>PD</td>\n",
              "      <td>YYS</td>\n",
              "      <td>FW2</td>\n",
              "      <td>258</td>\n",
              "      <td>False</td>\n",
              "      <td>NaN</td>\n",
              "      <td>NaN</td>\n",
              "      <td>NaN</td>\n",
              "      <td>NaN</td>\n",
              "      <td>...</td>\n",
              "      <td>NaN</td>\n",
              "      <td>NaN</td>\n",
              "      <td>NaN</td>\n",
              "      <td>NaN</td>\n",
              "      <td>NaN</td>\n",
              "      <td>NaN</td>\n",
              "      <td>NaN</td>\n",
              "      <td>NaN</td>\n",
              "      <td>NaN</td>\n",
              "      <td>NaN</td>\n",
              "    </tr>\n",
              "    <tr>\n",
              "      <th>607</th>\n",
              "      <td>./dataset/PD/PREP_YYS_FW3.csv</td>\n",
              "      <td>PD</td>\n",
              "      <td>YYS</td>\n",
              "      <td>FW3</td>\n",
              "      <td>254</td>\n",
              "      <td>False</td>\n",
              "      <td>NaN</td>\n",
              "      <td>NaN</td>\n",
              "      <td>NaN</td>\n",
              "      <td>NaN</td>\n",
              "      <td>...</td>\n",
              "      <td>NaN</td>\n",
              "      <td>NaN</td>\n",
              "      <td>NaN</td>\n",
              "      <td>NaN</td>\n",
              "      <td>NaN</td>\n",
              "      <td>NaN</td>\n",
              "      <td>NaN</td>\n",
              "      <td>NaN</td>\n",
              "      <td>NaN</td>\n",
              "      <td>NaN</td>\n",
              "    </tr>\n",
              "  </tbody>\n",
              "</table>\n",
              "<p>608 rows × 45 columns</p>\n",
              "</div>\n",
              "      <button class=\"colab-df-convert\" onclick=\"convertToInteractive('df-980ad61c-46e5-43ec-bdd9-71676adcfa12')\"\n",
              "              title=\"Convert this dataframe to an interactive table.\"\n",
              "              style=\"display:none;\">\n",
              "        \n",
              "  <svg xmlns=\"http://www.w3.org/2000/svg\" height=\"24px\"viewBox=\"0 0 24 24\"\n",
              "       width=\"24px\">\n",
              "    <path d=\"M0 0h24v24H0V0z\" fill=\"none\"/>\n",
              "    <path d=\"M18.56 5.44l.94 2.06.94-2.06 2.06-.94-2.06-.94-.94-2.06-.94 2.06-2.06.94zm-11 1L8.5 8.5l.94-2.06 2.06-.94-2.06-.94L8.5 2.5l-.94 2.06-2.06.94zm10 10l.94 2.06.94-2.06 2.06-.94-2.06-.94-.94-2.06-.94 2.06-2.06.94z\"/><path d=\"M17.41 7.96l-1.37-1.37c-.4-.4-.92-.59-1.43-.59-.52 0-1.04.2-1.43.59L10.3 9.45l-7.72 7.72c-.78.78-.78 2.05 0 2.83L4 21.41c.39.39.9.59 1.41.59.51 0 1.02-.2 1.41-.59l7.78-7.78 2.81-2.81c.8-.78.8-2.07 0-2.86zM5.41 20L4 18.59l7.72-7.72 1.47 1.35L5.41 20z\"/>\n",
              "  </svg>\n",
              "      </button>\n",
              "      \n",
              "  <style>\n",
              "    .colab-df-container {\n",
              "      display:flex;\n",
              "      flex-wrap:wrap;\n",
              "      gap: 12px;\n",
              "    }\n",
              "\n",
              "    .colab-df-convert {\n",
              "      background-color: #E8F0FE;\n",
              "      border: none;\n",
              "      border-radius: 50%;\n",
              "      cursor: pointer;\n",
              "      display: none;\n",
              "      fill: #1967D2;\n",
              "      height: 32px;\n",
              "      padding: 0 0 0 0;\n",
              "      width: 32px;\n",
              "    }\n",
              "\n",
              "    .colab-df-convert:hover {\n",
              "      background-color: #E2EBFA;\n",
              "      box-shadow: 0px 1px 2px rgba(60, 64, 67, 0.3), 0px 1px 3px 1px rgba(60, 64, 67, 0.15);\n",
              "      fill: #174EA6;\n",
              "    }\n",
              "\n",
              "    [theme=dark] .colab-df-convert {\n",
              "      background-color: #3B4455;\n",
              "      fill: #D2E3FC;\n",
              "    }\n",
              "\n",
              "    [theme=dark] .colab-df-convert:hover {\n",
              "      background-color: #434B5C;\n",
              "      box-shadow: 0px 1px 3px 1px rgba(0, 0, 0, 0.15);\n",
              "      filter: drop-shadow(0px 1px 2px rgba(0, 0, 0, 0.3));\n",
              "      fill: #FFFFFF;\n",
              "    }\n",
              "  </style>\n",
              "\n",
              "      <script>\n",
              "        const buttonEl =\n",
              "          document.querySelector('#df-980ad61c-46e5-43ec-bdd9-71676adcfa12 button.colab-df-convert');\n",
              "        buttonEl.style.display =\n",
              "          google.colab.kernel.accessAllowed ? 'block' : 'none';\n",
              "\n",
              "        async function convertToInteractive(key) {\n",
              "          const element = document.querySelector('#df-980ad61c-46e5-43ec-bdd9-71676adcfa12');\n",
              "          const dataTable =\n",
              "            await google.colab.kernel.invokeFunction('convertToInteractive',\n",
              "                                                     [key], {});\n",
              "          if (!dataTable) return;\n",
              "\n",
              "          const docLinkHtml = 'Like what you see? Visit the ' +\n",
              "            '<a target=\"_blank\" href=https://colab.research.google.com/notebooks/data_table.ipynb>data table notebook</a>'\n",
              "            + ' to learn more about interactive tables.';\n",
              "          element.innerHTML = '';\n",
              "          dataTable['output_type'] = 'display_data';\n",
              "          await google.colab.output.renderOutput(dataTable, element);\n",
              "          const docLink = document.createElement('div');\n",
              "          docLink.innerHTML = docLinkHtml;\n",
              "          element.appendChild(docLink);\n",
              "        }\n",
              "      </script>\n",
              "    </div>\n",
              "  </div>\n",
              "  "
            ]
          },
          "metadata": {},
          "execution_count": 22
        }
      ]
    },
    {
      "cell_type": "code",
      "source": [
        "df = df_csv.loc[df_csv['remove']==False, :]\n",
        "\n",
        "print(f\"Raw data : {len(df_csv)}\")\n",
        "print(f\"To remove:  {df_csv['remove'].values.sum()}\") # 결측값이 많아서 제외\n",
        "print(f\"Remaining: {len(df)}\")"
      ],
      "metadata": {
        "colab": {
          "base_uri": "https://localhost:8080/"
        },
        "id": "21loOkCPvBre",
        "outputId": "3e97c1c0-d033-4a10-d0ac-56b576c9dbb8"
      },
      "execution_count": 23,
      "outputs": [
        {
          "output_type": "stream",
          "name": "stdout",
          "text": [
            "Raw data : 608\n",
            "To remove:  49\n",
            "Remaining: 559\n"
          ]
        }
      ]
    },
    {
      "cell_type": "code",
      "source": [
        "df['category'].value_counts()"
      ],
      "metadata": {
        "colab": {
          "base_uri": "https://localhost:8080/"
        },
        "id": "dsyChXmJvBvq",
        "outputId": "3c77da6a-af9b-46ca-df4b-fded5881aa50"
      },
      "execution_count": 17,
      "outputs": [
        {
          "output_type": "execute_result",
          "data": {
            "text/plain": [
              "PD          427\n",
              "Controls    132\n",
              "Name: category, dtype: int64"
            ]
          },
          "metadata": {},
          "execution_count": 17
        }
      ]
    },
    {
      "cell_type": "code",
      "source": [
        "df['category'].value_counts(normalize=True)"
      ],
      "metadata": {
        "colab": {
          "base_uri": "https://localhost:8080/"
        },
        "id": "BZCIHgQsvBzH",
        "outputId": "faa48ee1-df46-48c4-8add-205dc2e2140b"
      },
      "execution_count": 18,
      "outputs": [
        {
          "output_type": "execute_result",
          "data": {
            "text/plain": [
              "PD          0.763864\n",
              "Controls    0.236136\n",
              "Name: category, dtype: float64"
            ]
          },
          "metadata": {},
          "execution_count": 18
        }
      ]
    },
    {
      "cell_type": "markdown",
      "source": [
        "## csv2npy & csv2image"
      ],
      "metadata": {
        "id": "kSG9umgtdohL"
      }
    },
    {
      "cell_type": "code",
      "source": [
        "frame_len = defaultdict()\n",
        "\n",
        "for i, path in enumerate(df['path']):\n",
        "    df_i = pd.read_csv(path)\n",
        "    category, filename = path.split('/')[2:]\n",
        "    name, trial = filename[:-4].split('_')[1:]\n",
        "    \n",
        "    # NULL인 행 제거해야 함!!!\n",
        "    df_full = df_i.dropna()\n",
        "    frame_len[f'{category}_{name}_{trial}'] = len(df_full)\n",
        "\n",
        "    # Split X,Y,Z\n",
        "    df_x = df_full.filter(regex='X')\n",
        "    df_y = df_full.filter(regex='Y')\n",
        "    df_z = df_full.filter(regex='Z')\n",
        "\n",
        "    # Reshape to 3D Tensor\n",
        "    df_img = np.stack([df_x, df_y, df_z], -1)\n",
        "\n",
        "    # Save as Numpy array\n",
        "    SAVENPPATH = NP_PD if category == 'PD' else NP_CONTROL\n",
        "    np.save(os.path.join(SAVENPPATH, f\"NP_{name}_{trial}.npy\"), df_img)\n",
        "\n",
        "    # Save as Image\n",
        "    SAVEIMGPATH = IMG_PD if category == 'PD' else IMG_CONTROL\n",
        "    df_img_jpg = Image.fromarray(df_img.astype(np.uint8)) # Numpy array -> PIL image\n",
        "    df_img_jpg.save(os.path.join(SAVEIMGPATH, f\"IMG_{name}_{trial}.jpg\"))\n",
        "    "
      ],
      "metadata": {
        "id": "ILfKQ-e9FAap"
      },
      "execution_count": 35,
      "outputs": []
    },
    {
      "cell_type": "code",
      "source": [
        "frame_len_sorted = sorted(frame_len.items(), key=lambda x: x[1])\n",
        "print(f\"Minimum frame length: {frame_len_sorted[0]}\")\n",
        "print(f\"Maximum frame length: {frame_len_sorted[-1]}\")"
      ],
      "metadata": {
        "id": "8VmKjAEaXDnO",
        "colab": {
          "base_uri": "https://localhost:8080/"
        },
        "outputId": "297d0756-73a4-437b-e037-dad7d18fcb0b"
      },
      "execution_count": 39,
      "outputs": [
        {
          "output_type": "stream",
          "name": "stdout",
          "text": [
            "Minimum frame length: ('PD_JWS_FW3', 179)\n",
            "Maximum frame length: ('PD_BSB_BW2', 1899)\n"
          ]
        }
      ]
    },
    {
      "cell_type": "code",
      "source": [
        "sns.set_style('darkgrid')\n",
        "fig = sns.histplot(x=frame_len.values())\n",
        "fig.set_xlabel('Frame Length', fontsize=12)\n",
        "fig.set_ylabel('Count', fontsize=12)\n",
        "fig.set_title('Frame Lengths after NULL removal', fontsize=14)\n",
        "plt.show()"
      ],
      "metadata": {
        "colab": {
          "base_uri": "https://localhost:8080/",
          "height": 299
        },
        "id": "awGcM0wbj75s",
        "outputId": "daef3b3c-80e7-41ad-8dc2-c2556fb04397"
      },
      "execution_count": 51,
      "outputs": [
        {
          "output_type": "display_data",
          "data": {
            "text/plain": [
              "<Figure size 432x288 with 1 Axes>"
            ],
            "image/png": "[encoded data removed]"
          },
          "metadata": {}
        }
      ]
    },
    {
      "cell_type": "code",
      "source": [
        ""
      ],
      "metadata": {
        "id": "mVfKRWldliEi"
      },
      "execution_count": null,
      "outputs": []
    }
  ]
}