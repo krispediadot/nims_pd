{
  "nbformat": 4,
  "nbformat_minor": 0,
  "metadata": {
    "colab": {
      "name": "plot-by-time.ipynb",
      "private_outputs": true,
      "provenance": [],
      "collapsed_sections": []
    },
    "kernelspec": {
      "name": "python3",
      "display_name": "Python 3"
    },
    "language_info": {
      "name": "python"
    }
  },
  "cells": [
    {
      "cell_type": "code",
      "execution_count": null,
      "metadata": {
        "id": "HSu0Yo0-vuaS"
      },
      "outputs": [],
      "source": [
        "from google.colab import drive\n",
        "drive.mount('/content/drive')"
      ]
    },
    {
      "cell_type": "code",
      "source": [
        "%cd /content/drive/MyDrive/Parkinson/"
      ],
      "metadata": {
        "id": "M-S9a8R5wCD8"
      },
      "execution_count": null,
      "outputs": []
    },
    {
      "cell_type": "code",
      "source": [
        "import os\n",
        "import pandas as pd\n",
        "import numpy as np\n",
        "import random, re\n",
        "\n",
        "import matplotlib.pyplot as plt\n",
        "import seaborn as sns"
      ],
      "metadata": {
        "id": "MQzziYWMwHRM"
      },
      "execution_count": null,
      "outputs": []
    },
    {
      "cell_type": "code",
      "source": [
        "def seed_everything(seed=42):\n",
        "    random.seed(seed)\n",
        "    np.random.seed(seed)\n",
        "\n",
        "seed_everything()"
      ],
      "metadata": {
        "id": "cgdQ4PrKmju-"
      },
      "execution_count": null,
      "outputs": []
    },
    {
      "cell_type": "markdown",
      "source": [
        "### 39개 관측 센서 위치"
      ],
      "metadata": {
        "id": "rvnERXMQN7ob"
      }
    },
    {
      "cell_type": "code",
      "source": [
        "BODY = ['LFHD', 'RFHD', 'LBHD', 'RBHD',  # 머리 앞뒤\n",
        "        'CLAV',  # 쇄골\n",
        "        'RBAK',  # 어깨뼈\n",
        "        'C7',    # 경추 7번\n",
        "        'STRN',  # 흉골(명치)\n",
        "        'T10',   # 흉추 10번\n",
        "        ]\n",
        "\n",
        "ARMS = ['LSHO', 'RSHO',  # 어깨\n",
        "        'LUPA', 'RUPA',  # 위팔\n",
        "        'LELB', 'RELB',  # 팔꿈치\n",
        "        'LFRM', 'RFRM',  # 아래팔\n",
        "        'LWRA', 'RWRA', 'LWRB', 'RWRB',  # 손목\n",
        "        'LFIN', 'RFIN',  # 손가락\n",
        "        ]\n",
        "\n",
        "LEGS = ['LASI', 'RASI', 'LPSI', 'RPSI',  # 골반 앞뒤\n",
        "        'LTHI', 'RTHI',  # 대퇴\n",
        "        'LKNE', 'RKNE',  # 무릎\n",
        "        'LTIB', 'RTIB',  # 정강이\n",
        "        'LHEE', 'RHEE',  # 발뒤꿈치\n",
        "        'LANK', 'RANK',  # 복사뼈\n",
        "        'LTOE', 'RTOE',  # 발가락\n",
        "        ]\n",
        "\n",
        "ALL = BODY + ARMS + LEGS\n",
        "len(ALL)"
      ],
      "metadata": {
        "id": "R3mTDaH0N5BK"
      },
      "execution_count": null,
      "outputs": []
    },
    {
      "cell_type": "markdown",
      "source": [
        "### 보유데이터 정보 불러오기"
      ],
      "metadata": {
        "id": "yo5Hae8eN-_J"
      }
    },
    {
      "cell_type": "code",
      "source": [
        "df_info = pd.read_csv(\"csv_info.csv\")\n",
        "df_info"
      ],
      "metadata": {
        "id": "MGSmeOZuAN_w"
      },
      "execution_count": null,
      "outputs": []
    },
    {
      "cell_type": "code",
      "source": [
        "df_info['Category'].value_counts()"
      ],
      "metadata": {
        "id": "jFi53Qg_515b"
      },
      "execution_count": null,
      "outputs": []
    },
    {
      "cell_type": "markdown",
      "source": [
        "csv를 읽을 때 [ ] 를 문자열로 인식하니까...리스트로 저장해도 리스트로 읽을 수 없구나.."
      ],
      "metadata": {
        "id": "a-U8VDlRJRww"
      }
    },
    {
      "cell_type": "code",
      "source": [
        "type(df_info['pathFW'][0])"
      ],
      "metadata": {
        "id": "J6fX68u4G47I"
      },
      "execution_count": null,
      "outputs": []
    },
    {
      "cell_type": "markdown",
      "source": [
        "### 환자 데이터 랜덤추출"
      ],
      "metadata": {
        "id": "ZAIIAjH6OIhy"
      }
    },
    {
      "cell_type": "code",
      "source": [
        "ptype = 'PD'\n",
        "n_sample = 1\n",
        "walk_direction = 'FW'"
      ],
      "metadata": {
        "id": "9Dvdst03Ouvy"
      },
      "execution_count": null,
      "outputs": []
    },
    {
      "cell_type": "code",
      "source": [
        "def dataSampling(df, ptype, n_sample, walk_direction):\n",
        "    sampled_df = df.loc[df['Category']==ptype].sample(n_sample)\n",
        "    \n",
        "    sampled_paths = []  # 랜덤추출한 참여자별 FW/BW 데이터 하나씩 선택\n",
        "    for id in sampled_df.index:\n",
        "        paths = list(map(lambda s: s.strip(), re.sub(\"'\", \"\", sampled_df.loc[id, 'path'+walk_direction][1:-1]).split(',')))\n",
        "        sampled_paths.extend(random.sample(paths, 1))\n",
        "    \n",
        "    return sampled_paths, list(sampled_df['Participant']), "
      ],
      "metadata": {
        "id": "qfFHUUCkBHla"
      },
      "execution_count": null,
      "outputs": []
    },
    {
      "cell_type": "code",
      "source": [
        "sampled_paths, _ = dataSampling(df_info, ptype, n_sample, walk_direction)\n",
        "sampled_paths"
      ],
      "metadata": {
        "id": "RWmf-A2W9XDZ"
      },
      "execution_count": null,
      "outputs": []
    },
    {
      "cell_type": "code",
      "source": [
        "name, walk_order = sampled_paths[0][:-4].split('/')[-1].split('_')\n",
        "print(f'[Participant INFO] Name: {name}, Type: {ptype}, Trial: {walk_order}')\n",
        "\n",
        "df = pd.read_csv(sampled_paths[0])\n",
        "df.rename(columns={\"Unnamed: 0\": \"Frame\"}, inplace=True)\n",
        "df"
      ],
      "metadata": {
        "id": "xsbfuy6twa9e"
      },
      "execution_count": null,
      "outputs": []
    },
    {
      "cell_type": "markdown",
      "source": [
        "### 시간(프레임)에 따른 X, Y, Z좌표 관찰"
      ],
      "metadata": {
        "id": "Zu74hX8yn3mL"
      }
    },
    {
      "cell_type": "code",
      "source": [
        "def plotByTime(df, placement: str):  \n",
        "    '''\n",
        "    placement: 관찰하고 싶은 마커 위치\n",
        "    '''\n",
        "\n",
        "    fig, axes = plt.subplots(figsize=(10,3), ncols=3)\n",
        "    plt.subplots_adjust(wspace=0.4)\n",
        "\n",
        "    for i, direction in enumerate(['X','Y','Z']):\n",
        "        target = placement + '_' + direction\n",
        "        sns.lineplot(data=df, x='Frame', y=target, ax=axes[i])\n",
        "        sns.set_style('darkgrid')\n",
        "\n",
        "    plt.suptitle(f'{placement}_X,Y,Z values in {walk_order} trial of {name}', fontsize=14)\n",
        "    plt.show()"
      ],
      "metadata": {
        "id": "ghTPRthvwbdG"
      },
      "execution_count": null,
      "outputs": []
    },
    {
      "cell_type": "code",
      "source": [
        "for placement in BODY:\n",
        "    plotByTime(df, placement)"
      ],
      "metadata": {
        "id": "EIg6qAiaoTeM"
      },
      "execution_count": null,
      "outputs": []
    },
    {
      "cell_type": "markdown",
      "source": [
        "### 상반신 흔들림/진동 관찰"
      ],
      "metadata": {
        "id": "d-wmCZ-wft-J"
      }
    },
    {
      "cell_type": "code",
      "source": [
        ""
      ],
      "metadata": {
        "id": "Qqv9hS7PwbkI"
      },
      "execution_count": null,
      "outputs": []
    },
    {
      "cell_type": "code",
      "source": [
        ""
      ],
      "metadata": {
        "id": "jIUm3029wbm9"
      },
      "execution_count": null,
      "outputs": []
    }
  ]
}