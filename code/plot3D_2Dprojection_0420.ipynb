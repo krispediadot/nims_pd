{
  "nbformat": 4,
  "nbformat_minor": 0,
  "metadata": {
    "colab": {
      "name": "plot3D_2Dprojection.ipynb",
      "private_outputs": true,
      "provenance": [],
      "collapsed_sections": [
        "yo5Hae8eN-_J",
        "ZAIIAjH6OIhy"
      ]
    },
    "kernelspec": {
      "name": "python3",
      "display_name": "Python 3"
    },
    "language_info": {
      "name": "python"
    }
  },
  "cells": [
    {
      "cell_type": "code",
      "execution_count": null,
      "metadata": {
        "id": "HSu0Yo0-vuaS"
      },
      "outputs": [],
      "source": [
        "from google.colab import drive\n",
        "drive.mount('/content/drive')"
      ]
    },
    {
      "cell_type": "code",
      "source": [
        "%cd /content/drive/MyDrive/Parkinson/"
      ],
      "metadata": {
        "id": "M-S9a8R5wCD8"
      },
      "execution_count": null,
      "outputs": []
    },
    {
      "cell_type": "code",
      "source": [
        "import os\n",
        "import pandas as pd\n",
        "import numpy as np\n",
        "import random, re\n",
        "\n",
        "import matplotlib.pyplot as plt\n",
        "import seaborn as sns"
      ],
      "metadata": {
        "id": "MQzziYWMwHRM"
      },
      "execution_count": null,
      "outputs": []
    },
    {
      "cell_type": "code",
      "source": [
        "def seed_everything(seed=42):\n",
        "    random.seed(seed)\n",
        "    np.random.seed(seed)\n",
        "\n",
        "seed_everything()"
      ],
      "metadata": {
        "id": "cgdQ4PrKmju-"
      },
      "execution_count": null,
      "outputs": []
    },
    {
      "cell_type": "markdown",
      "source": [
        "### 39개 관측 센서 위치"
      ],
      "metadata": {
        "id": "rvnERXMQN7ob"
      }
    },
    {
      "cell_type": "code",
      "source": [
        "HEAD = ['LFHD', 'RFHD', 'LBHD', 'RBHD']  # 머리 앞뒤\n",
        "CENTER = ['C7', 'CLAV', 'STRN', 'T10']   # 7번경추, 쇄골, 명치, 10번흉추\n",
        "WING = ['RBAK']  # 날개뼈\n",
        "\n",
        "SHOULDER = ['LSHO', 'RSHO'] # 어깨\n",
        "UPARM = ['LUPA', 'RUPA']    # 위팔\n",
        "ELBOW = ['LELB', 'RELB']    # 팔꿈치\n",
        "FOREARM = ['LFRM', 'RFRM']  # 아래팔\n",
        "WRIST = ['LWRA', 'RWRA', 'LWRB', 'RWRB'] # 손목\n",
        "FINGER = ['LFIN', 'RFIN']   # 손가락\n",
        "\n",
        "SINGLE = CENTER + WING  # 한쪽만 존재하는 부위\n",
        "DOUBLE = HEAD + SHOULDER + UPARM + ELBOW + FOREARM + WRIST + FINGER  # 양쪽인 부위\n",
        "UPPERBODY = SINGLE + DOUBLE  # 상체\n",
        "\n",
        "print(f'Upper Body: {len(UPPERBODY)} --> Single {len(SINGLE)} + Double {len(DOUBLE)// 2 }*2')\n",
        "\n",
        "#---------------------------------\n",
        "BODY = ['LFHD', 'RFHD', 'LBHD', 'RBHD', 'CLAV', 'RBAK', 'C7', 'STRN', 'T10']\n",
        "ARMS = ['LSHO', 'RSHO', 'LUPA', 'RUPA', 'LELB', 'RELB', 'LFRM', 'RFRM',\n",
        "        'LWRA', 'RWRA', 'LWRB', 'RWRB', 'LFIN', 'RFIN']\n",
        "LEGS = ['LASI', 'RASI', 'LPSI', 'RPSI',  # 골반 앞뒤\n",
        "        'LTHI', 'RTHI',  # 대퇴\n",
        "        'LKNE', 'RKNE',  # 무릎\n",
        "        'LTIB', 'RTIB',  # 정강이\n",
        "        'LHEE', 'RHEE',  # 발뒤꿈치\n",
        "        'LANK', 'RANK',  # 복사뼈\n",
        "        'LTOE', 'RTOE',  # 발가락\n",
        "        ]\n",
        "\n",
        "ALL = BODY + ARMS + LEGS\n",
        "len(ALL)"
      ],
      "metadata": {
        "id": "R3mTDaH0N5BK"
      },
      "execution_count": null,
      "outputs": []
    },
    {
      "cell_type": "markdown",
      "source": [
        "### 보유데이터 정보 불러오기"
      ],
      "metadata": {
        "id": "yo5Hae8eN-_J"
      }
    },
    {
      "cell_type": "code",
      "source": [
        "df_info = pd.read_csv(\"csv_info.csv\")\n",
        "df_info"
      ],
      "metadata": {
        "id": "MGSmeOZuAN_w"
      },
      "execution_count": null,
      "outputs": []
    },
    {
      "cell_type": "code",
      "source": [
        "df_info['Category'].value_counts()"
      ],
      "metadata": {
        "id": "jFi53Qg_515b"
      },
      "execution_count": null,
      "outputs": []
    },
    {
      "cell_type": "markdown",
      "source": [
        "csv를 읽을 때 [ ] 를 문자열로 인식하니까...리스트로 저장해도 리스트로 읽을 수 없구나.."
      ],
      "metadata": {
        "id": "a-U8VDlRJRww"
      }
    },
    {
      "cell_type": "code",
      "source": [
        "type(df_info['pathFW'][0])"
      ],
      "metadata": {
        "id": "J6fX68u4G47I"
      },
      "execution_count": null,
      "outputs": []
    },
    {
      "cell_type": "markdown",
      "source": [
        "### 환자 데이터 랜덤추출"
      ],
      "metadata": {
        "id": "ZAIIAjH6OIhy"
      }
    },
    {
      "cell_type": "code",
      "source": [
        "ptype = 'PD'\n",
        "n_sample = 1\n",
        "walk_direction = 'FW'"
      ],
      "metadata": {
        "id": "9Dvdst03Ouvy"
      },
      "execution_count": null,
      "outputs": []
    },
    {
      "cell_type": "code",
      "source": [
        "def dataSampling(df, ptype, n_sample, walk_direction):\n",
        "    sampled_df = df.loc[df['Category']==ptype].sample(n_sample)\n",
        "    \n",
        "    sampled_paths = []  # 랜덤추출한 참여자별 FW/BW 데이터 하나씩 선택\n",
        "    for id in sampled_df.index:\n",
        "        paths = list(map(lambda s: s.strip(), re.sub(\"'\", \"\", sampled_df.loc[id, 'path'+walk_direction][1:-1]).split(',')))\n",
        "        sampled_paths.extend(random.sample(paths, 1))\n",
        "    \n",
        "    return sampled_paths, list(sampled_df['Participant']), "
      ],
      "metadata": {
        "id": "qfFHUUCkBHla"
      },
      "execution_count": null,
      "outputs": []
    },
    {
      "cell_type": "code",
      "source": [
        "sampled_paths, _ = dataSampling(df_info, ptype, n_sample, walk_direction)\n",
        "sampled_paths"
      ],
      "metadata": {
        "id": "RWmf-A2W9XDZ"
      },
      "execution_count": null,
      "outputs": []
    },
    {
      "cell_type": "code",
      "source": [
        "name, walk_order = sampled_paths[0][:-4].split('/')[-1].split('_')\n",
        "print(f'[Participant INFO] Name: {name}, Type: {ptype}, Trial: {walk_order}')\n",
        "\n",
        "df = pd.read_csv(sampled_paths[0])\n",
        "df.rename(columns={\"Unnamed: 0\": \"Frame\"}, inplace=True)\n",
        "df"
      ],
      "metadata": {
        "id": "xsbfuy6twa9e"
      },
      "execution_count": null,
      "outputs": []
    },
    {
      "cell_type": "markdown",
      "source": [
        "### 시간(프레임)에 따른 X, Y, Z좌표 관찰"
      ],
      "metadata": {
        "id": "Zu74hX8yn3mL"
      }
    },
    {
      "cell_type": "code",
      "source": [
        "def plotByTime(df, placement: str):  \n",
        "    '''\n",
        "    placement: 관찰하고 싶은 마커 위치\n",
        "    '''\n",
        "\n",
        "    fig, axes = plt.subplots(figsize=(10,3), ncols=3)\n",
        "    plt.subplots_adjust(wspace=0.4)\n",
        "\n",
        "    for i, direction in enumerate(['X','Y','Z']):\n",
        "        target = placement + '_' + direction\n",
        "        sns.lineplot(data=df, x='Frame', y=target, ax=axes[i])\n",
        "        sns.set_style('darkgrid')\n",
        "\n",
        "    plt.suptitle(f'{placement}_X,Y,Z values in {walk_order} trial of {name}', fontsize=14)\n",
        "    plt.show()"
      ],
      "metadata": {
        "id": "ghTPRthvwbdG"
      },
      "execution_count": null,
      "outputs": []
    },
    {
      "cell_type": "code",
      "source": [
        "for placement in BODY:\n",
        "    plotByTime(df, placement)"
      ],
      "metadata": {
        "id": "EIg6qAiaoTeM"
      },
      "execution_count": null,
      "outputs": []
    },
    {
      "cell_type": "markdown",
      "source": [
        "### 3D 그래프 그리기"
      ],
      "metadata": {
        "id": "zyBqrIdODIRg"
      }
    },
    {
      "cell_type": "code",
      "source": [
        "# from mpl_toolkits.mplot3d import Axes3D"
      ],
      "metadata": {
        "id": "Qqv9hS7PwbkI"
      },
      "execution_count": null,
      "outputs": []
    },
    {
      "cell_type": "code",
      "source": [
        "def plot3D(df, placement: str):  \n",
        "    '''\n",
        "    placement: 관찰하고 싶은 마커 위치\n",
        "    '''\n",
        "\n",
        "    fig = plt.figure()\n",
        "    # fig = plt.figure(figsize=(5,4))\n",
        "    ax = fig.gca(projection='3d')\n",
        "\n",
        "    # fig, axes = plt.subplots(figsize=(10,3), ncols=3, projection='3d')\n",
        "    # plt.subplots_adjust(wspace=0.4)\n",
        "\n",
        "    X,Y,Z = df[placement+'_X'], df[placement+'_Y'], df[placement+'_Z'] \n",
        "    ax.scatter(X,Y,Z)\n",
        "    ax.set_xlabel(f'{placement}_X')\n",
        "    ax.set_ylabel(f'{placement}_Y')\n",
        "    ax.set_zlabel(f'{placement}_Z')\n",
        "        \n",
        "    plt.suptitle(f'{name}_{walk_order}: {placement}', fontsize=12)\n",
        "    plt.show()"
      ],
      "metadata": {
        "id": "_o9c6oNhvwnD"
      },
      "execution_count": null,
      "outputs": []
    },
    {
      "cell_type": "code",
      "source": [
        "for placement in BODY:\n",
        "    plot3D(df, placement)"
      ],
      "metadata": {
        "id": "rcag_k5ozoaN"
      },
      "execution_count": null,
      "outputs": []
    },
    {
      "cell_type": "code",
      "source": [
        "for placement in ARMS:\n",
        "    plot3D(df, placement)"
      ],
      "metadata": {
        "id": "EQGEaVV3EjKQ"
      },
      "execution_count": null,
      "outputs": []
    },
    {
      "cell_type": "markdown",
      "source": [
        "### 정면(XZ면), 측면(YZ평면), 윗면(XY평면) 관찰"
      ],
      "metadata": {
        "id": "cyalIqRnEGWW"
      }
    },
    {
      "cell_type": "code",
      "source": [
        "def plot2Dprojection(df, placement: str):  \n",
        "    '''\n",
        "    placement: 관찰하고 싶은 마커 위치\n",
        "    '''\n",
        "    pairs = {}  # X-YZ, Y-XZ, Z-XY pair 만들기\n",
        "    for direction in ['X', 'Y', 'Z']:\n",
        "        plane = ['X','Y','Z']\n",
        "        plane.remove(direction)\n",
        "        pairs[direction] = ''.join(plane)\n",
        "\n",
        "    fig = plt.figure(figsize=(8,6))\n",
        "    ax1 = fig.add_subplot(2,2,1)\n",
        "    ax2 = fig.add_subplot(2,2,3)\n",
        "    ax3 = fig.add_subplot(2,2,4)\n",
        "    axes = [ax1, ax2, ax3]\n",
        "    plt.subplots_adjust(wspace=0.4, hspace=0.5)\n",
        "\n",
        "    views = {'Top':'Z', 'Side':'X', 'Front':'Y'}\n",
        "    for i, (view, direction) in enumerate(views.items()):\n",
        "        axis1 = placement + '_' + pairs[direction][0]\n",
        "        axis2 = placement + '_' + pairs[direction][1]\n",
        "        \n",
        "        # i,j = (id+1)//2, (id+1)%2\n",
        "        sns.scatterplot(data=df, x=axis1, y=axis2, ax=axes[i], hue='Frame')\n",
        "        axes[i].set_title(f'{view} view ({pairs[direction]}-plane)')\n",
        "        sns.set_style('darkgrid')\n",
        "\n",
        "    # plt.suptitle(f'{placement}_X,Y,Z values in {walk_order} trial of {name}', fontsize=14)\n",
        "    plt.show()"
      ],
      "metadata": {
        "id": "xzfd-YmFEMWn"
      },
      "execution_count": null,
      "outputs": []
    },
    {
      "cell_type": "code",
      "source": [
        "plot2Dprojection(df, 'STRN')\n",
        "\n"
      ],
      "metadata": {
        "id": "TuYTk9j1EMTJ"
      },
      "execution_count": null,
      "outputs": []
    },
    {
      "cell_type": "code",
      "source": [
        ""
      ],
      "metadata": {
        "id": "0r9NYccYEL2z"
      },
      "execution_count": null,
      "outputs": []
    },
    {
      "cell_type": "code",
      "source": [
        ""
      ],
      "metadata": {
        "id": "WbyzLF2aELw7"
      },
      "execution_count": null,
      "outputs": []
    },
    {
      "cell_type": "code",
      "source": [
        ""
      ],
      "metadata": {
        "id": "nZnRNh8RELTf"
      },
      "execution_count": null,
      "outputs": []
    },
    {
      "cell_type": "markdown",
      "source": [
        "### 상반신 흔들림/진동 관찰"
      ],
      "metadata": {
        "id": "d-wmCZ-wft-J"
      }
    },
    {
      "cell_type": "code",
      "source": [
        ""
      ],
      "metadata": {
        "id": "jzku36qwEKjl"
      },
      "execution_count": null,
      "outputs": []
    },
    {
      "cell_type": "code",
      "source": [
        ""
      ],
      "metadata": {
        "id": "mwRQEYjpzw39"
      },
      "execution_count": null,
      "outputs": []
    }
  ]
}