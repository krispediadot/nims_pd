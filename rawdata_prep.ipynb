{
 "cells": [
  {
   "cell_type": "markdown",
   "id": "ffc79b61-fd27-48d2-b07e-8ca990ca4d0c",
   "metadata": {},
   "source": [
    "## 1. Raw data Info"
   ]
  },
  {
   "cell_type": "code",
   "execution_count": 1,
   "id": "b6f9d8b8-9de7-48b8-a64c-4649f7d15526",
   "metadata": {},
   "outputs": [],
   "source": [
    "import os\n",
    "import glob\n",
    "\n",
    "RAWDATAPATH = \"./FW&BW_Rawdata/\"\n",
    "RAW_CONTROL = os.path.join(RAWDATAPATH, \"Controls\")\n",
    "RAW_PD = os.path.join(RAWDATAPATH, \"PD\")"
   ]
  },
  {
   "cell_type": "code",
   "execution_count": 2,
   "id": "6795e585-64e1-4704-b5d1-726f584e4adb",
   "metadata": {},
   "outputs": [
    {
     "name": "stdout",
     "output_type": "stream",
     "text": [
      "Controls: 22\n",
      "      PD: 83\n"
     ]
    }
   ],
   "source": [
    "# RAW 데이터 확인\n",
    "\n",
    "files = glob.glob(os.path.join(RAW_CONTROL, \"*.csv\"))\n",
    "fnames = set([ f.split('_')[1] for f in files ])\n",
    "print(\"Controls:\", len(fnames))\n",
    "\n",
    "files = glob.glob(os.path.join(RAW_PD, \"*.csv\"))\n",
    "fnames = set([ f.split('_')[1] for f in files ])\n",
    "print(\"      PD:\", len(fnames))"
   ]
  },
  {
   "cell_type": "markdown",
   "id": "17d2e0d4-6e57-4756-8cf2-de8a8b331e9d",
   "metadata": {},
   "source": [
    "## 2. Prep"
   ]
  },
  {
   "cell_type": "code",
   "execution_count": 3,
   "id": "1d650765-1015-4193-b899-352427d78ed6",
   "metadata": {},
   "outputs": [],
   "source": [
    "import os\n",
    "import glob\n",
    "import pandas as pd\n",
    "\n",
    "DEBUG = False\n",
    "\n",
    "DATASETPATH = './dataset_/'\n",
    "DATA_CONTROL = os.path.join(DATASETPATH, 'Controls')\n",
    "DATA_PD = os.path.join(DATASETPATH, 'PD')\n",
    "\n",
    "if not os.path.exists(DATASETPATH): os.mkdir(DATASETPATH)"
   ]
  },
  {
   "cell_type": "code",
   "execution_count": 4,
   "id": "20f00281-8937-4852-82e3-b57bdf6d1dea",
   "metadata": {},
   "outputs": [],
   "source": [
    "def generatePrepData(rawdatapath):\n",
    "    \n",
    "    def prepData(target_path, target_file, ptype):\n",
    "        if DEBUG: \n",
    "            print(\"[ * ] prepData:\", target_file)\n",
    "\n",
    "        # 1. 2줄 제외하고 읽기\n",
    "\n",
    "        dff = pd.read_csv(target_path, skiprows=2, encoding='utf-8')\n",
    "\n",
    "        # 2. 전체 none인 컬럼 제외\n",
    "\n",
    "        while dff[list(dff.columns)[-1]].isna().all():\n",
    "            dff.drop(list(dff.columns)[-1], axis=1, inplace=True)\n",
    "\n",
    "        # 3. 단위가 mm인 데이터만 추출\n",
    "\n",
    "        target = [0, 1]\n",
    "        target += list(filter(lambda x: list(dff.iloc[1] == 'mm')[x],\n",
    "                              range(len(list(dff.iloc[1])))))\n",
    "        dff = dff.iloc[:, target]\n",
    "        dff.drop(dff.index[1], inplace=True)\n",
    "\n",
    "        # 4. 컬럼 이름 변경하기\n",
    "\n",
    "        pList = dff.columns\n",
    "        colList = dff.iloc[0]\n",
    "\n",
    "        NAME = None\n",
    "\n",
    "        pNames = []\n",
    "        for p in pList:\n",
    "            if not p.startswith('Unnamed'):\n",
    "                if NAME is None: \n",
    "                    NAME = p.split(':')[0]\n",
    "                pNames.append(p.split(':')[1])\n",
    "\n",
    "        columns = []\n",
    "        columns.append(colList[0])\n",
    "        columns.append(colList[1])\n",
    "        for idx, col in enumerate(colList[2:]):\n",
    "            i = int(idx / 3)\n",
    "            eachColName = pNames[i] + '_' + col\n",
    "            columns.append(eachColName)\n",
    "\n",
    "        assert len(columns) == len(list(dff.columns))\n",
    "\n",
    "        dff.drop(dff.index[0], inplace=True)\n",
    "        dff.reset_index(drop=True, inplace=True)\n",
    "\n",
    "        dff.columns = columns\n",
    "\n",
    "        if not os.path.exists(DATASETPATH + ptype):\n",
    "            os.mkdir(DATASETPATH + ptype)\n",
    "\n",
    "        dff.to_csv(os.path.join(os.path.join(DATASETPATH, ptype),\n",
    "                                'PREP_' + target_file),\n",
    "                   encoding='utf-8', index=False)\n",
    "\n",
    "    if DEBUG: \n",
    "        print(\"[ * ] runPrepData\")\n",
    "\n",
    "    for f in os.listdir(rawdatapath):\n",
    "        if f.endswith('.csv'):\n",
    "            prepData(os.path.join(rawdatapath, f),\n",
    "                     f,\n",
    "                     rawdatapath.split('/')[-1])"
   ]
  },
  {
   "cell_type": "code",
   "execution_count": 5,
   "id": "0edecfc7-1181-4d3d-a7bc-1151ca26f6b0",
   "metadata": {},
   "outputs": [],
   "source": [
    "generatePrepData(RAW_CONTROL)\n",
    "generatePrepData(RAW_PD)"
   ]
  },
  {
   "cell_type": "code",
   "execution_count": 6,
   "id": "a484c12d-701e-4920-9801-f5b280ddbb00",
   "metadata": {},
   "outputs": [
    {
     "name": "stdout",
     "output_type": "stream",
     "text": [
      "Controls: 22\n",
      "      PD: 83\n"
     ]
    }
   ],
   "source": [
    "# 데이터 확인\n",
    "\n",
    "files = glob.glob(os.path.join(DATA_CONTROL, \"*.csv\"))\n",
    "fnames = set([ f.split('_')[2] for f in files ])\n",
    "print('Controls:', len(fnames))\n",
    "\n",
    "files = glob.glob(os.path.join(DATA_PD, \"*.csv\"))\n",
    "fnames = set([ f.split('_')[2] for f in files ])\n",
    "print(\"      PD:\", len(fnames))"
   ]
  },
  {
   "cell_type": "markdown",
   "id": "65f95e64-a81b-47a7-bc4b-352c4f5a54eb",
   "metadata": {},
   "source": [
    "## 3. 환자별 데이터 테이블 생성"
   ]
  },
  {
   "cell_type": "code",
   "execution_count": 7,
   "id": "ec161c0e-4ca4-4c18-b5d5-394e91315c7a",
   "metadata": {},
   "outputs": [],
   "source": [
    "import os\n",
    "import glob\n",
    "\n",
    "DATASETPATH = './dataset_/'\n",
    "DATA_CONTROL = os.path.join(DATASETPATH , 'Controls')\n",
    "DATA_PD = os.path.join(DATASETPATH, 'PD') "
   ]
  },
  {
   "cell_type": "code",
   "execution_count": 10,
   "id": "ade8b4ed-9896-437d-b0ed-41032bf3ff77",
   "metadata": {},
   "outputs": [],
   "source": [
    "def generatePatientsInfoTable():\n",
    "    \n",
    "    def getPatientDataInfo(target_cate):\n",
    "    \n",
    "        dff = pd.DataFrame(columns=[\"Patient\", \"Category\", \"cntFW\", \"cntBW\"])\n",
    "\n",
    "        TARGET_DATA = DATA_CONTROL\n",
    "\n",
    "        if target_cate == \"PD\":\n",
    "            TARGET_DATA = DATA_PD\n",
    "\n",
    "        files = glob.glob(os.path.join(TARGET_DATA, \"*.csv\"))\n",
    "        fnames = list(set([ f.split('/')[-1].split('_')[1] for f in files ]))\n",
    "        fnames.sort()\n",
    "\n",
    "        for name in fnames:\n",
    "\n",
    "            cnt_bw = len(glob.glob(os.path.join(TARGET_DATA, f\"*{name}_BW*.csv\")))\n",
    "            cnt_fw = len(glob.glob(os.path.join(TARGET_DATA, f\"*{name}_FW*.csv\")))\n",
    "\n",
    "            dff.loc[len(dff)] = [ name, target_cate, cnt_fw, cnt_bw ]\n",
    "\n",
    "        return dff\n",
    "\n",
    "    df = pd.DataFrame( columns=[\"Patient\", \"Category\", \"cntFW\", \"cntBW\"])\n",
    "    \n",
    "    df = df.append(getPatientDataInfo(\"Controls\"), ignore_index=True)\n",
    "    df = df.append(getPatientDataInfo(\"PD\"), ignore_index=True)\n",
    "    \n",
    "    df.to_csv(os.path.join(DATASETPATH, 'patients.csv'), encoding='utf-8', index=False)    "
   ]
  },
  {
   "cell_type": "code",
   "execution_count": 11,
   "id": "782038b5-b113-4754-ac69-fac2dcea907a",
   "metadata": {},
   "outputs": [],
   "source": [
    "generatePatientsInfoTable()"
   ]
  }
 ],
 "metadata": {
  "kernelspec": {
   "display_name": "ml",
   "language": "python",
   "name": "ml"
  },
  "language_info": {
   "codemirror_mode": {
    "name": "ipython",
    "version": 3
   },
   "file_extension": ".py",
   "mimetype": "text/x-python",
   "name": "python",
   "nbconvert_exporter": "python",
   "pygments_lexer": "ipython3",
   "version": "3.9.10"
  }
 },
 "nbformat": 4,
 "nbformat_minor": 5
}
