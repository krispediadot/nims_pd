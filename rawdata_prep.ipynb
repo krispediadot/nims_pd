{
 "cells": [
  {
   "cell_type": "markdown",
   "id": "ffc79b61-fd27-48d2-b07e-8ca990ca4d0c",
   "metadata": {},
   "source": [
    "## 1. Info"
   ]
  },
  {
   "cell_type": "code",
   "execution_count": 1,
   "id": "b6f9d8b8-9de7-48b8-a64c-4649f7d15526",
   "metadata": {},
   "outputs": [],
   "source": [
    "import os \n",
    "\n",
    "DATAPATH = './FW&BW_Rawdata/'"
   ]
  },
  {
   "cell_type": "code",
   "execution_count": 2,
   "id": "6795e585-64e1-4704-b5d1-726f584e4adb",
   "metadata": {},
   "outputs": [
    {
     "name": "stdout",
     "output_type": "stream",
     "text": [
      "PD: 81\n"
     ]
    }
   ],
   "source": [
    "files = os.listdir(DATAPATH + 'PD')\n",
    "fnames = set()\n",
    "\n",
    "for f in files:\n",
    "    fnames.add(f[:3])\n",
    "    \n",
    "print('PD:', len(fnames))"
   ]
  },
  {
   "cell_type": "code",
   "execution_count": 3,
   "id": "08dd3212-e74a-4d23-b308-3ce22f73994a",
   "metadata": {},
   "outputs": [
    {
     "name": "stdout",
     "output_type": "stream",
     "text": [
      "Controls: 15\n"
     ]
    }
   ],
   "source": [
    "files = os.listdir(DATAPATH + 'Controls')\n",
    "fnames = set()\n",
    "\n",
    "for f in files:\n",
    "    fnames.add(f[:3])\n",
    "    \n",
    "print('Controls:', len(fnames))"
   ]
  },
  {
   "cell_type": "markdown",
   "id": "17d2e0d4-6e57-4756-8cf2-de8a8b331e9d",
   "metadata": {},
   "source": [
    "## 2. Prep"
   ]
  },
  {
   "cell_type": "code",
   "execution_count": 4,
   "id": "1d650765-1015-4193-b899-352427d78ed6",
   "metadata": {},
   "outputs": [],
   "source": [
    "import pandas as pd\n",
    "\n",
    "RAWDATAPATH = './FW&BW_Rawdata/PD'\n",
    "DATASETPATH = './dataset/'\n",
    "\n",
    "if os.path.exists(DATASETPATH) == False:\n",
    "    os.mkdir(DATASETPATH)\n",
    "\n",
    "# TARGET_FILE = 'AMJ_BW1.csv' "
   ]
  },
  {
   "cell_type": "code",
   "execution_count": 5,
   "id": "dfa62f6a-7b21-4784-8441-9d3dd8f1ea17",
   "metadata": {},
   "outputs": [],
   "source": [
    "def prepData(TARGET_PATH, ptype):\n",
    "    # 1. 2줄 제외하고 읽기\n",
    "    dff = pd.read_csv(TARGET_PATH, skiprows=2, encoding='utf-8')\n",
    "    \n",
    "    # 2. 전체 none인 컬럼 제외\n",
    "    while dff[list(dff.columns)[-1]].isna().all():\n",
    "        dff.drop(list(dff.columns)[-1], axis=1, inplace=True)\n",
    "        \n",
    "    # 3. 단위가 mm인 데이터만 추출\n",
    "    target = [0, 1]\n",
    "    target += list(filter(lambda x : list(dff.iloc[1] == 'mm')[x], range(len(list(dff.iloc[1])))))\n",
    "    dff = dff.iloc[:, target]\n",
    "    dff.drop(dff.index[1], inplace=True)\n",
    "    \n",
    "    # 4. 컬럼 이름 변경하기 \n",
    "\n",
    "    pList = dff.columns\n",
    "    colList = dff.iloc[0]\n",
    "\n",
    "    NAME = None\n",
    "\n",
    "    pNames = []\n",
    "    for p in pList:\n",
    "        if not p.startswith('Unnamed'):\n",
    "            if NAME == None: NAME = p.split(':')[0]\n",
    "            pNames.append(p.split(':')[1])\n",
    "            \n",
    "#     print(pNames)\n",
    "#     print(colList[2:])\n",
    "\n",
    "#     assert len(pNames) == 39 and len(colList[2:]) == 39*3\n",
    "\n",
    "    columns = []\n",
    "    columns.append(colList[0])\n",
    "    columns.append(colList[1])\n",
    "    for idx, col in enumerate(colList[2:]):\n",
    "        i = int(idx / 3)\n",
    "        eachColName = pNames[i] + '_' + col\n",
    "        columns.append(eachColName)\n",
    "\n",
    "    assert len(columns) == len(list(dff.columns))\n",
    "\n",
    "    dff.drop(dff.index[0], inplace=True)\n",
    "    dff.reset_index(drop=True, inplace=True)\n",
    "\n",
    "    dff.columns = columns\n",
    "    \n",
    "    if os.path.exists(DATASETPATH + ptype) == False:\n",
    "        os.mkdir(DATASETPATH + ptype)\n",
    "        \n",
    "    dff.to_csv(os.path.join(DATASETPATH + ptype, 'PREP_'+TARGET_FILE), encoding='utf-8', index=False)\n",
    "    \n",
    "#     print(dff.head())"
   ]
  },
  {
   "cell_type": "code",
   "execution_count": 6,
   "id": "7846a283-0ba3-4c47-a088-6d93a3c1e367",
   "metadata": {
    "collapsed": true,
    "jupyter": {
     "outputs_hidden": true
    },
    "tags": []
   },
   "outputs": [
    {
     "ename": "KeyboardInterrupt",
     "evalue": "",
     "output_type": "error",
     "traceback": [
      "\u001b[0;31m---------------------------------------------------------------------------\u001b[0m",
      "\u001b[0;31mKeyboardInterrupt\u001b[0m                         Traceback (most recent call last)",
      "\u001b[0;32m/var/folders/0z/3w3jhk9x69bbkzptbymwgxww0000gn/T/ipykernel_66889/1980524013.py\u001b[0m in \u001b[0;36m<module>\u001b[0;34m\u001b[0m\n\u001b[1;32m      2\u001b[0m \u001b[0;32mfor\u001b[0m \u001b[0mTARGET_FILE\u001b[0m \u001b[0;32min\u001b[0m \u001b[0mos\u001b[0m\u001b[0;34m.\u001b[0m\u001b[0mlistdir\u001b[0m\u001b[0;34m(\u001b[0m\u001b[0mRAWDATAPATH\u001b[0m\u001b[0;34m)\u001b[0m\u001b[0;34m:\u001b[0m\u001b[0;34m\u001b[0m\u001b[0;34m\u001b[0m\u001b[0m\n\u001b[1;32m      3\u001b[0m     \u001b[0;32mif\u001b[0m \u001b[0mTARGET_FILE\u001b[0m\u001b[0;34m.\u001b[0m\u001b[0mendswith\u001b[0m\u001b[0;34m(\u001b[0m\u001b[0;34m'.csv'\u001b[0m\u001b[0;34m)\u001b[0m\u001b[0;34m:\u001b[0m\u001b[0;34m\u001b[0m\u001b[0;34m\u001b[0m\u001b[0m\n\u001b[0;32m----> 4\u001b[0;31m         \u001b[0mprepData\u001b[0m\u001b[0;34m(\u001b[0m\u001b[0mos\u001b[0m\u001b[0;34m.\u001b[0m\u001b[0mpath\u001b[0m\u001b[0;34m.\u001b[0m\u001b[0mjoin\u001b[0m\u001b[0;34m(\u001b[0m\u001b[0mRAWDATAPATH\u001b[0m\u001b[0;34m,\u001b[0m \u001b[0mTARGET_FILE\u001b[0m\u001b[0;34m)\u001b[0m\u001b[0;34m,\u001b[0m \u001b[0mRAWDATAPATH\u001b[0m\u001b[0;34m.\u001b[0m\u001b[0msplit\u001b[0m\u001b[0;34m(\u001b[0m\u001b[0;34m'/'\u001b[0m\u001b[0;34m)\u001b[0m\u001b[0;34m[\u001b[0m\u001b[0;34m-\u001b[0m\u001b[0;36m1\u001b[0m\u001b[0;34m]\u001b[0m\u001b[0;34m)\u001b[0m\u001b[0;34m\u001b[0m\u001b[0;34m\u001b[0m\u001b[0m\n\u001b[0m",
      "\u001b[0;32m/var/folders/0z/3w3jhk9x69bbkzptbymwgxww0000gn/T/ipykernel_66889/3970556835.py\u001b[0m in \u001b[0;36mprepData\u001b[0;34m(TARGET_PATH, ptype)\u001b[0m\n\u001b[1;32m      1\u001b[0m \u001b[0;32mdef\u001b[0m \u001b[0mprepData\u001b[0m\u001b[0;34m(\u001b[0m\u001b[0mTARGET_PATH\u001b[0m\u001b[0;34m,\u001b[0m \u001b[0mptype\u001b[0m\u001b[0;34m)\u001b[0m\u001b[0;34m:\u001b[0m\u001b[0;34m\u001b[0m\u001b[0;34m\u001b[0m\u001b[0m\n\u001b[1;32m      2\u001b[0m     \u001b[0;31m# 1. 2줄 제외하고 읽기\u001b[0m\u001b[0;34m\u001b[0m\u001b[0;34m\u001b[0m\u001b[0m\n\u001b[0;32m----> 3\u001b[0;31m     \u001b[0mdff\u001b[0m \u001b[0;34m=\u001b[0m \u001b[0mpd\u001b[0m\u001b[0;34m.\u001b[0m\u001b[0mread_csv\u001b[0m\u001b[0;34m(\u001b[0m\u001b[0mTARGET_PATH\u001b[0m\u001b[0;34m,\u001b[0m \u001b[0mskiprows\u001b[0m\u001b[0;34m=\u001b[0m\u001b[0;36m2\u001b[0m\u001b[0;34m,\u001b[0m \u001b[0mencoding\u001b[0m\u001b[0;34m=\u001b[0m\u001b[0;34m'utf-8'\u001b[0m\u001b[0;34m)\u001b[0m\u001b[0;34m\u001b[0m\u001b[0;34m\u001b[0m\u001b[0m\n\u001b[0m\u001b[1;32m      4\u001b[0m \u001b[0;34m\u001b[0m\u001b[0m\n\u001b[1;32m      5\u001b[0m     \u001b[0;31m# 2. 전체 none인 컬럼 제외\u001b[0m\u001b[0;34m\u001b[0m\u001b[0;34m\u001b[0m\u001b[0m\n",
      "\u001b[0;32m~/.virtualenvs/ml/lib/python3.9/site-packages/pandas/util/_decorators.py\u001b[0m in \u001b[0;36mwrapper\u001b[0;34m(*args, **kwargs)\u001b[0m\n\u001b[1;32m    309\u001b[0m                     \u001b[0mstacklevel\u001b[0m\u001b[0;34m=\u001b[0m\u001b[0mstacklevel\u001b[0m\u001b[0;34m,\u001b[0m\u001b[0;34m\u001b[0m\u001b[0;34m\u001b[0m\u001b[0m\n\u001b[1;32m    310\u001b[0m                 )\n\u001b[0;32m--> 311\u001b[0;31m             \u001b[0;32mreturn\u001b[0m \u001b[0mfunc\u001b[0m\u001b[0;34m(\u001b[0m\u001b[0;34m*\u001b[0m\u001b[0margs\u001b[0m\u001b[0;34m,\u001b[0m \u001b[0;34m**\u001b[0m\u001b[0mkwargs\u001b[0m\u001b[0;34m)\u001b[0m\u001b[0;34m\u001b[0m\u001b[0;34m\u001b[0m\u001b[0m\n\u001b[0m\u001b[1;32m    312\u001b[0m \u001b[0;34m\u001b[0m\u001b[0m\n\u001b[1;32m    313\u001b[0m         \u001b[0;32mreturn\u001b[0m \u001b[0mwrapper\u001b[0m\u001b[0;34m\u001b[0m\u001b[0;34m\u001b[0m\u001b[0m\n",
      "\u001b[0;32m~/.virtualenvs/ml/lib/python3.9/site-packages/pandas/io/parsers/readers.py\u001b[0m in \u001b[0;36mread_csv\u001b[0;34m(filepath_or_buffer, sep, delimiter, header, names, index_col, usecols, squeeze, prefix, mangle_dupe_cols, dtype, engine, converters, true_values, false_values, skipinitialspace, skiprows, skipfooter, nrows, na_values, keep_default_na, na_filter, verbose, skip_blank_lines, parse_dates, infer_datetime_format, keep_date_col, date_parser, dayfirst, cache_dates, iterator, chunksize, compression, thousands, decimal, lineterminator, quotechar, quoting, doublequote, escapechar, comment, encoding, encoding_errors, dialect, error_bad_lines, warn_bad_lines, on_bad_lines, delim_whitespace, low_memory, memory_map, float_precision, storage_options)\u001b[0m\n\u001b[1;32m    584\u001b[0m     \u001b[0mkwds\u001b[0m\u001b[0;34m.\u001b[0m\u001b[0mupdate\u001b[0m\u001b[0;34m(\u001b[0m\u001b[0mkwds_defaults\u001b[0m\u001b[0;34m)\u001b[0m\u001b[0;34m\u001b[0m\u001b[0;34m\u001b[0m\u001b[0m\n\u001b[1;32m    585\u001b[0m \u001b[0;34m\u001b[0m\u001b[0m\n\u001b[0;32m--> 586\u001b[0;31m     \u001b[0;32mreturn\u001b[0m \u001b[0m_read\u001b[0m\u001b[0;34m(\u001b[0m\u001b[0mfilepath_or_buffer\u001b[0m\u001b[0;34m,\u001b[0m \u001b[0mkwds\u001b[0m\u001b[0;34m)\u001b[0m\u001b[0;34m\u001b[0m\u001b[0;34m\u001b[0m\u001b[0m\n\u001b[0m\u001b[1;32m    587\u001b[0m \u001b[0;34m\u001b[0m\u001b[0m\n\u001b[1;32m    588\u001b[0m \u001b[0;34m\u001b[0m\u001b[0m\n",
      "\u001b[0;32m~/.virtualenvs/ml/lib/python3.9/site-packages/pandas/io/parsers/readers.py\u001b[0m in \u001b[0;36m_read\u001b[0;34m(filepath_or_buffer, kwds)\u001b[0m\n\u001b[1;32m    486\u001b[0m \u001b[0;34m\u001b[0m\u001b[0m\n\u001b[1;32m    487\u001b[0m     \u001b[0;32mwith\u001b[0m \u001b[0mparser\u001b[0m\u001b[0;34m:\u001b[0m\u001b[0;34m\u001b[0m\u001b[0;34m\u001b[0m\u001b[0m\n\u001b[0;32m--> 488\u001b[0;31m         \u001b[0;32mreturn\u001b[0m \u001b[0mparser\u001b[0m\u001b[0;34m.\u001b[0m\u001b[0mread\u001b[0m\u001b[0;34m(\u001b[0m\u001b[0mnrows\u001b[0m\u001b[0;34m)\u001b[0m\u001b[0;34m\u001b[0m\u001b[0;34m\u001b[0m\u001b[0m\n\u001b[0m\u001b[1;32m    489\u001b[0m \u001b[0;34m\u001b[0m\u001b[0m\n\u001b[1;32m    490\u001b[0m \u001b[0;34m\u001b[0m\u001b[0m\n",
      "\u001b[0;32m~/.virtualenvs/ml/lib/python3.9/site-packages/pandas/io/parsers/readers.py\u001b[0m in \u001b[0;36mread\u001b[0;34m(self, nrows)\u001b[0m\n\u001b[1;32m   1045\u001b[0m     \u001b[0;32mdef\u001b[0m \u001b[0mread\u001b[0m\u001b[0;34m(\u001b[0m\u001b[0mself\u001b[0m\u001b[0;34m,\u001b[0m \u001b[0mnrows\u001b[0m\u001b[0;34m=\u001b[0m\u001b[0;32mNone\u001b[0m\u001b[0;34m)\u001b[0m\u001b[0;34m:\u001b[0m\u001b[0;34m\u001b[0m\u001b[0;34m\u001b[0m\u001b[0m\n\u001b[1;32m   1046\u001b[0m         \u001b[0mnrows\u001b[0m \u001b[0;34m=\u001b[0m \u001b[0mvalidate_integer\u001b[0m\u001b[0;34m(\u001b[0m\u001b[0;34m\"nrows\"\u001b[0m\u001b[0;34m,\u001b[0m \u001b[0mnrows\u001b[0m\u001b[0;34m)\u001b[0m\u001b[0;34m\u001b[0m\u001b[0;34m\u001b[0m\u001b[0m\n\u001b[0;32m-> 1047\u001b[0;31m         \u001b[0mindex\u001b[0m\u001b[0;34m,\u001b[0m \u001b[0mcolumns\u001b[0m\u001b[0;34m,\u001b[0m \u001b[0mcol_dict\u001b[0m \u001b[0;34m=\u001b[0m \u001b[0mself\u001b[0m\u001b[0;34m.\u001b[0m\u001b[0m_engine\u001b[0m\u001b[0;34m.\u001b[0m\u001b[0mread\u001b[0m\u001b[0;34m(\u001b[0m\u001b[0mnrows\u001b[0m\u001b[0;34m)\u001b[0m\u001b[0;34m\u001b[0m\u001b[0;34m\u001b[0m\u001b[0m\n\u001b[0m\u001b[1;32m   1048\u001b[0m \u001b[0;34m\u001b[0m\u001b[0m\n\u001b[1;32m   1049\u001b[0m         \u001b[0;32mif\u001b[0m \u001b[0mindex\u001b[0m \u001b[0;32mis\u001b[0m \u001b[0;32mNone\u001b[0m\u001b[0;34m:\u001b[0m\u001b[0;34m\u001b[0m\u001b[0;34m\u001b[0m\u001b[0m\n",
      "\u001b[0;32m~/.virtualenvs/ml/lib/python3.9/site-packages/pandas/io/parsers/c_parser_wrapper.py\u001b[0m in \u001b[0;36mread\u001b[0;34m(self, nrows)\u001b[0m\n\u001b[1;32m    221\u001b[0m         \u001b[0;32mtry\u001b[0m\u001b[0;34m:\u001b[0m\u001b[0;34m\u001b[0m\u001b[0;34m\u001b[0m\u001b[0m\n\u001b[1;32m    222\u001b[0m             \u001b[0;32mif\u001b[0m \u001b[0mself\u001b[0m\u001b[0;34m.\u001b[0m\u001b[0mlow_memory\u001b[0m\u001b[0;34m:\u001b[0m\u001b[0;34m\u001b[0m\u001b[0;34m\u001b[0m\u001b[0m\n\u001b[0;32m--> 223\u001b[0;31m                 \u001b[0mchunks\u001b[0m \u001b[0;34m=\u001b[0m \u001b[0mself\u001b[0m\u001b[0;34m.\u001b[0m\u001b[0m_reader\u001b[0m\u001b[0;34m.\u001b[0m\u001b[0mread_low_memory\u001b[0m\u001b[0;34m(\u001b[0m\u001b[0mnrows\u001b[0m\u001b[0;34m)\u001b[0m\u001b[0;34m\u001b[0m\u001b[0;34m\u001b[0m\u001b[0m\n\u001b[0m\u001b[1;32m    224\u001b[0m                 \u001b[0;31m# destructive to chunks\u001b[0m\u001b[0;34m\u001b[0m\u001b[0;34m\u001b[0m\u001b[0m\n\u001b[1;32m    225\u001b[0m                 \u001b[0mdata\u001b[0m \u001b[0;34m=\u001b[0m \u001b[0m_concatenate_chunks\u001b[0m\u001b[0;34m(\u001b[0m\u001b[0mchunks\u001b[0m\u001b[0;34m)\u001b[0m\u001b[0;34m\u001b[0m\u001b[0;34m\u001b[0m\u001b[0m\n",
      "\u001b[0;32m~/.virtualenvs/ml/lib/python3.9/site-packages/pandas/_libs/parsers.pyx\u001b[0m in \u001b[0;36mpandas._libs.parsers.TextReader.read_low_memory\u001b[0;34m()\u001b[0m\n",
      "\u001b[0;32m~/.virtualenvs/ml/lib/python3.9/site-packages/pandas/_libs/parsers.pyx\u001b[0m in \u001b[0;36mpandas._libs.parsers.TextReader._read_rows\u001b[0;34m()\u001b[0m\n",
      "\u001b[0;32m~/.virtualenvs/ml/lib/python3.9/site-packages/pandas/_libs/parsers.pyx\u001b[0m in \u001b[0;36mpandas._libs.parsers.TextReader._convert_column_data\u001b[0;34m()\u001b[0m\n",
      "\u001b[0;32m~/.virtualenvs/ml/lib/python3.9/site-packages/pandas/core/dtypes/common.py\u001b[0m in \u001b[0;36mis_extension_array_dtype\u001b[0;34m(arr_or_dtype)\u001b[0m\n\u001b[1;32m   1418\u001b[0m \u001b[0;34m\u001b[0m\u001b[0m\n\u001b[1;32m   1419\u001b[0m \u001b[0;34m\u001b[0m\u001b[0m\n\u001b[0;32m-> 1420\u001b[0;31m \u001b[0;32mdef\u001b[0m \u001b[0mis_extension_array_dtype\u001b[0m\u001b[0;34m(\u001b[0m\u001b[0marr_or_dtype\u001b[0m\u001b[0;34m)\u001b[0m \u001b[0;34m->\u001b[0m \u001b[0mbool\u001b[0m\u001b[0;34m:\u001b[0m\u001b[0;34m\u001b[0m\u001b[0;34m\u001b[0m\u001b[0m\n\u001b[0m\u001b[1;32m   1421\u001b[0m     \"\"\"\n\u001b[1;32m   1422\u001b[0m     \u001b[0mCheck\u001b[0m \u001b[0;32mif\u001b[0m \u001b[0man\u001b[0m \u001b[0mobject\u001b[0m \u001b[0;32mis\u001b[0m \u001b[0ma\u001b[0m \u001b[0mpandas\u001b[0m \u001b[0mextension\u001b[0m \u001b[0marray\u001b[0m \u001b[0mtype\u001b[0m\u001b[0;34m.\u001b[0m\u001b[0;34m\u001b[0m\u001b[0;34m\u001b[0m\u001b[0m\n",
      "\u001b[0;31mKeyboardInterrupt\u001b[0m: "
     ]
    }
   ],
   "source": [
    "RAWDATAPATH = './FW&BW_Rawdata/PD'\n",
    "for TARGET_FILE in os.listdir(RAWDATAPATH):\n",
    "    if TARGET_FILE.endswith('.csv'):\n",
    "        prepData(os.path.join(RAWDATAPATH, TARGET_FILE), RAWDATAPATH.split('/')[-1])"
   ]
  },
  {
   "cell_type": "code",
   "execution_count": null,
   "id": "091bf6b0-bc7e-440b-8105-9bdf3c0b3302",
   "metadata": {},
   "outputs": [],
   "source": [
    "RAWDATAPATH = './FW&BW_Rawdata/Controls'\n",
    "for TARGET_FILE in os.listdir(RAWDATAPATH):\n",
    "    if TARGET_FILE.endswith('.csv'):\n",
    "        prepData(os.path.join(RAWDATAPATH, TARGET_FILE), RAWDATAPATH.split('/')[-1])"
   ]
  },
  {
   "cell_type": "code",
   "execution_count": 108,
   "id": "3dc6cece-4047-4e5f-9329-e87a037de308",
   "metadata": {},
   "outputs": [],
   "source": [
    "RAWDATAPATH = './FW&BW_Rawdata/Controls(추가)'\n",
    "for TARGET_FILE in os.listdir(RAWDATAPATH):\n",
    "    if TARGET_FILE.endswith('.csv'):\n",
    "        prepData(os.path.join(RAWDATAPATH, TARGET_FILE), RAWDATAPATH.split('/')[-1])"
   ]
  },
  {
   "cell_type": "code",
   "execution_count": 109,
   "id": "a484c12d-701e-4920-9801-f5b280ddbb00",
   "metadata": {},
   "outputs": [
    {
     "name": "stdout",
     "output_type": "stream",
     "text": [
      "PD: 83\n",
      "Controls: 22\n"
     ]
    }
   ],
   "source": [
    "# 데이터 확인\n",
    "files = os.listdir(DATASETPATH + 'PD')\n",
    "fnames = set()\n",
    "\n",
    "for f in files:\n",
    "    if f.endswith('.csv'):\n",
    "        fnames.add(f.split('_')[1])\n",
    "    \n",
    "print('PD:', len(fnames))\n",
    "\n",
    "files = os.listdir(DATASETPATH + 'Controls')\n",
    "fnames = set()\n",
    "\n",
    "for f in files:\n",
    "    if f.endswith('.csv'):\n",
    "        fnames.add(f.split('_')[1])\n",
    "    \n",
    "print('Controls:', len(fnames))"
   ]
  },
  {
   "cell_type": "markdown",
   "id": "65f95e64-a81b-47a7-bc4b-352c4f5a54eb",
   "metadata": {},
   "source": [
    "## 3. 환자별 데이터 테이블 생성"
   ]
  },
  {
   "cell_type": "code",
   "execution_count": 7,
   "id": "ec161c0e-4ca4-4c18-b5d5-394e91315c7a",
   "metadata": {},
   "outputs": [],
   "source": [
    "import os\n",
    "\n",
    "DATASETPATH = './dataset/'\n",
    "DATA_CONTROL = os.path.join(DATASETPATH , 'Controls')\n",
    "DATA_PD = os.path.join(DATASETPATH, 'PD') "
   ]
  },
  {
   "cell_type": "code",
   "execution_count": 43,
   "id": "92faff3a-9e39-4e2f-b770-eefafab428b2",
   "metadata": {},
   "outputs": [],
   "source": [
    "patient = []\n",
    "category = []\n",
    "cntFW = []\n",
    "cntBW = []\n",
    "pathFW = []\n",
    "pathBW = []"
   ]
  },
  {
   "cell_type": "code",
   "execution_count": 44,
   "id": "4a90f22a-5457-4ecb-ba9e-73baa7698ba4",
   "metadata": {},
   "outputs": [],
   "source": [
    "# Controls\n",
    "files = os.listdir(DATA_CONTROL)\n",
    "files.sort()\n",
    "\n",
    "prevName = files[0].split('_')[1]\n",
    "idx = 0\n",
    "\n",
    "while idx < len(files):\n",
    "    if files[idx].endswith('.csv'):\n",
    "        files[idx].replace('.csv','')\n",
    "        _, pName, bwfw = files[idx].split('_')\n",
    "        bw = 0\n",
    "        fw = 0\n",
    "        pFW = []\n",
    "        pBW = []\n",
    "        while pName == prevName:\n",
    "            if bwfw.startswith('BW'):\n",
    "                bw += 1\n",
    "                pBW.append(os.path.join(DATA_CONTROL, files[idx]))\n",
    "            else:\n",
    "                fw += 1\n",
    "                pFW.append(os.path.join(DATA_CONTROL, files[idx]))\n",
    "#             print(f.split('_')[1], f.split('_')[2].split('.csv')[0])\n",
    "            idx += 1\n",
    "            if idx == len(files): break\n",
    "            _, pName, bwfw = files[idx].split('_')\n",
    "        \n",
    "        patient.append(prevName)\n",
    "        category.append('Controls')\n",
    "        cntFW.append(fw)\n",
    "        cntBW.append(bw)\n",
    "        pathFW.append(pFW)\n",
    "        pathBW.append(pBW)\n",
    "        \n",
    "        prevName = pName"
   ]
  },
  {
   "cell_type": "code",
   "execution_count": 45,
   "id": "af2d71a1-f037-443b-82a8-d3ad4dcdd431",
   "metadata": {},
   "outputs": [],
   "source": [
    "# PD\n",
    "files = os.listdir(DATA_PD)\n",
    "files.sort()\n",
    "\n",
    "prevName = files[0].split('_')[1]\n",
    "idx = 0\n",
    "\n",
    "while idx < len(files):\n",
    "    if files[idx].endswith('.csv'):\n",
    "        files[idx].replace('.csv','')\n",
    "        if len(files[idx].split('_')) == 3:\n",
    "            _, pName, bwfw = files[idx].split('_')\n",
    "        else:\n",
    "            _, pName, bwfw, _ = files[idx].split('_')\n",
    "        bw = 0\n",
    "        fw = 0\n",
    "        pFW = []\n",
    "        pBW = []\n",
    "        while pName == prevName:\n",
    "            if bwfw.startswith('BW'):\n",
    "                bw += 1\n",
    "                pBW.append(os.path.join(DATA_CONTROL, files[idx]))\n",
    "            else:\n",
    "                fw += 1\n",
    "                pFW.append(os.path.join(DATA_CONTROL, files[idx]))\n",
    "#             print(f.split('_')[1], f.split('_')[2].split('.csv')[0])\n",
    "            idx += 1\n",
    "            if idx == len(files): break\n",
    "#             print(files[idx])\n",
    "            if len(files[idx].split('_')) == 3:\n",
    "                _, pName, bwfw = files[idx].split('_')\n",
    "            else:\n",
    "                _, pName, bwfw, _ = files[idx].split('_')\n",
    "                   \n",
    "        patient.append(prevName)\n",
    "        category.append('PD')\n",
    "        cntFW.append(fw)\n",
    "        cntBW.append(bw)\n",
    "        \n",
    "        prevName = pName"
   ]
  },
  {
   "cell_type": "code",
   "execution_count": 49,
   "id": "544fe14e-02b4-487b-92bb-503c21fb484d",
   "metadata": {},
   "outputs": [],
   "source": [
    "df = pd.DataFrame()\n",
    "df['Patient'] = patient\n",
    "df['Category'] = category\n",
    "df['cntFW'] = cntFW\n",
    "df['cntBW'] = cntBW\n",
    "# df['pathFW'] = pathFW\n",
    "# df['pathBW'] = pathBW"
   ]
  },
  {
   "cell_type": "code",
   "execution_count": 50,
   "id": "eb188dea-1096-4de8-a9c4-85ce5dd13b55",
   "metadata": {},
   "outputs": [
    {
     "data": {
      "text/html": [
       "<div>\n",
       "<style scoped>\n",
       "    .dataframe tbody tr th:only-of-type {\n",
       "        vertical-align: middle;\n",
       "    }\n",
       "\n",
       "    .dataframe tbody tr th {\n",
       "        vertical-align: top;\n",
       "    }\n",
       "\n",
       "    .dataframe thead th {\n",
       "        text-align: right;\n",
       "    }\n",
       "</style>\n",
       "<table border=\"1\" class=\"dataframe\">\n",
       "  <thead>\n",
       "    <tr style=\"text-align: right;\">\n",
       "      <th></th>\n",
       "      <th>Patient</th>\n",
       "      <th>Category</th>\n",
       "      <th>cntFW</th>\n",
       "      <th>cntBW</th>\n",
       "    </tr>\n",
       "  </thead>\n",
       "  <tbody>\n",
       "    <tr>\n",
       "      <th>0</th>\n",
       "      <td>BHY</td>\n",
       "      <td>Controls</td>\n",
       "      <td>3</td>\n",
       "      <td>3</td>\n",
       "    </tr>\n",
       "    <tr>\n",
       "      <th>1</th>\n",
       "      <td>CHH</td>\n",
       "      <td>Controls</td>\n",
       "      <td>3</td>\n",
       "      <td>3</td>\n",
       "    </tr>\n",
       "    <tr>\n",
       "      <th>2</th>\n",
       "      <td>HSH</td>\n",
       "      <td>Controls</td>\n",
       "      <td>3</td>\n",
       "      <td>3</td>\n",
       "    </tr>\n",
       "    <tr>\n",
       "      <th>3</th>\n",
       "      <td>JHY</td>\n",
       "      <td>Controls</td>\n",
       "      <td>3</td>\n",
       "      <td>3</td>\n",
       "    </tr>\n",
       "    <tr>\n",
       "      <th>4</th>\n",
       "      <td>JJG</td>\n",
       "      <td>Controls</td>\n",
       "      <td>3</td>\n",
       "      <td>3</td>\n",
       "    </tr>\n",
       "    <tr>\n",
       "      <th>...</th>\n",
       "      <td>...</td>\n",
       "      <td>...</td>\n",
       "      <td>...</td>\n",
       "      <td>...</td>\n",
       "    </tr>\n",
       "    <tr>\n",
       "      <th>100</th>\n",
       "      <td>YJM</td>\n",
       "      <td>PD</td>\n",
       "      <td>3</td>\n",
       "      <td>3</td>\n",
       "    </tr>\n",
       "    <tr>\n",
       "      <th>101</th>\n",
       "      <td>YKJ</td>\n",
       "      <td>PD</td>\n",
       "      <td>3</td>\n",
       "      <td>3</td>\n",
       "    </tr>\n",
       "    <tr>\n",
       "      <th>102</th>\n",
       "      <td>YKS</td>\n",
       "      <td>PD</td>\n",
       "      <td>3</td>\n",
       "      <td>3</td>\n",
       "    </tr>\n",
       "    <tr>\n",
       "      <th>103</th>\n",
       "      <td>YSC</td>\n",
       "      <td>PD</td>\n",
       "      <td>3</td>\n",
       "      <td>3</td>\n",
       "    </tr>\n",
       "    <tr>\n",
       "      <th>104</th>\n",
       "      <td>YYS</td>\n",
       "      <td>PD</td>\n",
       "      <td>3</td>\n",
       "      <td>3</td>\n",
       "    </tr>\n",
       "  </tbody>\n",
       "</table>\n",
       "<p>105 rows × 4 columns</p>\n",
       "</div>"
      ],
      "text/plain": [
       "    Patient  Category  cntFW  cntBW\n",
       "0       BHY  Controls      3      3\n",
       "1       CHH  Controls      3      3\n",
       "2       HSH  Controls      3      3\n",
       "3       JHY  Controls      3      3\n",
       "4       JJG  Controls      3      3\n",
       "..      ...       ...    ...    ...\n",
       "100     YJM        PD      3      3\n",
       "101     YKJ        PD      3      3\n",
       "102     YKS        PD      3      3\n",
       "103     YSC        PD      3      3\n",
       "104     YYS        PD      3      3\n",
       "\n",
       "[105 rows x 4 columns]"
      ]
     },
     "execution_count": 50,
     "metadata": {},
     "output_type": "execute_result"
    }
   ],
   "source": [
    "df"
   ]
  },
  {
   "cell_type": "code",
   "execution_count": 39,
   "id": "afcdb96f-3595-4529-9f1e-ffd32f108b69",
   "metadata": {},
   "outputs": [],
   "source": [
    "df.to_csv(os.path.join(DATASETPATH, 'patients.csv'), encoding='utf-8', index=False)"
   ]
  },
  {
   "cell_type": "code",
   "execution_count": null,
   "id": "3eee7b93-31fe-4d63-af0d-0b3e274a01e8",
   "metadata": {},
   "outputs": [],
   "source": []
  }
 ],
 "metadata": {
  "kernelspec": {
   "display_name": "ml",
   "language": "python",
   "name": "ml"
  },
  "language_info": {
   "codemirror_mode": {
    "name": "ipython",
    "version": 3
   },
   "file_extension": ".py",
   "mimetype": "text/x-python",
   "name": "python",
   "nbconvert_exporter": "python",
   "pygments_lexer": "ipython3",
   "version": "3.9.10"
  }
 },
 "nbformat": 4,
 "nbformat_minor": 5
}
