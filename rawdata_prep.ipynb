{
 "cells": [
  {
   "cell_type": "markdown",
   "id": "ffc79b61-fd27-48d2-b07e-8ca990ca4d0c",
   "metadata": {},
   "source": [
    "## 1. Info"
   ]
  },
  {
   "cell_type": "code",
   "execution_count": 12,
   "id": "b6f9d8b8-9de7-48b8-a64c-4649f7d15526",
   "metadata": {},
   "outputs": [],
   "source": [
    "import os \n",
    "\n",
    "DATAPATH = './FW&BW_Rawdata/'"
   ]
  },
  {
   "cell_type": "code",
   "execution_count": 88,
   "id": "6795e585-64e1-4704-b5d1-726f584e4adb",
   "metadata": {},
   "outputs": [
    {
     "name": "stdout",
     "output_type": "stream",
     "text": [
      "PD: 81\n"
     ]
    }
   ],
   "source": [
    "files = os.listdir(DATAPATH + 'PD')\n",
    "fnames = set()\n",
    "\n",
    "for f in files:\n",
    "    fnames.add(f[:3])\n",
    "    \n",
    "print('PD:', len(fnames))"
   ]
  },
  {
   "cell_type": "code",
   "execution_count": 89,
   "id": "08dd3212-e74a-4d23-b308-3ce22f73994a",
   "metadata": {},
   "outputs": [
    {
     "name": "stdout",
     "output_type": "stream",
     "text": [
      "Controls: 15\n"
     ]
    }
   ],
   "source": [
    "files = os.listdir(DATAPATH + 'Controls')\n",
    "fnames = set()\n",
    "\n",
    "for f in files:\n",
    "    fnames.add(f[:3])\n",
    "    \n",
    "print('Controls:', len(fnames))"
   ]
  },
  {
   "cell_type": "markdown",
   "id": "17d2e0d4-6e57-4756-8cf2-de8a8b331e9d",
   "metadata": {},
   "source": [
    "## 2. Prep"
   ]
  },
  {
   "cell_type": "code",
   "execution_count": 60,
   "id": "1d650765-1015-4193-b899-352427d78ed6",
   "metadata": {},
   "outputs": [],
   "source": [
    "import pandas as pd\n",
    "\n",
    "RAWDATAPATH = './FW&BW_Rawdata/PD'\n",
    "DATASETPATH = './dataset/'\n",
    "\n",
    "if os.path.exists(DATASETPATH) == False:\n",
    "    os.mkdir(DATASETPATH)\n",
    "\n",
    "# TARGET_FILE = 'AMJ_BW1.csv' "
   ]
  },
  {
   "cell_type": "code",
   "execution_count": 61,
   "id": "dfa62f6a-7b21-4784-8441-9d3dd8f1ea17",
   "metadata": {},
   "outputs": [],
   "source": [
    "def prepData(TARGET_PATH, ptype):\n",
    "    # 1. 2줄 제외하고 읽기\n",
    "    dff = pd.read_csv(TARGET_PATH, skiprows=2, encoding='utf-8')\n",
    "    \n",
    "    # 2. 전체 none인 컬럼 제외\n",
    "    while dff[list(dff.columns)[-1]].isna().all():\n",
    "        dff.drop(list(dff.columns)[-1], axis=1, inplace=True)\n",
    "        \n",
    "    # 3. 단위가 mm인 데이터만 추출\n",
    "    target = [0, 1]\n",
    "    target += list(filter(lambda x : list(dff.iloc[1] == 'mm')[x], range(len(list(dff.iloc[1])))))\n",
    "    dff = dff.iloc[:, target]\n",
    "    dff.drop(dff.index[1], inplace=True)\n",
    "    \n",
    "    # 4. 컬럼 이름 변경하기 \n",
    "\n",
    "    pList = dff.columns\n",
    "    colList = dff.iloc[0]\n",
    "\n",
    "    NAME = None\n",
    "\n",
    "    pNames = []\n",
    "    for p in pList:\n",
    "        if not p.startswith('Unnamed'):\n",
    "            if NAME == None: NAME = p.split(':')[0]\n",
    "            pNames.append(p.split(':')[1])\n",
    "            \n",
    "#     print(pNames)\n",
    "#     print(colList[2:])\n",
    "\n",
    "#     assert len(pNames) == 39 and len(colList[2:]) == 39*3\n",
    "\n",
    "    columns = []\n",
    "    columns.append(colList[0])\n",
    "    columns.append(colList[1])\n",
    "    for idx, col in enumerate(colList[2:]):\n",
    "        i = int(idx / 3)\n",
    "        eachColName = pNames[i] + '_' + col\n",
    "        columns.append(eachColName)\n",
    "\n",
    "    assert len(columns) == len(list(dff.columns))\n",
    "\n",
    "    dff.drop(dff.index[0], inplace=True)\n",
    "    dff.reset_index(drop=True, inplace=True)\n",
    "\n",
    "    dff.columns = columns\n",
    "    \n",
    "    if os.path.exists(DATASETPATH + ptype) == False:\n",
    "        os.mkdir(DATASETPATH + ptype)\n",
    "        \n",
    "    dff.to_csv(os.path.join(DATASETPATH + ptype, 'PREP_'+TARGET_FILE), encoding='utf-8')\n",
    "    \n",
    "#     print(dff.head())"
   ]
  },
  {
   "cell_type": "code",
   "execution_count": 63,
   "id": "7846a283-0ba3-4c47-a088-6d93a3c1e367",
   "metadata": {
    "tags": []
   },
   "outputs": [],
   "source": [
    "RAWDATAPATH = './FW&BW_Rawdata/PD'\n",
    "for TARGET_FILE in os.listdir(RAWDATAPATH):\n",
    "    if TARGET_FILE.endswith('.csv'):\n",
    "        prepData(os.path.join(RAWDATAPATH, TARGET_FILE), RAWDATAPATH.split('/')[-1])"
   ]
  },
  {
   "cell_type": "code",
   "execution_count": 67,
   "id": "091bf6b0-bc7e-440b-8105-9bdf3c0b3302",
   "metadata": {},
   "outputs": [],
   "source": [
    "RAWDATAPATH = './FW&BW_Rawdata/Controls'\n",
    "for TARGET_FILE in os.listdir(RAWDATAPATH):\n",
    "    if TARGET_FILE.endswith('.csv'):\n",
    "        prepData(os.path.join(RAWDATAPATH, TARGET_FILE), RAWDATAPATH.split('/')[-1])"
   ]
  },
  {
   "cell_type": "code",
   "execution_count": 68,
   "id": "3dc6cece-4047-4e5f-9329-e87a037de308",
   "metadata": {},
   "outputs": [],
   "source": [
    "RAWDATAPATH = './FW&BW_Rawdata/Controls(추가)'\n",
    "for TARGET_FILE in os.listdir(RAWDATAPATH):\n",
    "    if TARGET_FILE.endswith('.csv'):\n",
    "        prepData(os.path.join(RAWDATAPATH, TARGET_FILE), RAWDATAPATH.split('/')[-1])"
   ]
  },
  {
   "cell_type": "code",
   "execution_count": null,
   "id": "e9d37fc9-d832-49bb-9d8b-30f29843eaff",
   "metadata": {},
   "outputs": [],
   "source": []
  },
  {
   "cell_type": "code",
   "execution_count": 100,
   "id": "a484c12d-701e-4920-9801-f5b280ddbb00",
   "metadata": {},
   "outputs": [
    {
     "name": "stdout",
     "output_type": "stream",
     "text": [
      "PD: 83\n",
      "Controls: 22\n"
     ]
    }
   ],
   "source": [
    "files = os.listdir(DATASETPATH + 'PD')\n",
    "fnames = set()\n",
    "\n",
    "for f in files:\n",
    "    if f.endswith('.csv'):\n",
    "        fnames.add(f.split('_')[1])\n",
    "    \n",
    "print('PD:', len(fnames))\n",
    "\n",
    "files = os.listdir(DATASETPATH + 'Controls')\n",
    "fnames = set()\n",
    "\n",
    "for f in files:\n",
    "    if f.endswith('.csv'):\n",
    "        fnames.add(f.split('_')[1])\n",
    "    \n",
    "print('Controls:', len(fnames))"
   ]
  },
  {
   "cell_type": "code",
   "execution_count": null,
   "id": "ec161c0e-4ca4-4c18-b5d5-394e91315c7a",
   "metadata": {},
   "outputs": [],
   "source": []
  }
 ],
 "metadata": {
  "kernelspec": {
   "display_name": "ml",
   "language": "python",
   "name": "ml"
  },
  "language_info": {
   "codemirror_mode": {
    "name": "ipython",
    "version": 3
   },
   "file_extension": ".py",
   "mimetype": "text/x-python",
   "name": "python",
   "nbconvert_exporter": "python",
   "pygments_lexer": "ipython3",
   "version": "3.9.10"
  }
 },
 "nbformat": 4,
 "nbformat_minor": 5
}
