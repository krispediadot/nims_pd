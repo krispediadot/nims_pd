{
 "cells": [
  {
   "cell_type": "code",
   "execution_count": 53,
   "id": "b138229f-c073-40d2-830e-80f5bd9d39bd",
   "metadata": {},
   "outputs": [],
   "source": [
    "import numpy as np \n",
    "import pandas as pd"
   ]
  },
  {
   "cell_type": "markdown",
   "id": "a4854866-06c5-4aad-987b-d47cd6747177",
   "metadata": {},
   "source": [
    "## 1. 환자 정보 가져오기"
   ]
  },
  {
   "cell_type": "code",
   "execution_count": 54,
   "id": "c8759d56-c894-4611-b842-76cb38448160",
   "metadata": {},
   "outputs": [],
   "source": [
    "import os\n",
    "\n",
    "DATASETPATH = './dataset/'\n",
    "DATA_CONTROL = os.path.join(DATASETPATH , 'Controls')\n",
    "DATA_PD = os.path.join(DATASETPATH, 'PD') "
   ]
  },
  {
   "cell_type": "code",
   "execution_count": 55,
   "id": "998d11d6-1503-48e1-9af3-b337f60fc8a3",
   "metadata": {},
   "outputs": [],
   "source": [
    "patients = pd.read_csv(os.path.join(DATASETPATH, 'patients.csv'), encoding='utf-8')"
   ]
  },
  {
   "cell_type": "code",
   "execution_count": 56,
   "id": "a6645596-12d6-408e-a6df-c235cdf401aa",
   "metadata": {},
   "outputs": [
    {
     "data": {
      "text/html": [
       "<div>\n",
       "<style scoped>\n",
       "    .dataframe tbody tr th:only-of-type {\n",
       "        vertical-align: middle;\n",
       "    }\n",
       "\n",
       "    .dataframe tbody tr th {\n",
       "        vertical-align: top;\n",
       "    }\n",
       "\n",
       "    .dataframe thead th {\n",
       "        text-align: right;\n",
       "    }\n",
       "</style>\n",
       "<table border=\"1\" class=\"dataframe\">\n",
       "  <thead>\n",
       "    <tr style=\"text-align: right;\">\n",
       "      <th></th>\n",
       "      <th>Patient</th>\n",
       "      <th>Category</th>\n",
       "      <th>cntFW</th>\n",
       "      <th>cntBW</th>\n",
       "    </tr>\n",
       "  </thead>\n",
       "  <tbody>\n",
       "    <tr>\n",
       "      <th>0</th>\n",
       "      <td>BHY</td>\n",
       "      <td>Controls</td>\n",
       "      <td>3</td>\n",
       "      <td>3</td>\n",
       "    </tr>\n",
       "    <tr>\n",
       "      <th>1</th>\n",
       "      <td>CHH</td>\n",
       "      <td>Controls</td>\n",
       "      <td>3</td>\n",
       "      <td>3</td>\n",
       "    </tr>\n",
       "    <tr>\n",
       "      <th>2</th>\n",
       "      <td>HSH</td>\n",
       "      <td>Controls</td>\n",
       "      <td>3</td>\n",
       "      <td>3</td>\n",
       "    </tr>\n",
       "    <tr>\n",
       "      <th>3</th>\n",
       "      <td>JHY</td>\n",
       "      <td>Controls</td>\n",
       "      <td>3</td>\n",
       "      <td>3</td>\n",
       "    </tr>\n",
       "    <tr>\n",
       "      <th>4</th>\n",
       "      <td>JJG</td>\n",
       "      <td>Controls</td>\n",
       "      <td>3</td>\n",
       "      <td>3</td>\n",
       "    </tr>\n",
       "  </tbody>\n",
       "</table>\n",
       "</div>"
      ],
      "text/plain": [
       "  Patient  Category  cntFW  cntBW\n",
       "0     BHY  Controls      3      3\n",
       "1     CHH  Controls      3      3\n",
       "2     HSH  Controls      3      3\n",
       "3     JHY  Controls      3      3\n",
       "4     JJG  Controls      3      3"
      ]
     },
     "execution_count": 56,
     "metadata": {},
     "output_type": "execute_result"
    }
   ],
   "source": [
    "patients.head()"
   ]
  },
  {
   "cell_type": "markdown",
   "id": "e99a8dd9-b156-4042-9971-03a8431be469",
   "metadata": {},
   "source": [
    "## 2. 각 환자별 BW & FW 데이터 가져오기"
   ]
  },
  {
   "cell_type": "code",
   "execution_count": 57,
   "id": "d55b7ecf-549b-49a0-8a80-8c2851a82379",
   "metadata": {},
   "outputs": [],
   "source": [
    "CATEGORY = \"Controls\"\n",
    "PATIENT = \"BHY\""
   ]
  },
  {
   "cell_type": "code",
   "execution_count": 58,
   "id": "ad1e1217-93da-444f-8c13-98cc3e947835",
   "metadata": {},
   "outputs": [],
   "source": [
    "import os\n",
    "import re\n",
    "\n",
    "# 환자별 BW & FW 데이터 위치 확인\n",
    "def getPatientDataPath(category:str, patient:str) -> list:\n",
    "    BW = []\n",
    "    FW = []\n",
    "    \n",
    "    if CATEGORY == \"Controls\": targetFolder = DATA_CONTROL\n",
    "    else : targetFolder = DATA_PD\n",
    "\n",
    "    files = os.listdir(targetFolder)\n",
    "    \n",
    "    p = re.compile(PATIENT)\n",
    "    idxs = list(filter(lambda x : p.search(files[x]) != None, range(len(files))))\n",
    "    \n",
    "    for idx in idxs:\n",
    "        f = files[idx]\n",
    "        if f.split('_')[2].startswith('FW'):\n",
    "            FW.append(os.path.join(targetFolder, f))\n",
    "        else:\n",
    "            BW.append(os.path.join(targetFolder, f))\n",
    "            \n",
    "    return BW, FW"
   ]
  },
  {
   "cell_type": "code",
   "execution_count": 59,
   "id": "024cc502-4213-4848-a967-6c132e824236",
   "metadata": {},
   "outputs": [],
   "source": [
    "BW, FW = getPatientDataPath(CATEGORY, PATIENT)"
   ]
  },
  {
   "cell_type": "code",
   "execution_count": 8,
   "id": "04c97ac4-48d3-47d6-a4a0-bccaf504c709",
   "metadata": {
    "collapsed": true,
    "jupyter": {
     "outputs_hidden": true,
     "source_hidden": true
    },
    "tags": []
   },
   "outputs": [
    {
     "data": {
      "text/plain": [
       "['./dataset/Controls/PREP_BHY_BW1.csv',\n",
       " './dataset/Controls/PREP_BHY_BW2.csv',\n",
       " './dataset/Controls/PREP_BHY_BW3.csv']"
      ]
     },
     "execution_count": 8,
     "metadata": {},
     "output_type": "execute_result"
    }
   ],
   "source": [
    "BW"
   ]
  },
  {
   "cell_type": "code",
   "execution_count": 9,
   "id": "de61b339-503b-4e3f-92b9-5acb3b6f4337",
   "metadata": {
    "collapsed": true,
    "jupyter": {
     "outputs_hidden": true,
     "source_hidden": true
    },
    "tags": []
   },
   "outputs": [
    {
     "data": {
      "text/plain": [
       "['./dataset/Controls/PREP_BHY_FW3.csv',\n",
       " './dataset/Controls/PREP_BHY_FW2.csv',\n",
       " './dataset/Controls/PREP_BHY_FW1.csv']"
      ]
     },
     "execution_count": 9,
     "metadata": {},
     "output_type": "execute_result"
    }
   ],
   "source": [
    "FW"
   ]
  },
  {
   "cell_type": "code",
   "execution_count": 62,
   "id": "d89bdf73-7744-4d7b-bfe1-480cee322809",
   "metadata": {},
   "outputs": [],
   "source": [
    "# 환자별 BW & FW 데이터 가져오기\n",
    "def getPatientData(category:str, patient:str) -> pd.DataFrame:\n",
    "    \n",
    "    BW, FW = getPatientDataPath(category, patient)\n",
    "    \n",
    "    BWdata = []\n",
    "    FWdata = []\n",
    "\n",
    "    for b in BW:\n",
    "        df = pd.read_csv(b, encoding='utf-8')\n",
    "        BWdata.append(df)\n",
    "#         print(\"컬럼 수:\", len(df.columns), \"위치 포인트 수:\", int((len(df.columns)-2)/3))\n",
    "\n",
    "    for f in FW:\n",
    "        df = pd.read_csv(f, encoding='utf-8')\n",
    "#         print(\"컬럼 수:\", len(df.columns), \"위치 포인트 수:\", int((len(df.columns)-2)/3))\n",
    "        \n",
    "\n",
    "    df1 = pd.read_csv(FW[0], encoding='utf-8')\n",
    "    columns1 = set(x.split('_')[0] for x in list(df1.columns)[2:])\n",
    "\n",
    "    df2 = pd.read_csv(FW[2], encoding='utf-8')\n",
    "    columns2 = set(x.split('_')[0] for x in list(df2.columns)[2:])\n",
    "\n",
    "    print(\"df1 포인트 수:\", len(columns1))\n",
    "    print(\"df2 포인트 수:\", len(columns2))\n",
    "\n",
    "    print(\"포인트 수 차이나는 이유:\", columns2 - columns1)\n",
    "        \n",
    "    return BWdata, FWdata"
   ]
  },
  {
   "cell_type": "code",
   "execution_count": 63,
   "id": "6826302a-4123-49c0-9687-3ed88a48f04c",
   "metadata": {},
   "outputs": [
    {
     "name": "stdout",
     "output_type": "stream",
     "text": [
      "df1 포인트 수: 39\n",
      "df2 포인트 수: 41\n",
      "포인트 수 차이나는 이유: {'CentreOfMass', 'CentreOfMassFloor'}\n"
     ]
    }
   ],
   "source": [
    "BWdata, FWdata = getPatientData(CATEGORY, PATIENT)"
   ]
  },
  {
   "cell_type": "code",
   "execution_count": null,
   "id": "094ad11c-3438-46ae-9005-8628d540f4e1",
   "metadata": {},
   "outputs": [],
   "source": []
  }
 ],
 "metadata": {
  "kernelspec": {
   "display_name": "ml",
   "language": "python",
   "name": "ml"
  },
  "language_info": {
   "codemirror_mode": {
    "name": "ipython",
    "version": 3
   },
   "file_extension": ".py",
   "mimetype": "text/x-python",
   "name": "python",
   "nbconvert_exporter": "python",
   "pygments_lexer": "ipython3",
   "version": "3.9.10"
  }
 },
 "nbformat": 4,
 "nbformat_minor": 5
}
