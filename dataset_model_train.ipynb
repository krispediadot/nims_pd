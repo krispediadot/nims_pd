{
 "cells": [
  {
   "cell_type": "code",
   "execution_count": 5,
   "id": "dec76c8b-b9cc-43b6-af1c-cdc4c7f30fee",
   "metadata": {},
   "outputs": [
    {
     "data": {
      "text/plain": [
       "39"
      ]
     },
     "execution_count": 5,
     "metadata": {},
     "output_type": "execute_result"
    }
   ],
   "source": [
    "# 39개 마커\n",
    "MARKERS = ['LFHD', 'RFHD', 'LBHD', 'RBHD', 'C7', 'LSHO', 'RSHO', 'CLAV', 'RBAK',\n",
    "           'LUPA', 'RUPA', 'STRN', 'T10', 'LELB', 'RELB', 'LFRM', 'RFRM',\n",
    "           'LWRA', 'RWRA', 'LWRB', 'RWRB', 'LFIN', 'RFIN', 'LASI', 'RASI',\n",
    "           'LPSI', 'RPSI', 'LTHI', 'RTHI', 'LKNE', 'RKNE', 'LTIB', 'RTIB',\n",
    "           'LANK', 'RANK', 'LTOE', 'RTOE', 'LHEE', 'RHEE']\n",
    "len(MARKERS)"
   ]
  },
  {
   "cell_type": "code",
   "execution_count": 6,
   "id": "543a34f5-aaa8-4e03-a564-fe02c10ec835",
   "metadata": {},
   "outputs": [],
   "source": [
    "import os\n",
    "import glob\n",
    "\n",
    "import pandas as pd\n",
    "import numpy as np\n",
    "from PIL import Image \n",
    "import tensorflow as tf\n",
    "\n",
    "from tensorflow.keras.preprocessing.image import ImageDataGenerator"
   ]
  },
  {
   "cell_type": "code",
   "execution_count": 7,
   "id": "8aa36878-561a-4830-9563-f12e50c1c5d9",
   "metadata": {},
   "outputs": [],
   "source": [
    "DATAPATH = \"/Users/sujinlee/Desktop/nims/pd/dataset\"\n",
    "CONTROL = os.path.join(DATAPATH, \"Controls\")\n",
    "PD = os.path.join(DATAPATH, \"PD\")\n",
    "\n",
    "df_patients = pd.read_csv(os.path.join(DATAPATH, \"patients.csv\"))\n",
    "df_null_info = pd.read_csv(os.path.join(DATAPATH, \"NULL_info.csv\"))"
   ]
  },
  {
   "cell_type": "code",
   "execution_count": 8,
   "id": "d22326f6-c0ec-4445-b69c-d766265d06f9",
   "metadata": {},
   "outputs": [
    {
     "name": "stdout",
     "output_type": "stream",
     "text": [
      "Found 485 images belonging to 2 classes.\n",
      "Found 120 images belonging to 2 classes.\n"
     ]
    }
   ],
   "source": [
    "HEIGHT = 200\n",
    "WIDTH = 39\n",
    "BATCH_SIZE = 1\n",
    "\n",
    "TRAIN_DATA_PATH = DATAPATH + \"_img\"\n",
    "\n",
    "train_datagen = ImageDataGenerator(\n",
    "    #Your code here. Should at least have a rescale. Other parameters can help with overfitting.)\n",
    "    rescale=1./255,\n",
    "#     rotation_range=40,\n",
    "#     width_shift_range=0.2,\n",
    "#     height_shift_range=0.2,\n",
    "#     shear_range=0.2,\n",
    "#     zoom_range=0.2,\n",
    "#     horizontal_flip=True,\n",
    "    fill_mode='nearest',\n",
    "    validation_split=0.2)\n",
    "\n",
    "train_generator = train_datagen.flow_from_directory(\n",
    "    TRAIN_DATA_PATH,\n",
    "    target_size=(HEIGHT, WIDTH),\n",
    "    batch_size=BATCH_SIZE,\n",
    "    classes=['Controls', 'PD'],\n",
    "    class_mode='binary',\n",
    "    subset='training') # set as training data\n",
    "\n",
    "validation_generator = train_datagen.flow_from_directory(\n",
    "    TRAIN_DATA_PATH, # same directory as training data\n",
    "    target_size=(HEIGHT, WIDTH),\n",
    "    batch_size=BATCH_SIZE,\n",
    "    classes=['Controls', 'PD'],\n",
    "    class_mode='binary',\n",
    "    subset='validation') # set as validation data"
   ]
  },
  {
   "cell_type": "code",
   "execution_count": 9,
   "id": "12dde895-730a-46da-ac32-12343bb539f5",
   "metadata": {},
   "outputs": [],
   "source": [
    "import tensorflow.keras.layers as tfl\n",
    "from tensorflow.keras.optimizers import Adam"
   ]
  },
  {
   "cell_type": "code",
   "execution_count": 10,
   "id": "cd509637-3eaf-4508-8ee9-f7440d20d716",
   "metadata": {},
   "outputs": [
    {
     "name": "stderr",
     "output_type": "stream",
     "text": [
      "2022-05-19 15:33:58.844667: I tensorflow/core/platform/cpu_feature_guard.cc:142] This TensorFlow binary is optimized with oneAPI Deep Neural Network Library (oneDNN) to use the following CPU instructions in performance-critical operations:  AVX2 FMA\n",
      "To enable them in other operations, rebuild TensorFlow with the appropriate compiler flags.\n"
     ]
    }
   ],
   "source": [
    "# Note the input shape specified on your first layer must be (300,300,3)\n",
    "# You should not change the last layer\n",
    "\n",
    "model = tf.keras.models.Sequential([tfl.Conv2D(16, (3,3), (2,1), activation='relu', input_shape=(200,39,3)),\n",
    "                                    tfl.MaxPooling2D((2,2),(2,1)), \n",
    "                                    tfl.ZeroPadding2D(1),\n",
    "                                    tfl.Conv2D(32, (3,3), (2,2), activation='relu'),\n",
    "                                    tfl.MaxPooling2D((2,2),(2,2)), \n",
    "                                    tfl.Flatten(),\n",
    "                                    tfl.Dense(512, activation='relu'),\n",
    "                                    tfl.Dropout(0.5),\n",
    "                                    tfl.Dense(64, activation='relu'),\n",
    "                                    tfl.Dropout(0.5),\n",
    "                                    tfl.Dense(1, activation='sigmoid')])\n",
    "\n",
    "model.compile(loss='binary_crossentropy', optimizer=Adam(learning_rate=0.0001), metrics=['accuracy'])"
   ]
  },
  {
   "cell_type": "code",
   "execution_count": 11,
   "id": "e5ce3545-c115-4f9b-be39-a3f4071c729d",
   "metadata": {},
   "outputs": [
    {
     "name": "stdout",
     "output_type": "stream",
     "text": [
      "Model: \"sequential\"\n",
      "_________________________________________________________________\n",
      "Layer (type)                 Output Shape              Param #   \n",
      "=================================================================\n",
      "conv2d (Conv2D)              (None, 99, 37, 16)        448       \n",
      "_________________________________________________________________\n",
      "max_pooling2d (MaxPooling2D) (None, 49, 36, 16)        0         \n",
      "_________________________________________________________________\n",
      "zero_padding2d (ZeroPadding2 (None, 51, 38, 16)        0         \n",
      "_________________________________________________________________\n",
      "conv2d_1 (Conv2D)            (None, 25, 18, 32)        4640      \n",
      "_________________________________________________________________\n",
      "max_pooling2d_1 (MaxPooling2 (None, 12, 9, 32)         0         \n",
      "_________________________________________________________________\n",
      "flatten (Flatten)            (None, 3456)              0         \n",
      "_________________________________________________________________\n",
      "dense (Dense)                (None, 512)               1769984   \n",
      "_________________________________________________________________\n",
      "dropout (Dropout)            (None, 512)               0         \n",
      "_________________________________________________________________\n",
      "dense_1 (Dense)              (None, 64)                32832     \n",
      "_________________________________________________________________\n",
      "dropout_1 (Dropout)          (None, 64)                0         \n",
      "_________________________________________________________________\n",
      "dense_2 (Dense)              (None, 1)                 65        \n",
      "=================================================================\n",
      "Total params: 1,807,969\n",
      "Trainable params: 1,807,969\n",
      "Non-trainable params: 0\n",
      "_________________________________________________________________\n"
     ]
    }
   ],
   "source": [
    "model.summary()"
   ]
  },
  {
   "cell_type": "code",
   "execution_count": 12,
   "id": "dc9338cd-6cf4-4bbf-9d4f-29cb54601e9c",
   "metadata": {},
   "outputs": [
    {
     "name": "stderr",
     "output_type": "stream",
     "text": [
      "/Users/sujinlee/.virtualenvs/ml/lib/python3.9/site-packages/sklearn/utils/validation.py:70: FutureWarning: Pass classes=[0 1], y=[0 0 0 0 0 0 0 0 0 0 0 0 0 0 0 0 0 0 0 0 0 0 0 0 0 0 0 0 0 0 0 0 0 0 0 0 0\n",
      " 0 0 0 0 0 0 0 0 0 0 0 0 0 0 0 0 0 0 0 0 0 0 0 0 0 0 0 0 0 0 0 0 0 0 0 0 0\n",
      " 0 0 0 0 0 0 0 0 0 0 0 0 0 0 0 0 0 0 0 0 0 0 0 0 0 0 0 0 0 0 0 1 1 1 1 1 1\n",
      " 1 1 1 1 1 1 1 1 1 1 1 1 1 1 1 1 1 1 1 1 1 1 1 1 1 1 1 1 1 1 1 1 1 1 1 1 1\n",
      " 1 1 1 1 1 1 1 1 1 1 1 1 1 1 1 1 1 1 1 1 1 1 1 1 1 1 1 1 1 1 1 1 1 1 1 1 1\n",
      " 1 1 1 1 1 1 1 1 1 1 1 1 1 1 1 1 1 1 1 1 1 1 1 1 1 1 1 1 1 1 1 1 1 1 1 1 1\n",
      " 1 1 1 1 1 1 1 1 1 1 1 1 1 1 1 1 1 1 1 1 1 1 1 1 1 1 1 1 1 1 1 1 1 1 1 1 1\n",
      " 1 1 1 1 1 1 1 1 1 1 1 1 1 1 1 1 1 1 1 1 1 1 1 1 1 1 1 1 1 1 1 1 1 1 1 1 1\n",
      " 1 1 1 1 1 1 1 1 1 1 1 1 1 1 1 1 1 1 1 1 1 1 1 1 1 1 1 1 1 1 1 1 1 1 1 1 1\n",
      " 1 1 1 1 1 1 1 1 1 1 1 1 1 1 1 1 1 1 1 1 1 1 1 1 1 1 1 1 1 1 1 1 1 1 1 1 1\n",
      " 1 1 1 1 1 1 1 1 1 1 1 1 1 1 1 1 1 1 1 1 1 1 1 1 1 1 1 1 1 1 1 1 1 1 1 1 1\n",
      " 1 1 1 1 1 1 1 1 1 1 1 1 1 1 1 1 1 1 1 1 1 1 1 1 1 1 1 1 1 1 1 1 1 1 1 1 1\n",
      " 1 1 1 1 1 1 1 1 1 1 1 1 1 1 1 1 1 1 1 1 1 1 1 1 1 1 1 1 1 1 1 1 1 1 1 1 1\n",
      " 1 1 1 1] as keyword args. From version 1.0 (renaming of 0.25) passing these as positional arguments will result in an error\n",
      "  warnings.warn(f\"Pass {args_msg} as keyword args. From version \"\n"
     ]
    }
   ],
   "source": [
    "from sklearn.utils import class_weight \n",
    "import numpy as np\n",
    "\n",
    "class_weights = class_weight.compute_class_weight(\n",
    "           'balanced',\n",
    "            np.unique(train_generator.classes), \n",
    "            train_generator.classes)"
   ]
  },
  {
   "cell_type": "code",
   "execution_count": 13,
   "id": "07f98133-7cab-4961-ac37-109da18e72a6",
   "metadata": {},
   "outputs": [],
   "source": [
    "train_class_weights = dict(enumerate(class_weights))"
   ]
  },
  {
   "cell_type": "code",
   "execution_count": 14,
   "id": "c0a7324d-be75-4a18-bf37-f172f516ac9e",
   "metadata": {},
   "outputs": [],
   "source": [
    "from tensorflow.keras.callbacks import EarlyStopping\n",
    "\n",
    "callback = EarlyStopping(monitor='loss', patience=5)"
   ]
  },
  {
   "cell_type": "code",
   "execution_count": 15,
   "id": "d2161e11-5bd4-47f5-aff3-4f56f9bf74f9",
   "metadata": {},
   "outputs": [
    {
     "name": "stderr",
     "output_type": "stream",
     "text": [
      "/Users/sujinlee/.virtualenvs/ml/lib/python3.9/site-packages/keras/engine/training.py:1972: UserWarning: `Model.fit_generator` is deprecated and will be removed in a future version. Please use `Model.fit`, which supports generators.\n",
      "  warnings.warn('`Model.fit_generator` is deprecated and '\n",
      "2022-05-19 15:34:30.448690: I tensorflow/compiler/mlir/mlir_graph_optimization_pass.cc:185] None of the MLIR Optimization Passes are enabled (registered 2)\n"
     ]
    },
    {
     "name": "stdout",
     "output_type": "stream",
     "text": [
      "Epoch 1/100\n",
      "485/485 [==============================] - 4s 7ms/step - loss: 0.7293 - accuracy: 0.6000 - val_loss: 0.6851 - val_accuracy: 0.5833\n",
      "Epoch 2/100\n",
      "485/485 [==============================] - 3s 6ms/step - loss: 0.6995 - accuracy: 0.6392 - val_loss: 0.7195 - val_accuracy: 0.2417\n",
      "Epoch 3/100\n",
      "485/485 [==============================] - 3s 6ms/step - loss: 0.6869 - accuracy: 0.6247 - val_loss: 0.5928 - val_accuracy: 0.7833\n",
      "Epoch 4/100\n",
      "485/485 [==============================] - 3s 6ms/step - loss: 0.6552 - accuracy: 0.6845 - val_loss: 0.6273 - val_accuracy: 0.6583\n",
      "Epoch 5/100\n",
      "485/485 [==============================] - 3s 7ms/step - loss: 0.6288 - accuracy: 0.7093 - val_loss: 0.7723 - val_accuracy: 0.4500\n",
      "Epoch 6/100\n",
      "485/485 [==============================] - 3s 7ms/step - loss: 0.6009 - accuracy: 0.6763 - val_loss: 0.6245 - val_accuracy: 0.5917\n",
      "Epoch 7/100\n",
      "485/485 [==============================] - 3s 7ms/step - loss: 0.5665 - accuracy: 0.7072 - val_loss: 0.6129 - val_accuracy: 0.6583\n",
      "Epoch 8/100\n",
      "485/485 [==============================] - 3s 6ms/step - loss: 0.5281 - accuracy: 0.7402 - val_loss: 0.6451 - val_accuracy: 0.6083\n",
      "Epoch 9/100\n",
      "485/485 [==============================] - 3s 6ms/step - loss: 0.4279 - accuracy: 0.8454 - val_loss: 0.8742 - val_accuracy: 0.4250\n",
      "Epoch 10/100\n",
      "485/485 [==============================] - 3s 6ms/step - loss: 0.3631 - accuracy: 0.8454 - val_loss: 0.8823 - val_accuracy: 0.4750\n",
      "Epoch 11/100\n",
      "485/485 [==============================] - 3s 6ms/step - loss: 0.3109 - accuracy: 0.8784 - val_loss: 0.6648 - val_accuracy: 0.7750\n",
      "Epoch 12/100\n",
      "485/485 [==============================] - 3s 6ms/step - loss: 0.2472 - accuracy: 0.9155 - val_loss: 0.7232 - val_accuracy: 0.7083\n",
      "Epoch 13/100\n",
      "485/485 [==============================] - 3s 6ms/step - loss: 0.1778 - accuracy: 0.9485 - val_loss: 0.7399 - val_accuracy: 0.7583\n",
      "Epoch 14/100\n",
      "485/485 [==============================] - 3s 6ms/step - loss: 0.1419 - accuracy: 0.9526 - val_loss: 0.8134 - val_accuracy: 0.7833\n",
      "Epoch 15/100\n",
      "485/485 [==============================] - 3s 6ms/step - loss: 0.0917 - accuracy: 0.9753 - val_loss: 0.9142 - val_accuracy: 0.7750\n",
      "Epoch 16/100\n",
      "485/485 [==============================] - 3s 6ms/step - loss: 0.0754 - accuracy: 0.9794 - val_loss: 0.8658 - val_accuracy: 0.7750\n",
      "Epoch 17/100\n",
      "485/485 [==============================] - 3s 6ms/step - loss: 0.0406 - accuracy: 0.9938 - val_loss: 1.1225 - val_accuracy: 0.6667\n",
      "Epoch 18/100\n",
      "485/485 [==============================] - 3s 6ms/step - loss: 0.0567 - accuracy: 0.9856 - val_loss: 1.0452 - val_accuracy: 0.7083\n",
      "Epoch 19/100\n",
      "485/485 [==============================] - 3s 6ms/step - loss: 0.0378 - accuracy: 0.9918 - val_loss: 1.0883 - val_accuracy: 0.7250\n",
      "Epoch 20/100\n",
      "485/485 [==============================] - 3s 6ms/step - loss: 0.0262 - accuracy: 0.9938 - val_loss: 1.3068 - val_accuracy: 0.6417\n",
      "Epoch 21/100\n",
      "485/485 [==============================] - 3s 7ms/step - loss: 0.0123 - accuracy: 1.0000 - val_loss: 1.3548 - val_accuracy: 0.7667\n",
      "Epoch 22/100\n",
      "485/485 [==============================] - 3s 7ms/step - loss: 0.0089 - accuracy: 1.0000 - val_loss: 1.4050 - val_accuracy: 0.7250\n",
      "Epoch 23/100\n",
      "485/485 [==============================] - 3s 7ms/step - loss: 0.0139 - accuracy: 0.9979 - val_loss: 1.2286 - val_accuracy: 0.7167\n",
      "Epoch 24/100\n",
      "485/485 [==============================] - 3s 7ms/step - loss: 0.0494 - accuracy: 0.9814 - val_loss: 1.1176 - val_accuracy: 0.7750\n",
      "Epoch 25/100\n",
      "485/485 [==============================] - 3s 6ms/step - loss: 0.0124 - accuracy: 1.0000 - val_loss: 1.4892 - val_accuracy: 0.7917\n",
      "Epoch 26/100\n",
      "485/485 [==============================] - 3s 6ms/step - loss: 0.0067 - accuracy: 1.0000 - val_loss: 1.5447 - val_accuracy: 0.7833\n",
      "Epoch 27/100\n",
      "485/485 [==============================] - 3s 7ms/step - loss: 0.0024 - accuracy: 1.0000 - val_loss: 1.5997 - val_accuracy: 0.7167\n",
      "Epoch 28/100\n",
      "485/485 [==============================] - 3s 7ms/step - loss: 0.0023 - accuracy: 1.0000 - val_loss: 1.7081 - val_accuracy: 0.7750\n",
      "Epoch 29/100\n",
      "485/485 [==============================] - 3s 7ms/step - loss: 0.0029 - accuracy: 1.0000 - val_loss: 1.7274 - val_accuracy: 0.7833\n",
      "Epoch 30/100\n",
      "485/485 [==============================] - 3s 6ms/step - loss: 0.0214 - accuracy: 0.9938 - val_loss: 1.4539 - val_accuracy: 0.7500\n",
      "Epoch 31/100\n",
      "485/485 [==============================] - 3s 7ms/step - loss: 0.0036 - accuracy: 1.0000 - val_loss: 1.6016 - val_accuracy: 0.7667\n",
      "Epoch 32/100\n",
      "485/485 [==============================] - 3s 6ms/step - loss: 0.0179 - accuracy: 0.9979 - val_loss: 1.7114 - val_accuracy: 0.6000\n",
      "Epoch 33/100\n",
      "485/485 [==============================] - 3s 6ms/step - loss: 0.0079 - accuracy: 0.9979 - val_loss: 1.6262 - val_accuracy: 0.7000\n"
     ]
    }
   ],
   "source": [
    "history = model.fit_generator(\n",
    "                train_generator,\n",
    "                steps_per_epoch = train_generator.samples // BATCH_SIZE,\n",
    "                validation_data = validation_generator, \n",
    "                validation_steps = validation_generator.samples // BATCH_SIZE,\n",
    "                class_weight = train_class_weights,\n",
    "                epochs = 100,\n",
    "                callbacks = [callback])"
   ]
  },
  {
   "cell_type": "code",
   "execution_count": 16,
   "id": "8ef7ae8f-ff23-48c4-bc72-c798e37c4e79",
   "metadata": {},
   "outputs": [
    {
     "data": {
      "image/png": "[encoded data removed]",
      "text/plain": [
       "<Figure size 432x288 with 1 Axes>"
      ]
     },
     "metadata": {
      "needs_background": "light"
     },
     "output_type": "display_data"
    }
   ],
   "source": [
    "import matplotlib.pyplot as plt\n",
    "\n",
    "plt.plot(history.history[\"loss\"], label='train_loss')\n",
    "plt.plot(history.history[\"val_loss\"], label='val_loss')\n",
    "plt.legend()\n",
    "plt.title(\"Loss\")\n",
    "plt.show()"
   ]
  },
  {
   "cell_type": "code",
   "execution_count": 17,
   "id": "84b63cd7-8c1c-46f4-88de-4fe9df899951",
   "metadata": {},
   "outputs": [
    {
     "data": {
      "image/png": "[encoded data removed]",
      "text/plain": [
       "<Figure size 432x288 with 1 Axes>"
      ]
     },
     "metadata": {
      "needs_background": "light"
     },
     "output_type": "display_data"
    }
   ],
   "source": [
    "plt.plot(history.history[\"accuracy\"], label='train')\n",
    "plt.plot(history.history[\"val_accuracy\"], label='val')\n",
    "plt.legend()\n",
    "plt.title(\"Accuracy\")\n",
    "plt.show()"
   ]
  },
  {
   "cell_type": "code",
   "execution_count": null,
   "id": "f5c9a5d4-7252-4d7b-9292-38d205e54fbe",
   "metadata": {},
   "outputs": [],
   "source": []
  }
 ],
 "metadata": {
  "kernelspec": {
   "display_name": "ml",
   "language": "python",
   "name": "ml"
  },
  "language_info": {
   "codemirror_mode": {
    "name": "ipython",
    "version": 3
   },
   "file_extension": ".py",
   "mimetype": "text/x-python",
   "name": "python",
   "nbconvert_exporter": "python",
   "pygments_lexer": "ipython3",
   "version": "3.9.10"
  }
 },
 "nbformat": 4,
 "nbformat_minor": 5
}
