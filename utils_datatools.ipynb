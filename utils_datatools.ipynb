{
 "cells": [
  {
   "cell_type": "markdown",
   "id": "2c9273dd-857a-4ff0-a490-fb7a051d6f95",
   "metadata": {},
   "source": [
    "#### code: utils/datatools.py "
   ]
  },
  {
   "cell_type": "code",
   "execution_count": 1,
   "id": "3d0f8e17-0b1d-423c-8b30-949ac5208d81",
   "metadata": {},
   "outputs": [],
   "source": [
    "import numpy as np\n",
    "import pandas as pd\n",
    "import os\n",
    "import re\n",
    "\n",
    "from utils.datatools import DataTools"
   ]
  },
  {
   "cell_type": "code",
   "execution_count": 2,
   "id": "07a100e3-bd26-4f7a-9991-eed4e5a5fe3b",
   "metadata": {
    "tags": []
   },
   "outputs": [],
   "source": [
    "t = DataTools()\n",
    "# help(DataTools)"
   ]
  },
  {
   "cell_type": "code",
   "execution_count": 3,
   "id": "4c44de93-82fb-4b27-8cc0-c4fc93ceb563",
   "metadata": {
    "tags": []
   },
   "outputs": [
    {
     "name": "stdout",
     "output_type": "stream",
     "text": [
      "dataset path: ./dataset/\n"
     ]
    }
   ],
   "source": [
    "DATASETPATH = t.get_datasetpath()\n",
    "print(\"dataset path:\", DATASETPATH)"
   ]
  },
  {
   "cell_type": "code",
   "execution_count": 4,
   "id": "2eb6fa48-d54f-436e-a6d8-3ee73db5ce24",
   "metadata": {},
   "outputs": [],
   "source": [
    "patients = t.get_patients_table()\n",
    "CONTROL = patients[patients[\"Category\"] == \"Controls\"]\n",
    "PD = patients[patients[\"Category\"] == \"PD\"]"
   ]
  },
  {
   "cell_type": "code",
   "execution_count": 5,
   "id": "719d5708-d7c9-44c9-b090-0efe51d4a99f",
   "metadata": {},
   "outputs": [
    {
     "data": {
      "text/html": [
       "<div>\n",
       "<style scoped>\n",
       "    .dataframe tbody tr th:only-of-type {\n",
       "        vertical-align: middle;\n",
       "    }\n",
       "\n",
       "    .dataframe tbody tr th {\n",
       "        vertical-align: top;\n",
       "    }\n",
       "\n",
       "    .dataframe thead th {\n",
       "        text-align: right;\n",
       "    }\n",
       "</style>\n",
       "<table border=\"1\" class=\"dataframe\">\n",
       "  <thead>\n",
       "    <tr style=\"text-align: right;\">\n",
       "      <th></th>\n",
       "      <th>Patient</th>\n",
       "      <th>Category</th>\n",
       "      <th>cntFW</th>\n",
       "      <th>cntBW</th>\n",
       "    </tr>\n",
       "  </thead>\n",
       "  <tbody>\n",
       "    <tr>\n",
       "      <th>0</th>\n",
       "      <td>BHY</td>\n",
       "      <td>Controls</td>\n",
       "      <td>3</td>\n",
       "      <td>3</td>\n",
       "    </tr>\n",
       "    <tr>\n",
       "      <th>1</th>\n",
       "      <td>CHH</td>\n",
       "      <td>Controls</td>\n",
       "      <td>3</td>\n",
       "      <td>3</td>\n",
       "    </tr>\n",
       "    <tr>\n",
       "      <th>2</th>\n",
       "      <td>HSH</td>\n",
       "      <td>Controls</td>\n",
       "      <td>3</td>\n",
       "      <td>3</td>\n",
       "    </tr>\n",
       "    <tr>\n",
       "      <th>3</th>\n",
       "      <td>JHY</td>\n",
       "      <td>Controls</td>\n",
       "      <td>3</td>\n",
       "      <td>3</td>\n",
       "    </tr>\n",
       "    <tr>\n",
       "      <th>4</th>\n",
       "      <td>JJG</td>\n",
       "      <td>Controls</td>\n",
       "      <td>3</td>\n",
       "      <td>3</td>\n",
       "    </tr>\n",
       "  </tbody>\n",
       "</table>\n",
       "</div>"
      ],
      "text/plain": [
       "  Patient  Category  cntFW  cntBW\n",
       "0     BHY  Controls      3      3\n",
       "1     CHH  Controls      3      3\n",
       "2     HSH  Controls      3      3\n",
       "3     JHY  Controls      3      3\n",
       "4     JJG  Controls      3      3"
      ]
     },
     "execution_count": 5,
     "metadata": {},
     "output_type": "execute_result"
    }
   ],
   "source": [
    "patients.head()"
   ]
  },
  {
   "cell_type": "code",
   "execution_count": 6,
   "id": "1041eeac-fa86-4d2f-a62c-6cdc478ff887",
   "metadata": {},
   "outputs": [
    {
     "name": "stdout",
     "output_type": "stream",
     "text": [
      "category: Controls\n",
      " patient: BHY\n"
     ]
    }
   ],
   "source": [
    "idx = 0\n",
    "\n",
    "category = CONTROL[\"Category\"][idx]\n",
    "patient = CONTROL[\"Patient\"][idx]\n",
    "print(\"category:\", category)\n",
    "print(\" patient:\", patient)"
   ]
  },
  {
   "cell_type": "code",
   "execution_count": 7,
   "id": "036d97d5-177a-456f-94e8-2914fe838752",
   "metadata": {},
   "outputs": [
    {
     "data": {
      "text/plain": [
       "['./dataset/Controls/PREP_BHY_FW1.csv',\n",
       " './dataset/Controls/PREP_BHY_FW2.csv',\n",
       " './dataset/Controls/PREP_BHY_FW3.csv']"
      ]
     },
     "execution_count": 7,
     "metadata": {},
     "output_type": "execute_result"
    }
   ],
   "source": [
    "fw, bw = t.get_patient_datapath(category, patient)\n",
    "fw"
   ]
  },
  {
   "cell_type": "code",
   "execution_count": 8,
   "id": "7f7ba9ec-fdad-4c92-a8df-310407357923",
   "metadata": {},
   "outputs": [
    {
     "data": {
      "text/html": [
       "<div>\n",
       "<style scoped>\n",
       "    .dataframe tbody tr th:only-of-type {\n",
       "        vertical-align: middle;\n",
       "    }\n",
       "\n",
       "    .dataframe tbody tr th {\n",
       "        vertical-align: top;\n",
       "    }\n",
       "\n",
       "    .dataframe thead th {\n",
       "        text-align: right;\n",
       "    }\n",
       "</style>\n",
       "<table border=\"1\" class=\"dataframe\">\n",
       "  <thead>\n",
       "    <tr style=\"text-align: right;\">\n",
       "      <th></th>\n",
       "      <th>Frame</th>\n",
       "      <th>Sub Frame</th>\n",
       "      <th>LFHD_X</th>\n",
       "      <th>LFHD_Y</th>\n",
       "      <th>LFHD_Z</th>\n",
       "      <th>RFHD_X</th>\n",
       "      <th>RFHD_Y</th>\n",
       "      <th>RFHD_Z</th>\n",
       "      <th>LBHD_X</th>\n",
       "      <th>LBHD_Y</th>\n",
       "      <th>...</th>\n",
       "      <th>RHEE_Z</th>\n",
       "      <th>RTOE_X</th>\n",
       "      <th>RTOE_Y</th>\n",
       "      <th>RTOE_Z</th>\n",
       "      <th>CentreOfMass_X</th>\n",
       "      <th>CentreOfMass_Y</th>\n",
       "      <th>CentreOfMass_Z</th>\n",
       "      <th>CentreOfMassFloor_X</th>\n",
       "      <th>CentreOfMassFloor_Y</th>\n",
       "      <th>CentreOfMassFloor_Z</th>\n",
       "    </tr>\n",
       "  </thead>\n",
       "  <tbody>\n",
       "    <tr>\n",
       "      <th>0</th>\n",
       "      <td>410</td>\n",
       "      <td>0</td>\n",
       "      <td>-106.989609</td>\n",
       "      <td>-1809.509521</td>\n",
       "      <td>1450.961182</td>\n",
       "      <td>9.900115</td>\n",
       "      <td>-1806.538940</td>\n",
       "      <td>1444.034912</td>\n",
       "      <td>-105.664886</td>\n",
       "      <td>-1970.196289</td>\n",
       "      <td>...</td>\n",
       "      <td>44.184765</td>\n",
       "      <td>84.940605</td>\n",
       "      <td>-1595.594727</td>\n",
       "      <td>66.928360</td>\n",
       "      <td>-39.603561</td>\n",
       "      <td>-1865.268066</td>\n",
       "      <td>845.304565</td>\n",
       "      <td>-39.603561</td>\n",
       "      <td>-1865.268066</td>\n",
       "      <td>0.0</td>\n",
       "    </tr>\n",
       "    <tr>\n",
       "      <th>1</th>\n",
       "      <td>411</td>\n",
       "      <td>0</td>\n",
       "      <td>-106.972626</td>\n",
       "      <td>-1809.229248</td>\n",
       "      <td>1450.926025</td>\n",
       "      <td>9.930963</td>\n",
       "      <td>-1806.256836</td>\n",
       "      <td>1443.994019</td>\n",
       "      <td>-105.620445</td>\n",
       "      <td>-1969.902466</td>\n",
       "      <td>...</td>\n",
       "      <td>44.086636</td>\n",
       "      <td>84.857071</td>\n",
       "      <td>-1594.736450</td>\n",
       "      <td>67.095268</td>\n",
       "      <td>-39.594044</td>\n",
       "      <td>-1864.968140</td>\n",
       "      <td>845.276123</td>\n",
       "      <td>-39.594044</td>\n",
       "      <td>-1864.968140</td>\n",
       "      <td>0.0</td>\n",
       "    </tr>\n",
       "    <tr>\n",
       "      <th>2</th>\n",
       "      <td>412</td>\n",
       "      <td>0</td>\n",
       "      <td>-106.874718</td>\n",
       "      <td>-1807.941162</td>\n",
       "      <td>1450.765015</td>\n",
       "      <td>10.064020</td>\n",
       "      <td>-1804.977905</td>\n",
       "      <td>1443.823364</td>\n",
       "      <td>-105.447044</td>\n",
       "      <td>-1968.592529</td>\n",
       "      <td>...</td>\n",
       "      <td>43.684017</td>\n",
       "      <td>84.480515</td>\n",
       "      <td>-1590.955566</td>\n",
       "      <td>67.857040</td>\n",
       "      <td>-39.549873</td>\n",
       "      <td>-1863.639160</td>\n",
       "      <td>845.154541</td>\n",
       "      <td>-39.549873</td>\n",
       "      <td>-1863.639160</td>\n",
       "      <td>0.0</td>\n",
       "    </tr>\n",
       "    <tr>\n",
       "      <th>3</th>\n",
       "      <td>413</td>\n",
       "      <td>0</td>\n",
       "      <td>-106.616180</td>\n",
       "      <td>-1804.998901</td>\n",
       "      <td>1450.412720</td>\n",
       "      <td>10.350130</td>\n",
       "      <td>-1802.085938</td>\n",
       "      <td>1443.463257</td>\n",
       "      <td>-105.137207</td>\n",
       "      <td>-1965.661499</td>\n",
       "      <td>...</td>\n",
       "      <td>42.908787</td>\n",
       "      <td>83.641769</td>\n",
       "      <td>-1582.700562</td>\n",
       "      <td>69.601921</td>\n",
       "      <td>-39.451588</td>\n",
       "      <td>-1860.697998</td>\n",
       "      <td>844.898621</td>\n",
       "      <td>-39.451588</td>\n",
       "      <td>-1860.697998</td>\n",
       "      <td>0.0</td>\n",
       "    </tr>\n",
       "    <tr>\n",
       "      <th>4</th>\n",
       "      <td>414</td>\n",
       "      <td>0</td>\n",
       "      <td>-106.209923</td>\n",
       "      <td>-1800.210205</td>\n",
       "      <td>1449.871094</td>\n",
       "      <td>10.798304</td>\n",
       "      <td>-1797.383667</td>\n",
       "      <td>1442.903564</td>\n",
       "      <td>-104.727371</td>\n",
       "      <td>-1960.919678</td>\n",
       "      <td>...</td>\n",
       "      <td>41.876522</td>\n",
       "      <td>82.298470</td>\n",
       "      <td>-1569.838379</td>\n",
       "      <td>72.460670</td>\n",
       "      <td>-39.299858</td>\n",
       "      <td>-1855.984497</td>\n",
       "      <td>844.505005</td>\n",
       "      <td>-39.299858</td>\n",
       "      <td>-1855.984497</td>\n",
       "      <td>0.0</td>\n",
       "    </tr>\n",
       "  </tbody>\n",
       "</table>\n",
       "<p>5 rows × 125 columns</p>\n",
       "</div>"
      ],
      "text/plain": [
       "   Frame  Sub Frame      LFHD_X       LFHD_Y       LFHD_Z     RFHD_X  \\\n",
       "0    410          0 -106.989609 -1809.509521  1450.961182   9.900115   \n",
       "1    411          0 -106.972626 -1809.229248  1450.926025   9.930963   \n",
       "2    412          0 -106.874718 -1807.941162  1450.765015  10.064020   \n",
       "3    413          0 -106.616180 -1804.998901  1450.412720  10.350130   \n",
       "4    414          0 -106.209923 -1800.210205  1449.871094  10.798304   \n",
       "\n",
       "        RFHD_Y       RFHD_Z      LBHD_X       LBHD_Y  ...     RHEE_Z  \\\n",
       "0 -1806.538940  1444.034912 -105.664886 -1970.196289  ...  44.184765   \n",
       "1 -1806.256836  1443.994019 -105.620445 -1969.902466  ...  44.086636   \n",
       "2 -1804.977905  1443.823364 -105.447044 -1968.592529  ...  43.684017   \n",
       "3 -1802.085938  1443.463257 -105.137207 -1965.661499  ...  42.908787   \n",
       "4 -1797.383667  1442.903564 -104.727371 -1960.919678  ...  41.876522   \n",
       "\n",
       "      RTOE_X       RTOE_Y     RTOE_Z  CentreOfMass_X  CentreOfMass_Y  \\\n",
       "0  84.940605 -1595.594727  66.928360      -39.603561    -1865.268066   \n",
       "1  84.857071 -1594.736450  67.095268      -39.594044    -1864.968140   \n",
       "2  84.480515 -1590.955566  67.857040      -39.549873    -1863.639160   \n",
       "3  83.641769 -1582.700562  69.601921      -39.451588    -1860.697998   \n",
       "4  82.298470 -1569.838379  72.460670      -39.299858    -1855.984497   \n",
       "\n",
       "   CentreOfMass_Z  CentreOfMassFloor_X  CentreOfMassFloor_Y  \\\n",
       "0      845.304565           -39.603561         -1865.268066   \n",
       "1      845.276123           -39.594044         -1864.968140   \n",
       "2      845.154541           -39.549873         -1863.639160   \n",
       "3      844.898621           -39.451588         -1860.697998   \n",
       "4      844.505005           -39.299858         -1855.984497   \n",
       "\n",
       "   CentreOfMassFloor_Z  \n",
       "0                  0.0  \n",
       "1                  0.0  \n",
       "2                  0.0  \n",
       "3                  0.0  \n",
       "4                  0.0  \n",
       "\n",
       "[5 rows x 125 columns]"
      ]
     },
     "execution_count": 8,
     "metadata": {},
     "output_type": "execute_result"
    }
   ],
   "source": [
    "fw_data, bw_data = t.get_patient_fwdw_data(category, patient)\n",
    "fw_data[0].head()"
   ]
  }
 ],
 "metadata": {
  "kernelspec": {
   "display_name": "ml",
   "language": "python",
   "name": "ml"
  },
  "language_info": {
   "codemirror_mode": {
    "name": "ipython",
    "version": 3
   },
   "file_extension": ".py",
   "mimetype": "text/x-python",
   "name": "python",
   "nbconvert_exporter": "python",
   "pygments_lexer": "ipython3",
   "version": "3.9.10"
  }
 },
 "nbformat": 4,
 "nbformat_minor": 5
}
