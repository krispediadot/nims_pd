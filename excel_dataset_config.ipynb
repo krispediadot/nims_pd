{
 "cells": [
  {
   "cell_type": "code",
   "execution_count": 1,
   "id": "d6b2a9b1-77f2-412b-a5df-f4bbdabe83f2",
   "metadata": {},
   "outputs": [],
   "source": [
    "import os\n",
    "import pandas as pd"
   ]
  },
  {
   "cell_type": "code",
   "execution_count": 2,
   "id": "32820bba-546d-438a-ad55-0ec97e73168d",
   "metadata": {},
   "outputs": [],
   "source": [
    "DATAPATH = \"./dataset/\"\n",
    "DATAPATH_CONTROLS = os.path.join(DATAPATH, \"Controls\")\n",
    "DATAPATH_PD = os.path.join(DATAPATH, \"PD\")\n",
    "\n",
    "DATAINFO = \"./data_info/_PD_대상자특성(Total_81)_수정.xlsx\""
   ]
  },
  {
   "cell_type": "code",
   "execution_count": 3,
   "id": "43ca9947-3b6d-4266-b463-61c68105d02c",
   "metadata": {},
   "outputs": [],
   "source": [
    "df_codebook = pd.read_excel(DATAINFO, sheet_name=0)"
   ]
  },
  {
   "cell_type": "code",
   "execution_count": 4,
   "id": "068195ff-1241-43ee-ba46-44bf7dfcbe96",
   "metadata": {
    "tags": []
   },
   "outputs": [],
   "source": [
    "df = pd.read_excel(DATAINFO, sheet_name=1)"
   ]
  },
  {
   "cell_type": "code",
   "execution_count": 5,
   "id": "46e57ce2-637f-4d25-b8e2-2ce67b6a0cc3",
   "metadata": {},
   "outputs": [],
   "source": [
    "initials = df[\"Initial\"].dropna(axis=0).values"
   ]
  },
  {
   "cell_type": "code",
   "execution_count": 6,
   "id": "9018cb83-cce8-40ae-bd37-7691b3905e4e",
   "metadata": {},
   "outputs": [
    {
     "data": {
      "text/plain": [
       "array(['KMM', 'KMS', 'KBS', 'KSR', 'KEJ', 'KEG', 'KJS2', 'KJJ', 'KTJ',\n",
       "       'MJS', 'PYJ', 'PCJ', 'BTC', 'BSB', 'SYG', 'SJK', 'SJB', 'SJG',\n",
       "       'SGS', 'SSB', 'SKD', 'AMJ', 'WKH', 'YHY', 'LKS', 'LWH', 'JYA',\n",
       "       'JWS', 'JKH', 'JJY', 'CSS', 'CSJ', 'CCD', 'CCC', 'KJI', 'KJO',\n",
       "       'KDY', 'KBJ', 'KKS', 'KMJ', 'KSA', 'KSJ', 'KIB', 'KJS', 'KPS',\n",
       "       'KHD', 'BSR', 'BDY', 'PIG', 'BGH', 'BYH', 'BHJ', 'SGS', 'SYJ',\n",
       "       'SKH', 'YJM', 'YKJ', 'YKS', 'YJK', 'YSC', 'YYS', 'LKH', 'LJS',\n",
       "       'LSG', 'LJS', 'LCY', 'JSE', 'JBS', 'JSJ', 'JJJ', 'CMJ', 'JSG',\n",
       "       'JHS', 'CHK', 'JYS1', 'CKC', 'CMS', 'CIB', 'CJH', 'HIS', 'HHN',\n",
       "       'LDY', 'KGJ', 'KMS', 'KES', 'NTH', 'PSW', 'BHY', 'SHI', 'ODS',\n",
       "       'WYH', 'YBW', 'JKJ', 'CHH', 'JJG', 'JHY', 'HSH', 'KYC', 'PSD',\n",
       "       'KDS', 'LNS', 'KYK', 'SJY', 'SBS', 'KYJ'], dtype=object)"
      ]
     },
     "execution_count": 6,
     "metadata": {},
     "output_type": "execute_result"
    }
   ],
   "source": [
    "initials"
   ]
  },
  {
   "cell_type": "code",
   "execution_count": 7,
   "id": "dd48c248-49b7-4178-b02e-0c8fdddc3997",
   "metadata": {},
   "outputs": [],
   "source": [
    "p_controls = set([x.split('_')[1].split('_')[0] for x in os.listdir(DATAPATH_CONTROLS)])"
   ]
  },
  {
   "cell_type": "code",
   "execution_count": 8,
   "id": "401756c6-f19c-40f8-9119-047fb9325ba2",
   "metadata": {},
   "outputs": [],
   "source": [
    "p_pd = set([x.split('_')[1].split('_')[0] for x in os.listdir(DATAPATH_PD)])"
   ]
  },
  {
   "cell_type": "code",
   "execution_count": 9,
   "id": "5a75cea9-fa0b-4e53-8eb6-adae21f405b0",
   "metadata": {},
   "outputs": [
    {
     "data": {
      "text/plain": [
       "106"
      ]
     },
     "execution_count": 9,
     "metadata": {},
     "output_type": "execute_result"
    }
   ],
   "source": [
    "len(p_controls) + len(p_pd)"
   ]
  },
  {
   "cell_type": "code",
   "execution_count": 10,
   "id": "d2248cd5-56b7-4b09-9907-3cac2739c2cb",
   "metadata": {},
   "outputs": [
    {
     "data": {
      "text/plain": [
       "105"
      ]
     },
     "execution_count": 10,
     "metadata": {},
     "output_type": "execute_result"
    }
   ],
   "source": [
    "len(initials)"
   ]
  },
  {
   "cell_type": "code",
   "execution_count": 11,
   "id": "c9f9b5aa-4d6e-4c3e-a3e9-f6e5dbb687b6",
   "metadata": {},
   "outputs": [
    {
     "data": {
      "text/plain": [
       "{'KDS', 'KYC', 'KYJ', 'KYK', 'LNS', 'PSD', 'SBS', 'SJY'}"
      ]
     },
     "execution_count": 11,
     "metadata": {},
     "output_type": "execute_result"
    }
   ],
   "source": [
    "# xlxs에 있는 이니셜 - 실제 데이터 이니셜\n",
    "set(initials) - p_controls - p_pd"
   ]
  },
  {
   "cell_type": "code",
   "execution_count": 12,
   "id": "576dec57-93e7-4f06-9e7e-a7d0469e4038",
   "metadata": {},
   "outputs": [
    {
     "data": {
      "text/plain": [
       "{'KangYK',\n",
       " 'KimDS',\n",
       " 'KimYC',\n",
       " 'KimYJ',\n",
       " 'LeeNS',\n",
       " 'ParkSD',\n",
       " 'SeoBS',\n",
       " 'SeoJY',\n",
       " 'checkpoints'}"
      ]
     },
     "execution_count": 12,
     "metadata": {},
     "output_type": "execute_result"
    }
   ],
   "source": [
    "# 실제 control 데이터 - xlxs에 있는 이니셜 \n",
    "p_controls - set(initials)"
   ]
  },
  {
   "cell_type": "code",
   "execution_count": 13,
   "id": "b5f808ac-f3c9-435d-8e3c-1d6c03386398",
   "metadata": {},
   "outputs": [
    {
     "data": {
      "text/plain": [
       "{'Leejaesun', 'SGS2'}"
      ]
     },
     "execution_count": 13,
     "metadata": {},
     "output_type": "execute_result"
    }
   ],
   "source": [
    "# 실제 pd 데이터 - xlxs에 있는 이니셜\n",
    "p_pd - set(initials)"
   ]
  },
  {
   "cell_type": "code",
   "execution_count": null,
   "id": "8b30a09e-539c-4178-a7ad-fc482071f7eb",
   "metadata": {},
   "outputs": [],
   "source": []
  }
 ],
 "metadata": {
  "kernelspec": {
   "display_name": "ml",
   "language": "python",
   "name": "ml"
  },
  "language_info": {
   "codemirror_mode": {
    "name": "ipython",
    "version": 3
   },
   "file_extension": ".py",
   "mimetype": "text/x-python",
   "name": "python",
   "nbconvert_exporter": "python",
   "pygments_lexer": "ipython3",
   "version": "3.9.10"
  }
 },
 "nbformat": 4,
 "nbformat_minor": 5
}
