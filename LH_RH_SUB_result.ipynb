{
 "cells": [
  {
   "cell_type": "code",
   "execution_count": 1,
   "id": "a05c7ad5-ef47-4e1e-9d8e-146b6fa25007",
   "metadata": {},
   "outputs": [],
   "source": [
    "import matplotlib as mpl\n",
    "import matplotlib.pyplot as plt\n",
    "import matplotlib.font_manager as fm\n",
    "%matplotlib inline \n",
    "\n",
    "import seaborn as sns"
   ]
  },
  {
   "cell_type": "code",
   "execution_count": 2,
   "id": "cb413322-8460-4915-8324-81f6f0154a6c",
   "metadata": {},
   "outputs": [],
   "source": [
    "from scipy.stats import norm"
   ]
  },
  {
   "cell_type": "code",
   "execution_count": 3,
   "id": "8acbe71e-43e1-4139-bbad-0b30e3ba086c",
   "metadata": {},
   "outputs": [],
   "source": [
    "import glob\n",
    "import os\n",
    "import pandas as pd\n",
    "import numpy as np\n",
    "\n",
    "from utils.datatools import * # getPatientsTable()\n",
    "from utils.viztools import *  # plotPatientLRZDiff(patient, FWdata)"
   ]
  },
  {
   "cell_type": "code",
   "execution_count": 4,
   "id": "93569a63-2b05-4602-8caf-7a556d5eff10",
   "metadata": {},
   "outputs": [],
   "source": [
    "PHASEPATH = \"/Users/sujinlee/desktop/git_repositories/nims_pd/dataset_LHEE_RHEE_Z_PHASE/\"\n",
    "STDPATH = \"/Users/sujinlee/desktop/git_repositories/nims_pd/dataset_LHEE_RHEE_Z_PHASE_STD/\"\n",
    "CONTROL_PATH = os.path.join(STDPATH, \"Controls\")\n",
    "PD_PATH = os.path.join(STDPATH, \"PD\")\n",
    "\n",
    "FIGPATH = \"/Users/sujinlee/desktop/git_repositories/nims_pd/dataset_LHEE_RHEE_Z_PHASE_STD_result_viz/\"\n",
    "FIG_CONTROL = os.path.join(FIGPATH, \"Controls\")\n",
    "FIG_PD = os.path.join(FIGPATH, \"PD\")"
   ]
  },
  {
   "cell_type": "code",
   "execution_count": 5,
   "id": "bc8a7f0b-4545-4ae1-b7ee-578719520411",
   "metadata": {},
   "outputs": [
    {
     "name": "stdout",
     "output_type": "stream",
     "text": [
      "Controls count: 22\n",
      "PD count: 83\n"
     ]
    }
   ],
   "source": [
    "patients = getPatientsTable()\n",
    "# patients.head()\n",
    "CONTROL = patients[patients[\"Category\"] == \"Controls\"]\n",
    "PD = patients[patients[\"Category\"] == \"PD\"]\n",
    "print(\"Controls count:\", len(CONTROL))\n",
    "print(\"PD count:\", len(PD))"
   ]
  },
  {
   "cell_type": "code",
   "execution_count": 6,
   "id": "8e797734-a055-4273-9c46-c47e13dded03",
   "metadata": {},
   "outputs": [
    {
     "name": "stdout",
     "output_type": "stream",
     "text": [
      "Controls error patient count: 1\n",
      "PD error patient count: 10\n"
     ]
    }
   ],
   "source": [
    "error = pd.read_csv(os.path.join(PHASEPATH, \"error.csv\"))\n",
    "error = error[error[\"FW_BW\"] == \"FW\"]\n",
    "CONTROL_ERROR = error[error[\"Category\"] == \"Controls\"]\n",
    "PD_ERROR = error[error[\"Category\"] == \"PD\"]\n",
    "print(\"Controls error patient count:\", len(CONTROL_ERROR))\n",
    "print(\"PD error patient count:\", len(PD_ERROR))"
   ]
  },
  {
   "cell_type": "code",
   "execution_count": 7,
   "id": "aae40509-918b-4e6d-839c-d70e3a484db2",
   "metadata": {},
   "outputs": [
    {
     "data": {
      "text/html": [
       "<div>\n",
       "<style scoped>\n",
       "    .dataframe tbody tr th:only-of-type {\n",
       "        vertical-align: middle;\n",
       "    }\n",
       "\n",
       "    .dataframe tbody tr th {\n",
       "        vertical-align: top;\n",
       "    }\n",
       "\n",
       "    .dataframe thead th {\n",
       "        text-align: right;\n",
       "    }\n",
       "</style>\n",
       "<table border=\"1\" class=\"dataframe\">\n",
       "  <thead>\n",
       "    <tr style=\"text-align: right;\">\n",
       "      <th></th>\n",
       "      <th>Patient</th>\n",
       "      <th>Category</th>\n",
       "      <th>cntFW</th>\n",
       "      <th>cntBW</th>\n",
       "    </tr>\n",
       "  </thead>\n",
       "  <tbody>\n",
       "    <tr>\n",
       "      <th>0</th>\n",
       "      <td>BHY</td>\n",
       "      <td>Controls</td>\n",
       "      <td>3</td>\n",
       "      <td>3</td>\n",
       "    </tr>\n",
       "    <tr>\n",
       "      <th>1</th>\n",
       "      <td>CHH</td>\n",
       "      <td>Controls</td>\n",
       "      <td>3</td>\n",
       "      <td>3</td>\n",
       "    </tr>\n",
       "    <tr>\n",
       "      <th>2</th>\n",
       "      <td>HSH</td>\n",
       "      <td>Controls</td>\n",
       "      <td>3</td>\n",
       "      <td>3</td>\n",
       "    </tr>\n",
       "    <tr>\n",
       "      <th>3</th>\n",
       "      <td>JHY</td>\n",
       "      <td>Controls</td>\n",
       "      <td>3</td>\n",
       "      <td>3</td>\n",
       "    </tr>\n",
       "    <tr>\n",
       "      <th>4</th>\n",
       "      <td>JJG</td>\n",
       "      <td>Controls</td>\n",
       "      <td>3</td>\n",
       "      <td>3</td>\n",
       "    </tr>\n",
       "  </tbody>\n",
       "</table>\n",
       "</div>"
      ],
      "text/plain": [
       "  Patient  Category  cntFW  cntBW\n",
       "0     BHY  Controls      3      3\n",
       "1     CHH  Controls      3      3\n",
       "2     HSH  Controls      3      3\n",
       "3     JHY  Controls      3      3\n",
       "4     JJG  Controls      3      3"
      ]
     },
     "execution_count": 7,
     "metadata": {},
     "output_type": "execute_result"
    }
   ],
   "source": [
    "patients.head()"
   ]
  },
  {
   "cell_type": "code",
   "execution_count": 44,
   "id": "7865678d-b17c-48ce-bb8a-5690965fb71e",
   "metadata": {},
   "outputs": [],
   "source": [
    "LH_RH_SUB_CONTROL = []\n",
    "LH_RH_DIFF_SUB_CONTROL = []\n",
    "for PATIENT in CONTROL[\"Patient\"].values:\n",
    "    results = glob.glob(os.path.join(FIG_CONTROL, f\"{PATIENT}*.npy\"))\n",
    "    \n",
    "    for target in results:\n",
    "        LH, RH, LH_DIFF, RH_DIFF = np.load(target)\n",
    "        \n",
    "        LH_RH_SUB_CONTROL.append(LH - RH)\n",
    "        LH_RH_DIFF_SUB_CONTROL.append(LH_DIFF - RH_DIFF)"
   ]
  },
  {
   "cell_type": "code",
   "execution_count": 45,
   "id": "5add5a8e-9262-4e50-8df6-f9be90e9c376",
   "metadata": {},
   "outputs": [
    {
     "data": {
      "text/plain": [
       "(array([ 2.,  0.,  2.,  1.,  3., 21., 25.,  5.,  1.,  3.]),\n",
       " array([-5366.67702  , -4407.8397399, -3449.0024598, -2490.1651797,\n",
       "        -1531.3278996,  -572.4906195,   386.3466606,  1345.1839407,\n",
       "         2304.0212208,  3262.8585009,  4221.695781 ]),\n",
       " <BarContainer object of 10 artists>)"
      ]
     },
     "execution_count": 45,
     "metadata": {},
     "output_type": "execute_result"
    },
    {
     "data": {
      "image/png": "[encoded data removed]",
      "text/plain": [
       "<Figure size 432x288 with 1 Axes>"
      ]
     },
     "metadata": {
      "needs_background": "light"
     },
     "output_type": "display_data"
    }
   ],
   "source": [
    "fig, ax = plt.subplots(1,1)\n",
    "ax.hist(LH_RH_SUB_CONTROL)"
   ]
  },
  {
   "cell_type": "code",
   "execution_count": 46,
   "id": "86698444-531f-4217-b8b0-58540edaf78c",
   "metadata": {},
   "outputs": [
    {
     "name": "stdout",
     "output_type": "stream",
     "text": [
      "mean: 360.3548608730155\n",
      "std: 1565.5728372941462\n"
     ]
    }
   ],
   "source": [
    "print(\"mean:\", np.mean(LH_RH_SUB_CONTROL))\n",
    "print(\"std:\", np.std(LH_RH_SUB_CONTROL))"
   ]
  },
  {
   "cell_type": "code",
   "execution_count": 47,
   "id": "aeb0f8b8-8020-436f-a915-5e11c578ddec",
   "metadata": {
    "tags": []
   },
   "outputs": [
    {
     "data": {
      "text/plain": [
       "(array([ 1.,  1.,  1.,  3., 18., 33.,  4.,  1.,  0.,  1.]),\n",
       " array([-119.843771 ,  -95.9467306,  -72.0496902,  -48.1526498,\n",
       "         -24.2556094,   -0.358569 ,   23.5384714,   47.4355118,\n",
       "          71.3325522,   95.2295926,  119.126633 ]),\n",
       " <BarContainer object of 10 artists>)"
      ]
     },
     "execution_count": 47,
     "metadata": {},
     "output_type": "execute_result"
    },
    {
     "data": {
      "image/png": "[encoded data removed]",
      "text/plain": [
       "<Figure size 432x288 with 1 Axes>"
      ]
     },
     "metadata": {
      "needs_background": "light"
     },
     "output_type": "display_data"
    }
   ],
   "source": [
    "fig, ax = plt.subplots(1,1)\n",
    "ax.hist(LH_RH_DIFF_SUB_CONTROL)"
   ]
  },
  {
   "cell_type": "code",
   "execution_count": 48,
   "id": "597eab3e-7179-401a-9824-153f88a38c36",
   "metadata": {},
   "outputs": [
    {
     "name": "stdout",
     "output_type": "stream",
     "text": [
      "mean: -0.0686737936507954\n",
      "std: 29.226771145607895\n"
     ]
    }
   ],
   "source": [
    "print(\"mean:\", np.mean(LH_RH_DIFF_SUB_CONTROL))\n",
    "print(\"std:\", np.std(LH_RH_DIFF_SUB_CONTROL))"
   ]
  },
  {
   "cell_type": "code",
   "execution_count": 49,
   "id": "738d7f13-fb11-4d49-9b53-4133ed052823",
   "metadata": {},
   "outputs": [],
   "source": [
    "LH_RH_SUB_PD = []\n",
    "LH_RH_DIFF_SUB_PD = []\n",
    "for PATIENT in PD[\"Patient\"].values:\n",
    "    results = glob.glob(os.path.join(FIG_PD, f\"{PATIENT}*.npy\"))\n",
    "    \n",
    "    for target in results:\n",
    "        LH, RH, LH_DIFF, RH_DIFF = np.load(target)\n",
    "        \n",
    "        LH_RH_SUB_PD.append(LH - RH)\n",
    "        LH_RH_DIFF_SUB_PD.append(LH_DIFF - RH_DIFF)"
   ]
  },
  {
   "cell_type": "code",
   "execution_count": 50,
   "id": "9e0a75d1-93b6-4147-9622-ebf03338e052",
   "metadata": {},
   "outputs": [
    {
     "data": {
      "text/plain": [
       "(array([ 1.,  1.,  1.,  2., 14., 71., 92., 35., 15.,  2.]),\n",
       " array([-10349.097979 ,  -8689.6530452,  -7030.2081114,  -5370.7631776,\n",
       "         -3711.3182438,  -2051.87331  ,   -392.4283762,   1267.0165576,\n",
       "          2926.4614914,   4585.9064252,   6245.351359 ]),\n",
       " <BarContainer object of 10 artists>)"
      ]
     },
     "execution_count": 50,
     "metadata": {},
     "output_type": "execute_result"
    },
    {
     "data": {
      "image/png": "[encoded data removed]",
      "text/plain": [
       "<Figure size 432x288 with 1 Axes>"
      ]
     },
     "metadata": {
      "needs_background": "light"
     },
     "output_type": "display_data"
    }
   ],
   "source": [
    "fig, ax = plt.subplots(1,1)\n",
    "ax.hist(LH_RH_SUB_PD)"
   ]
  },
  {
   "cell_type": "code",
   "execution_count": 51,
   "id": "060af9a4-de2e-4323-bd49-8db1f1787e38",
   "metadata": {},
   "outputs": [
    {
     "name": "stdout",
     "output_type": "stream",
     "text": [
      "mean: 142.97332588461543\n",
      "std: 1830.5223180195273\n"
     ]
    }
   ],
   "source": [
    "print(\"mean:\", np.mean(LH_RH_SUB_PD))\n",
    "print(\"std:\", np.std(LH_RH_SUB_PD))"
   ]
  },
  {
   "cell_type": "code",
   "execution_count": 52,
   "id": "e8870c60-2186-43f8-8649-bdd38e8f6080",
   "metadata": {
    "tags": []
   },
   "outputs": [
    {
     "data": {
      "text/plain": [
       "(array([  2.,   2.,   6.,  62., 147.,  13.,   1.,   0.,   0.,   1.]),\n",
       " array([-145.402474 , -109.2018494,  -73.0012248,  -36.8006002,\n",
       "          -0.5999756,   35.600649 ,   71.8012736,  108.0018982,\n",
       "         144.2025228,  180.4031474,  216.603772 ]),\n",
       " <BarContainer object of 10 artists>)"
      ]
     },
     "execution_count": 52,
     "metadata": {},
     "output_type": "execute_result"
    },
    {
     "data": {
      "image/png": "[encoded data removed]",
      "text/plain": [
       "<Figure size 432x288 with 1 Axes>"
      ]
     },
     "metadata": {
      "needs_background": "light"
     },
     "output_type": "display_data"
    }
   ],
   "source": [
    "fig, ax = plt.subplots(1,1)\n",
    "ax.hist(LH_RH_DIFF_SUB_PD)"
   ]
  },
  {
   "cell_type": "code",
   "execution_count": 43,
   "id": "75aac966-07aa-4bed-8fe2-39ee31bd2cbd",
   "metadata": {},
   "outputs": [
    {
     "name": "stdout",
     "output_type": "stream",
     "text": [
      "mean: 3.9423622564102545\n",
      "std: 27.75444782036892\n"
     ]
    }
   ],
   "source": [
    "print(\"mean:\", np.mean(LH_RH_DIFF_SUB_PD))\n",
    "print(\"std:\", np.std(LH_RH_DIFF_SUB_PD))"
   ]
  },
  {
   "cell_type": "markdown",
   "id": "7cfa7dea-a39d-4a26-b908-70df3c390324",
   "metadata": {},
   "source": [
    "---"
   ]
  },
  {
   "cell_type": "markdown",
   "id": "c8dbc264-fdb7-4a98-b7a6-88b58ee01b62",
   "metadata": {},
   "source": [
    "#### 두 개 같이"
   ]
  },
  {
   "cell_type": "code",
   "execution_count": 78,
   "id": "b70c5a4f-bd60-4f89-ba3e-a102caf8d0d1",
   "metadata": {},
   "outputs": [
    {
     "data": {
      "text/plain": [
       "<matplotlib.legend.Legend at 0x13c5f20d0>"
      ]
     },
     "execution_count": 78,
     "metadata": {},
     "output_type": "execute_result"
    },
    {
     "data": {
      "image/png": "[encoded data removed]",
      "text/plain": [
       "<Figure size 432x288 with 1 Axes>"
      ]
     },
     "metadata": {
      "needs_background": "light"
     },
     "output_type": "display_data"
    }
   ],
   "source": [
    "fig, ax = plt.subplots(1,1)\n",
    "ax.hist([LH_RH_SUB_CONTROL, LH_RH_SUB_PD], label=[\"Control\", \"PD\"], bins=100)\n",
    "ax.set_title(\"LH - RH SUB\")\n",
    "ax.set_xlim(-5000, 5000)\n",
    "ax.legend()"
   ]
  },
  {
   "cell_type": "code",
   "execution_count": 79,
   "id": "43f9879d-4364-42cf-832a-3700c3eb6e09",
   "metadata": {},
   "outputs": [
    {
     "data": {
      "text/plain": [
       "<matplotlib.legend.Legend at 0x13c7f3730>"
      ]
     },
     "execution_count": 79,
     "metadata": {},
     "output_type": "execute_result"
    },
    {
     "data": {
      "image/png": "[encoded data removed]",
      "text/plain": [
       "<Figure size 432x288 with 1 Axes>"
      ]
     },
     "metadata": {
      "needs_background": "light"
     },
     "output_type": "display_data"
    }
   ],
   "source": [
    "fig, ax = plt.subplots(1,1)\n",
    "ax.hist([LH_RH_DIFF_SUB_CONTROL, LH_RH_DIFF_SUB_PD], label=[\"Control\", \"PD\"], bins=100)\n",
    "ax.set_title(\"LH - RH DIFF SUB\")\n",
    "ax.legend()"
   ]
  },
  {
   "cell_type": "code",
   "execution_count": null,
   "id": "e4987550-0101-41d2-ba3c-a45f205dbb2c",
   "metadata": {},
   "outputs": [],
   "source": []
  }
 ],
 "metadata": {
  "kernelspec": {
   "display_name": "ml",
   "language": "python",
   "name": "ml"
  },
  "language_info": {
   "codemirror_mode": {
    "name": "ipython",
    "version": 3
   },
   "file_extension": ".py",
   "mimetype": "text/x-python",
   "name": "python",
   "nbconvert_exporter": "python",
   "pygments_lexer": "ipython3",
   "version": "3.9.10"
  }
 },
 "nbformat": 4,
 "nbformat_minor": 5
}
